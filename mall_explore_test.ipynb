{
 "metadata": {
  "language_info": {
   "codemirror_mode": {
    "name": "ipython",
    "version": 3
   },
   "file_extension": ".py",
   "mimetype": "text/x-python",
   "name": "python",
   "nbconvert_exporter": "python",
   "pygments_lexer": "ipython3",
   "version": "3.7.6-final"
  },
  "orig_nbformat": 2,
  "kernelspec": {
   "name": "Python 3.7.6 64-bit ('base': conda)",
   "display_name": "Python 3.7.6 64-bit ('base': conda)",
   "metadata": {
    "interpreter": {
     "hash": "a341a20733a12f8f6f8308d8372490ae5854d3694d6dfc398ec18c91c5bf5fd5"
    }
   }
  }
 },
 "nbformat": 4,
 "nbformat_minor": 2,
 "cells": [
  {
   "cell_type": "code",
   "execution_count": 1,
   "metadata": {},
   "outputs": [],
   "source": [
    "import pandas as pd\n",
    "from scipy import stats\n",
    "import numpy as np\n",
    "import matplotlib.pyplot as plt\n",
    "import seaborn as sns\n",
    "\n",
    "import env\n",
    "import os"
   ]
  },
  {
   "cell_type": "code",
   "execution_count": 2,
   "metadata": {},
   "outputs": [
    {
     "output_type": "execute_result",
     "data": {
      "text/plain": "4"
     },
     "metadata": {},
     "execution_count": 2
    }
   ],
   "source": [
    "2+2"
   ]
  },
  {
   "cell_type": "code",
   "execution_count": 3,
   "metadata": {
    "tags": []
   },
   "outputs": [
    {
     "output_type": "stream",
     "name": "stdout",
     "text": "Testing out the visuals in VS Code\n"
    }
   ],
   "source": [
    "print('Testing out the visuals in VS Code')"
   ]
  },
  {
   "cell_type": "code",
   "execution_count": 4,
   "metadata": {
    "tags": []
   },
   "outputs": [
    {
     "output_type": "stream",
     "name": "stdout",
     "text": "wrangle.py functions loaded successfully.\n"
    }
   ],
   "source": [
    "# Importing my env and wrangle files:\n",
    "import wrangle"
   ]
  },
  {
   "cell_type": "code",
   "execution_count": 5,
   "metadata": {
    "tags": []
   },
   "outputs": [
    {
     "output_type": "stream",
     "name": "stdout",
     "text": "Shape of train df: (1224, 6)\nShape of validate df: (216, 6)\nShape of test df: (255, 6)\n"
    },
    {
     "output_type": "execute_result",
     "data": {
      "text/plain": "     customer_id  monthly_charges  tenure  total_charges  contract_type_id  \\\n1540  7601-DHFWZ            24.00      48        1183.05                 3   \n1187  2017-CCBLH            20.00       8         141.60                 3   \n1106  0825-CPPQH            19.10      71        1372.45                 3   \n909   6733-LRIZX           108.95      35        4025.50                 3   \n1271  3274-NSDWE            19.60      68        1441.65                 3   \n\n     contract_type  total_charges_scaled  monthly_charges_scaled  \\\n1540      Two year              0.134470                0.054446   \n1187      Two year              0.014075                0.014486   \n1106      Two year              0.156365                0.005495   \n909       Two year              0.463068                0.903097   \n1271      Two year              0.164365                0.010490   \n\n      tenure_scaled  \n1540       0.661972  \n1187       0.098592  \n1106       0.985915  \n909        0.478873  \n1271       0.943662  ",
      "text/html": "<div>\n<style scoped>\n    .dataframe tbody tr th:only-of-type {\n        vertical-align: middle;\n    }\n\n    .dataframe tbody tr th {\n        vertical-align: top;\n    }\n\n    .dataframe thead th {\n        text-align: right;\n    }\n</style>\n<table border=\"1\" class=\"dataframe\">\n  <thead>\n    <tr style=\"text-align: right;\">\n      <th></th>\n      <th>customer_id</th>\n      <th>monthly_charges</th>\n      <th>tenure</th>\n      <th>total_charges</th>\n      <th>contract_type_id</th>\n      <th>contract_type</th>\n      <th>total_charges_scaled</th>\n      <th>monthly_charges_scaled</th>\n      <th>tenure_scaled</th>\n    </tr>\n  </thead>\n  <tbody>\n    <tr>\n      <th>1540</th>\n      <td>7601-DHFWZ</td>\n      <td>24.00</td>\n      <td>48</td>\n      <td>1183.05</td>\n      <td>3</td>\n      <td>Two year</td>\n      <td>0.134470</td>\n      <td>0.054446</td>\n      <td>0.661972</td>\n    </tr>\n    <tr>\n      <th>1187</th>\n      <td>2017-CCBLH</td>\n      <td>20.00</td>\n      <td>8</td>\n      <td>141.60</td>\n      <td>3</td>\n      <td>Two year</td>\n      <td>0.014075</td>\n      <td>0.014486</td>\n      <td>0.098592</td>\n    </tr>\n    <tr>\n      <th>1106</th>\n      <td>0825-CPPQH</td>\n      <td>19.10</td>\n      <td>71</td>\n      <td>1372.45</td>\n      <td>3</td>\n      <td>Two year</td>\n      <td>0.156365</td>\n      <td>0.005495</td>\n      <td>0.985915</td>\n    </tr>\n    <tr>\n      <th>909</th>\n      <td>6733-LRIZX</td>\n      <td>108.95</td>\n      <td>35</td>\n      <td>4025.50</td>\n      <td>3</td>\n      <td>Two year</td>\n      <td>0.463068</td>\n      <td>0.903097</td>\n      <td>0.478873</td>\n    </tr>\n    <tr>\n      <th>1271</th>\n      <td>3274-NSDWE</td>\n      <td>19.60</td>\n      <td>68</td>\n      <td>1441.65</td>\n      <td>3</td>\n      <td>Two year</td>\n      <td>0.164365</td>\n      <td>0.010490</td>\n      <td>0.943662</td>\n    </tr>\n  </tbody>\n</table>\n</div>"
     },
     "metadata": {},
     "execution_count": 5
    }
   ],
   "source": [
    "train, validate, test = wrangle.wrangle_telco()\n",
    "train.head()"
   ]
  },
  {
   "cell_type": "code",
   "execution_count": null,
   "metadata": {},
   "outputs": [],
   "source": []
  }
 ]
}