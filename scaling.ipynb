{
 "cells": [
  {
   "cell_type": "code",
   "execution_count": 105,
   "metadata": {},
   "outputs": [],
   "source": [
    "import pandas as pd\n",
    "import numpy as np\n",
    "import matplotlib.pyplot as plt\n",
    "import seaborn as sns\n",
    "\n",
    "from sklearn.model_selection import train_test_split\n",
    "import sklearn.preprocessing\n",
    "from sklearn.preprocessing import LabelEncoder\n",
    "\n",
    "import os\n",
    "import env"
   ]
  },
  {
   "cell_type": "code",
   "execution_count": 4,
   "metadata": {},
   "outputs": [
    {
     "name": "stdout",
     "output_type": "stream",
     "text": [
      "wrangle.py functions loaded successfully.\n"
     ]
    }
   ],
   "source": [
    "import acquire\n",
    "import wrangle"
   ]
  },
  {
   "cell_type": "code",
   "execution_count": 14,
   "metadata": {},
   "outputs": [
    {
     "data": {
      "text/html": [
       "<div>\n",
       "<style scoped>\n",
       "    .dataframe tbody tr th:only-of-type {\n",
       "        vertical-align: middle;\n",
       "    }\n",
       "\n",
       "    .dataframe tbody tr th {\n",
       "        vertical-align: top;\n",
       "    }\n",
       "\n",
       "    .dataframe thead th {\n",
       "        text-align: right;\n",
       "    }\n",
       "</style>\n",
       "<table border=\"1\" class=\"dataframe\">\n",
       "  <thead>\n",
       "    <tr style=\"text-align: right;\">\n",
       "      <th></th>\n",
       "      <th>customer_id</th>\n",
       "      <th>monthly_charges</th>\n",
       "      <th>tenure</th>\n",
       "      <th>total_charges</th>\n",
       "      <th>contract_type_id</th>\n",
       "      <th>contract_type</th>\n",
       "    </tr>\n",
       "  </thead>\n",
       "  <tbody>\n",
       "    <tr>\n",
       "      <th>0</th>\n",
       "      <td>0016-QLJIS</td>\n",
       "      <td>90.45</td>\n",
       "      <td>65</td>\n",
       "      <td>5957.9</td>\n",
       "      <td>3</td>\n",
       "      <td>Two year</td>\n",
       "    </tr>\n",
       "    <tr>\n",
       "      <th>1</th>\n",
       "      <td>0017-DINOC</td>\n",
       "      <td>45.20</td>\n",
       "      <td>54</td>\n",
       "      <td>2460.55</td>\n",
       "      <td>3</td>\n",
       "      <td>Two year</td>\n",
       "    </tr>\n",
       "    <tr>\n",
       "      <th>2</th>\n",
       "      <td>0019-GFNTW</td>\n",
       "      <td>45.05</td>\n",
       "      <td>56</td>\n",
       "      <td>2560.1</td>\n",
       "      <td>3</td>\n",
       "      <td>Two year</td>\n",
       "    </tr>\n",
       "    <tr>\n",
       "      <th>3</th>\n",
       "      <td>0056-EPFBG</td>\n",
       "      <td>39.40</td>\n",
       "      <td>20</td>\n",
       "      <td>825.4</td>\n",
       "      <td>3</td>\n",
       "      <td>Two year</td>\n",
       "    </tr>\n",
       "    <tr>\n",
       "      <th>4</th>\n",
       "      <td>0078-XZMHT</td>\n",
       "      <td>85.15</td>\n",
       "      <td>72</td>\n",
       "      <td>6316.2</td>\n",
       "      <td>3</td>\n",
       "      <td>Two year</td>\n",
       "    </tr>\n",
       "    <tr>\n",
       "      <th>...</th>\n",
       "      <td>...</td>\n",
       "      <td>...</td>\n",
       "      <td>...</td>\n",
       "      <td>...</td>\n",
       "      <td>...</td>\n",
       "      <td>...</td>\n",
       "    </tr>\n",
       "    <tr>\n",
       "      <th>1690</th>\n",
       "      <td>9950-MTGYX</td>\n",
       "      <td>20.30</td>\n",
       "      <td>28</td>\n",
       "      <td>487.95</td>\n",
       "      <td>3</td>\n",
       "      <td>Two year</td>\n",
       "    </tr>\n",
       "    <tr>\n",
       "      <th>1691</th>\n",
       "      <td>9953-ZMKSM</td>\n",
       "      <td>25.25</td>\n",
       "      <td>63</td>\n",
       "      <td>1559.3</td>\n",
       "      <td>3</td>\n",
       "      <td>Two year</td>\n",
       "    </tr>\n",
       "    <tr>\n",
       "      <th>1692</th>\n",
       "      <td>9964-WBQDJ</td>\n",
       "      <td>24.40</td>\n",
       "      <td>71</td>\n",
       "      <td>1725.4</td>\n",
       "      <td>3</td>\n",
       "      <td>Two year</td>\n",
       "    </tr>\n",
       "    <tr>\n",
       "      <th>1693</th>\n",
       "      <td>9972-EWRJS</td>\n",
       "      <td>19.25</td>\n",
       "      <td>67</td>\n",
       "      <td>1372.9</td>\n",
       "      <td>3</td>\n",
       "      <td>Two year</td>\n",
       "    </tr>\n",
       "    <tr>\n",
       "      <th>1694</th>\n",
       "      <td>9975-GPKZU</td>\n",
       "      <td>19.75</td>\n",
       "      <td>46</td>\n",
       "      <td>856.5</td>\n",
       "      <td>3</td>\n",
       "      <td>Two year</td>\n",
       "    </tr>\n",
       "  </tbody>\n",
       "</table>\n",
       "<p>1695 rows × 6 columns</p>\n",
       "</div>"
      ],
      "text/plain": [
       "     customer_id  monthly_charges  tenure total_charges  contract_type_id  \\\n",
       "0     0016-QLJIS            90.45      65        5957.9                 3   \n",
       "1     0017-DINOC            45.20      54       2460.55                 3   \n",
       "2     0019-GFNTW            45.05      56        2560.1                 3   \n",
       "3     0056-EPFBG            39.40      20         825.4                 3   \n",
       "4     0078-XZMHT            85.15      72        6316.2                 3   \n",
       "...          ...              ...     ...           ...               ...   \n",
       "1690  9950-MTGYX            20.30      28        487.95                 3   \n",
       "1691  9953-ZMKSM            25.25      63        1559.3                 3   \n",
       "1692  9964-WBQDJ            24.40      71        1725.4                 3   \n",
       "1693  9972-EWRJS            19.25      67        1372.9                 3   \n",
       "1694  9975-GPKZU            19.75      46         856.5                 3   \n",
       "\n",
       "     contract_type  \n",
       "0         Two year  \n",
       "1         Two year  \n",
       "2         Two year  \n",
       "3         Two year  \n",
       "4         Two year  \n",
       "...            ...  \n",
       "1690      Two year  \n",
       "1691      Two year  \n",
       "1692      Two year  \n",
       "1693      Two year  \n",
       "1694      Two year  \n",
       "\n",
       "[1695 rows x 6 columns]"
      ]
     },
     "execution_count": 14,
     "metadata": {},
     "output_type": "execute_result"
    }
   ],
   "source": [
    "df = wrangle.get_telco_data_two_year()\n",
    "df"
   ]
  },
  {
   "cell_type": "code",
   "execution_count": 15,
   "metadata": {},
   "outputs": [
    {
     "name": "stdout",
     "output_type": "stream",
     "text": [
      "Shape of train df: (1217, 6)\n",
      "Shape of validate df: (215, 6)\n",
      "Shape of test df: (253, 6)\n"
     ]
    }
   ],
   "source": [
    "train, validate, test = wrangle.prep_acquired_telco()"
   ]
  },
  {
   "cell_type": "code",
   "execution_count": 16,
   "metadata": {},
   "outputs": [
    {
     "data": {
      "text/html": [
       "<div>\n",
       "<style scoped>\n",
       "    .dataframe tbody tr th:only-of-type {\n",
       "        vertical-align: middle;\n",
       "    }\n",
       "\n",
       "    .dataframe tbody tr th {\n",
       "        vertical-align: top;\n",
       "    }\n",
       "\n",
       "    .dataframe thead th {\n",
       "        text-align: right;\n",
       "    }\n",
       "</style>\n",
       "<table border=\"1\" class=\"dataframe\">\n",
       "  <thead>\n",
       "    <tr style=\"text-align: right;\">\n",
       "      <th></th>\n",
       "      <th>customer_id</th>\n",
       "      <th>monthly_charges</th>\n",
       "      <th>tenure</th>\n",
       "      <th>total_charges</th>\n",
       "      <th>contract_type_id</th>\n",
       "      <th>contract_type</th>\n",
       "    </tr>\n",
       "  </thead>\n",
       "  <tbody>\n",
       "    <tr>\n",
       "      <th>1050</th>\n",
       "      <td>9861-PDSZP</td>\n",
       "      <td>108.05</td>\n",
       "      <td>72</td>\n",
       "      <td>7806.60</td>\n",
       "      <td>3</td>\n",
       "      <td>Two year</td>\n",
       "    </tr>\n",
       "    <tr>\n",
       "      <th>971</th>\n",
       "      <td>8041-TMEID</td>\n",
       "      <td>108.50</td>\n",
       "      <td>63</td>\n",
       "      <td>6991.90</td>\n",
       "      <td>3</td>\n",
       "      <td>Two year</td>\n",
       "    </tr>\n",
       "    <tr>\n",
       "      <th>590</th>\n",
       "      <td>9443-JUBUO</td>\n",
       "      <td>65.25</td>\n",
       "      <td>72</td>\n",
       "      <td>4478.85</td>\n",
       "      <td>3</td>\n",
       "      <td>Two year</td>\n",
       "    </tr>\n",
       "    <tr>\n",
       "      <th>588</th>\n",
       "      <td>9415-ZNBSX</td>\n",
       "      <td>89.00</td>\n",
       "      <td>70</td>\n",
       "      <td>6293.20</td>\n",
       "      <td>3</td>\n",
       "      <td>Two year</td>\n",
       "    </tr>\n",
       "    <tr>\n",
       "      <th>1322</th>\n",
       "      <td>3976-HXHCE</td>\n",
       "      <td>19.30</td>\n",
       "      <td>72</td>\n",
       "      <td>1414.80</td>\n",
       "      <td>3</td>\n",
       "      <td>Two year</td>\n",
       "    </tr>\n",
       "    <tr>\n",
       "      <th>...</th>\n",
       "      <td>...</td>\n",
       "      <td>...</td>\n",
       "      <td>...</td>\n",
       "      <td>...</td>\n",
       "      <td>...</td>\n",
       "      <td>...</td>\n",
       "    </tr>\n",
       "    <tr>\n",
       "      <th>1218</th>\n",
       "      <td>2481-SBOYW</td>\n",
       "      <td>25.00</td>\n",
       "      <td>61</td>\n",
       "      <td>1498.35</td>\n",
       "      <td>3</td>\n",
       "      <td>Two year</td>\n",
       "    </tr>\n",
       "    <tr>\n",
       "      <th>355</th>\n",
       "      <td>5915-ANOEI</td>\n",
       "      <td>79.15</td>\n",
       "      <td>70</td>\n",
       "      <td>5536.50</td>\n",
       "      <td>3</td>\n",
       "      <td>Two year</td>\n",
       "    </tr>\n",
       "    <tr>\n",
       "      <th>1085</th>\n",
       "      <td>0505-SPOOW</td>\n",
       "      <td>19.80</td>\n",
       "      <td>70</td>\n",
       "      <td>1397.65</td>\n",
       "      <td>3</td>\n",
       "      <td>Two year</td>\n",
       "    </tr>\n",
       "    <tr>\n",
       "      <th>613</th>\n",
       "      <td>9795-NREXC</td>\n",
       "      <td>85.00</td>\n",
       "      <td>64</td>\n",
       "      <td>5484.40</td>\n",
       "      <td>3</td>\n",
       "      <td>Two year</td>\n",
       "    </tr>\n",
       "    <tr>\n",
       "      <th>215</th>\n",
       "      <td>3704-IEAXF</td>\n",
       "      <td>53.65</td>\n",
       "      <td>72</td>\n",
       "      <td>3784.00</td>\n",
       "      <td>3</td>\n",
       "      <td>Two year</td>\n",
       "    </tr>\n",
       "  </tbody>\n",
       "</table>\n",
       "<p>1217 rows × 6 columns</p>\n",
       "</div>"
      ],
      "text/plain": [
       "     customer_id  monthly_charges  tenure  total_charges  contract_type_id  \\\n",
       "1050  9861-PDSZP           108.05      72        7806.60                 3   \n",
       "971   8041-TMEID           108.50      63        6991.90                 3   \n",
       "590   9443-JUBUO            65.25      72        4478.85                 3   \n",
       "588   9415-ZNBSX            89.00      70        6293.20                 3   \n",
       "1322  3976-HXHCE            19.30      72        1414.80                 3   \n",
       "...          ...              ...     ...            ...               ...   \n",
       "1218  2481-SBOYW            25.00      61        1498.35                 3   \n",
       "355   5915-ANOEI            79.15      70        5536.50                 3   \n",
       "1085  0505-SPOOW            19.80      70        1397.65                 3   \n",
       "613   9795-NREXC            85.00      64        5484.40                 3   \n",
       "215   3704-IEAXF            53.65      72        3784.00                 3   \n",
       "\n",
       "     contract_type  \n",
       "1050      Two year  \n",
       "971       Two year  \n",
       "590       Two year  \n",
       "588       Two year  \n",
       "1322      Two year  \n",
       "...            ...  \n",
       "1218      Two year  \n",
       "355       Two year  \n",
       "1085      Two year  \n",
       "613       Two year  \n",
       "215       Two year  \n",
       "\n",
       "[1217 rows x 6 columns]"
      ]
     },
     "execution_count": 16,
     "metadata": {},
     "output_type": "execute_result"
    }
   ],
   "source": [
    "train"
   ]
  },
  {
   "cell_type": "code",
   "execution_count": null,
   "metadata": {},
   "outputs": [],
   "source": []
  },
  {
   "cell_type": "markdown",
   "metadata": {},
   "source": [
    "# Exercises"
   ]
  },
  {
   "cell_type": "code",
   "execution_count": 19,
   "metadata": {},
   "outputs": [
    {
     "data": {
      "text/plain": [
       "<matplotlib.axes._subplots.AxesSubplot at 0x7fddca8f9250>"
      ]
     },
     "execution_count": 19,
     "metadata": {},
     "output_type": "execute_result"
    },
    {
     "data": {
      "image/png": "[encoded data removed]",
      "text/plain": [
       "<Figure size 432x288 with 1 Axes>"
      ]
     },
     "metadata": {
      "needs_background": "light"
     },
     "output_type": "display_data"
    }
   ],
   "source": [
    "# Initial visualization of the data:\n",
    "\n",
    "train.plot.scatter(y = 'tenure', x = 'monthly_charges')"
   ]
  },
  {
   "cell_type": "code",
   "execution_count": 20,
   "metadata": {},
   "outputs": [
    {
     "data": {
      "text/html": [
       "<div>\n",
       "<style scoped>\n",
       "    .dataframe tbody tr th:only-of-type {\n",
       "        vertical-align: middle;\n",
       "    }\n",
       "\n",
       "    .dataframe tbody tr th {\n",
       "        vertical-align: top;\n",
       "    }\n",
       "\n",
       "    .dataframe thead th {\n",
       "        text-align: right;\n",
       "    }\n",
       "</style>\n",
       "<table border=\"1\" class=\"dataframe\">\n",
       "  <thead>\n",
       "    <tr style=\"text-align: right;\">\n",
       "      <th></th>\n",
       "      <th>monthly_charges</th>\n",
       "      <th>tenure</th>\n",
       "      <th>total_charges</th>\n",
       "      <th>contract_type_id</th>\n",
       "    </tr>\n",
       "  </thead>\n",
       "  <tbody>\n",
       "    <tr>\n",
       "      <th>count</th>\n",
       "      <td>1217.000000</td>\n",
       "      <td>1217.000000</td>\n",
       "      <td>1217.000000</td>\n",
       "      <td>1217.0</td>\n",
       "    </tr>\n",
       "    <tr>\n",
       "      <th>mean</th>\n",
       "      <td>60.459121</td>\n",
       "      <td>57.133114</td>\n",
       "      <td>3701.473870</td>\n",
       "      <td>3.0</td>\n",
       "    </tr>\n",
       "    <tr>\n",
       "      <th>std</th>\n",
       "      <td>34.586051</td>\n",
       "      <td>17.641590</td>\n",
       "      <td>2567.221506</td>\n",
       "      <td>0.0</td>\n",
       "    </tr>\n",
       "    <tr>\n",
       "      <th>min</th>\n",
       "      <td>18.400000</td>\n",
       "      <td>1.000000</td>\n",
       "      <td>20.350000</td>\n",
       "      <td>3.0</td>\n",
       "    </tr>\n",
       "    <tr>\n",
       "      <th>25%</th>\n",
       "      <td>23.950000</td>\n",
       "      <td>48.000000</td>\n",
       "      <td>1275.600000</td>\n",
       "      <td>3.0</td>\n",
       "    </tr>\n",
       "    <tr>\n",
       "      <th>50%</th>\n",
       "      <td>64.150000</td>\n",
       "      <td>64.000000</td>\n",
       "      <td>3533.600000</td>\n",
       "      <td>3.0</td>\n",
       "    </tr>\n",
       "    <tr>\n",
       "      <th>75%</th>\n",
       "      <td>89.950000</td>\n",
       "      <td>71.000000</td>\n",
       "      <td>5986.450000</td>\n",
       "      <td>3.0</td>\n",
       "    </tr>\n",
       "    <tr>\n",
       "      <th>max</th>\n",
       "      <td>118.750000</td>\n",
       "      <td>72.000000</td>\n",
       "      <td>8672.450000</td>\n",
       "      <td>3.0</td>\n",
       "    </tr>\n",
       "  </tbody>\n",
       "</table>\n",
       "</div>"
      ],
      "text/plain": [
       "       monthly_charges       tenure  total_charges  contract_type_id\n",
       "count      1217.000000  1217.000000    1217.000000            1217.0\n",
       "mean         60.459121    57.133114    3701.473870               3.0\n",
       "std          34.586051    17.641590    2567.221506               0.0\n",
       "min          18.400000     1.000000      20.350000               3.0\n",
       "25%          23.950000    48.000000    1275.600000               3.0\n",
       "50%          64.150000    64.000000    3533.600000               3.0\n",
       "75%          89.950000    71.000000    5986.450000               3.0\n",
       "max         118.750000    72.000000    8672.450000               3.0"
      ]
     },
     "execution_count": 20,
     "metadata": {},
     "output_type": "execute_result"
    }
   ],
   "source": [
    "train.describe()"
   ]
  },
  {
   "cell_type": "code",
   "execution_count": 23,
   "metadata": {},
   "outputs": [
    {
     "data": {
      "image/png": "[encoded data removed]",
      "text/plain": [
       "<Figure size 432x288 with 1 Axes>"
      ]
     },
     "metadata": {
      "needs_background": "light"
     },
     "output_type": "display_data"
    }
   ],
   "source": [
    "train.total_charges.plot.hist()\n",
    "plt.show()"
   ]
  },
  {
   "cell_type": "markdown",
   "metadata": {},
   "source": [
    "I've already split the datasets into train, validate and test, so "
   ]
  },
  {
   "cell_type": "markdown",
   "metadata": {},
   "source": [
    "#### 1. Apply the scalers we talked about in this lesson to your data and visualize the results in a way you find helpful.\n",
    "\n",
    "Make visualizations that enhance my own understanding of the data. Can be the ones used in the lesson, or can be my own."
   ]
  },
  {
   "cell_type": "code",
   "execution_count": 55,
   "metadata": {},
   "outputs": [],
   "source": [
    "# 1. Creating the scaler object:\n",
    "\n",
    "scaler_minmax = sklearn.preprocessing.MinMaxScaler()\n",
    "\n",
    "# 2. Fitting ONLY do the train dataset. Remember, this is only useful on continuous variables, not categorical variables:\n",
    "scaler_minmax.fit(train[['total_charges', 'monthly_charges', 'tenure']])\n",
    "\n",
    "# 3. Now use the object on all three datasets. Remember, I'm using this object which was fitted to the train dataset:\n",
    "train[['total_charges', 'monthly_charges', 'tenure']] = scaler_minmax.transform(train[['total_charges', 'monthly_charges', 'tenure']])\n",
    "validate[['total_charges', 'monthly_charges', 'tenure']] = scaler_minmax.transform(validate[['total_charges', 'monthly_charges', 'tenure']])\n",
    "test[['total_charges', 'monthly_charges', 'tenure']] = scaler_minmax.transform(test[['total_charges', 'monthly_charges', 'tenure']])"
   ]
  },
  {
   "cell_type": "code",
   "execution_count": 56,
   "metadata": {},
   "outputs": [
    {
     "data": {
      "text/plain": [
       "<matplotlib.axes._subplots.AxesSubplot at 0x7fddcad81c90>"
      ]
     },
     "execution_count": 56,
     "metadata": {},
     "output_type": "execute_result"
    },
    {
     "data": {
      "image/png": "[encoded data removed]",
      "text/plain": [
       "<Figure size 432x288 with 1 Axes>"
      ]
     },
     "metadata": {
      "needs_background": "light"
     },
     "output_type": "display_data"
    }
   ],
   "source": [
    "# Note how the x axis range is between 0 and 1.\n",
    "\n",
    "train.total_charges.plot.hist()"
   ]
  },
  {
   "cell_type": "code",
   "execution_count": 57,
   "metadata": {},
   "outputs": [
    {
     "data": {
      "text/plain": [
       "<matplotlib.axes._subplots.AxesSubplot at 0x7fddd14ab350>"
      ]
     },
     "execution_count": 57,
     "metadata": {},
     "output_type": "execute_result"
    },
    {
     "data": {
      "image/png": "[encoded data removed]",
      "text/plain": [
       "<Figure size 432x288 with 1 Axes>"
      ]
     },
     "metadata": {
      "needs_background": "light"
     },
     "output_type": "display_data"
    }
   ],
   "source": [
    "# Same thing, the x axis has changed, but the shape of the data remains the same.\n",
    "\n",
    "train.plot.scatter(y = 'tenure', x = 'monthly_charges')"
   ]
  },
  {
   "cell_type": "code",
   "execution_count": 58,
   "metadata": {},
   "outputs": [
    {
     "data": {
      "text/plain": [
       "<seaborn.axisgrid.JointGrid at 0x7fddcaf65bd0>"
      ]
     },
     "execution_count": 58,
     "metadata": {},
     "output_type": "execute_result"
    },
    {
     "data": {
      "image/png": "[encoded data removed]",
      "text/plain": [
       "<Figure size 432x432 with 3 Axes>"
      ]
     },
     "metadata": {
      "needs_background": "light"
     },
     "output_type": "display_data"
    }
   ],
   "source": [
    "sns.jointplot(data = train, x = \"total_charges\", y = \"tenure\")"
   ]
  },
  {
   "cell_type": "code",
   "execution_count": 36,
   "metadata": {},
   "outputs": [
    {
     "name": "stdout",
     "output_type": "stream",
     "text": [
      "Object `sklearn.inverse_transform` not found.\n"
     ]
    }
   ],
   "source": [
    "sklearn.inverse_transform?"
   ]
  },
  {
   "cell_type": "markdown",
   "metadata": {},
   "source": [
    "#### Applying the standard scaling process to the data:"
   ]
  },
  {
   "cell_type": "code",
   "execution_count": 59,
   "metadata": {},
   "outputs": [
    {
     "name": "stdout",
     "output_type": "stream",
     "text": [
      "Shape of train df: (1217, 6)\n",
      "Shape of validate df: (215, 6)\n",
      "Shape of test df: (253, 6)\n"
     ]
    },
    {
     "data": {
      "text/html": [
       "<div>\n",
       "<style scoped>\n",
       "    .dataframe tbody tr th:only-of-type {\n",
       "        vertical-align: middle;\n",
       "    }\n",
       "\n",
       "    .dataframe tbody tr th {\n",
       "        vertical-align: top;\n",
       "    }\n",
       "\n",
       "    .dataframe thead th {\n",
       "        text-align: right;\n",
       "    }\n",
       "</style>\n",
       "<table border=\"1\" class=\"dataframe\">\n",
       "  <thead>\n",
       "    <tr style=\"text-align: right;\">\n",
       "      <th></th>\n",
       "      <th>customer_id</th>\n",
       "      <th>monthly_charges</th>\n",
       "      <th>tenure</th>\n",
       "      <th>total_charges</th>\n",
       "      <th>contract_type_id</th>\n",
       "      <th>contract_type</th>\n",
       "    </tr>\n",
       "  </thead>\n",
       "  <tbody>\n",
       "    <tr>\n",
       "      <th>1050</th>\n",
       "      <td>9861-PDSZP</td>\n",
       "      <td>108.05</td>\n",
       "      <td>72</td>\n",
       "      <td>7806.60</td>\n",
       "      <td>3</td>\n",
       "      <td>Two year</td>\n",
       "    </tr>\n",
       "    <tr>\n",
       "      <th>971</th>\n",
       "      <td>8041-TMEID</td>\n",
       "      <td>108.50</td>\n",
       "      <td>63</td>\n",
       "      <td>6991.90</td>\n",
       "      <td>3</td>\n",
       "      <td>Two year</td>\n",
       "    </tr>\n",
       "    <tr>\n",
       "      <th>590</th>\n",
       "      <td>9443-JUBUO</td>\n",
       "      <td>65.25</td>\n",
       "      <td>72</td>\n",
       "      <td>4478.85</td>\n",
       "      <td>3</td>\n",
       "      <td>Two year</td>\n",
       "    </tr>\n",
       "    <tr>\n",
       "      <th>588</th>\n",
       "      <td>9415-ZNBSX</td>\n",
       "      <td>89.00</td>\n",
       "      <td>70</td>\n",
       "      <td>6293.20</td>\n",
       "      <td>3</td>\n",
       "      <td>Two year</td>\n",
       "    </tr>\n",
       "    <tr>\n",
       "      <th>1322</th>\n",
       "      <td>3976-HXHCE</td>\n",
       "      <td>19.30</td>\n",
       "      <td>72</td>\n",
       "      <td>1414.80</td>\n",
       "      <td>3</td>\n",
       "      <td>Two year</td>\n",
       "    </tr>\n",
       "    <tr>\n",
       "      <th>...</th>\n",
       "      <td>...</td>\n",
       "      <td>...</td>\n",
       "      <td>...</td>\n",
       "      <td>...</td>\n",
       "      <td>...</td>\n",
       "      <td>...</td>\n",
       "    </tr>\n",
       "    <tr>\n",
       "      <th>1218</th>\n",
       "      <td>2481-SBOYW</td>\n",
       "      <td>25.00</td>\n",
       "      <td>61</td>\n",
       "      <td>1498.35</td>\n",
       "      <td>3</td>\n",
       "      <td>Two year</td>\n",
       "    </tr>\n",
       "    <tr>\n",
       "      <th>355</th>\n",
       "      <td>5915-ANOEI</td>\n",
       "      <td>79.15</td>\n",
       "      <td>70</td>\n",
       "      <td>5536.50</td>\n",
       "      <td>3</td>\n",
       "      <td>Two year</td>\n",
       "    </tr>\n",
       "    <tr>\n",
       "      <th>1085</th>\n",
       "      <td>0505-SPOOW</td>\n",
       "      <td>19.80</td>\n",
       "      <td>70</td>\n",
       "      <td>1397.65</td>\n",
       "      <td>3</td>\n",
       "      <td>Two year</td>\n",
       "    </tr>\n",
       "    <tr>\n",
       "      <th>613</th>\n",
       "      <td>9795-NREXC</td>\n",
       "      <td>85.00</td>\n",
       "      <td>64</td>\n",
       "      <td>5484.40</td>\n",
       "      <td>3</td>\n",
       "      <td>Two year</td>\n",
       "    </tr>\n",
       "    <tr>\n",
       "      <th>215</th>\n",
       "      <td>3704-IEAXF</td>\n",
       "      <td>53.65</td>\n",
       "      <td>72</td>\n",
       "      <td>3784.00</td>\n",
       "      <td>3</td>\n",
       "      <td>Two year</td>\n",
       "    </tr>\n",
       "  </tbody>\n",
       "</table>\n",
       "<p>1217 rows × 6 columns</p>\n",
       "</div>"
      ],
      "text/plain": [
       "     customer_id  monthly_charges  tenure  total_charges  contract_type_id  \\\n",
       "1050  9861-PDSZP           108.05      72        7806.60                 3   \n",
       "971   8041-TMEID           108.50      63        6991.90                 3   \n",
       "590   9443-JUBUO            65.25      72        4478.85                 3   \n",
       "588   9415-ZNBSX            89.00      70        6293.20                 3   \n",
       "1322  3976-HXHCE            19.30      72        1414.80                 3   \n",
       "...          ...              ...     ...            ...               ...   \n",
       "1218  2481-SBOYW            25.00      61        1498.35                 3   \n",
       "355   5915-ANOEI            79.15      70        5536.50                 3   \n",
       "1085  0505-SPOOW            19.80      70        1397.65                 3   \n",
       "613   9795-NREXC            85.00      64        5484.40                 3   \n",
       "215   3704-IEAXF            53.65      72        3784.00                 3   \n",
       "\n",
       "     contract_type  \n",
       "1050      Two year  \n",
       "971       Two year  \n",
       "590       Two year  \n",
       "588       Two year  \n",
       "1322      Two year  \n",
       "...            ...  \n",
       "1218      Two year  \n",
       "355       Two year  \n",
       "1085      Two year  \n",
       "613       Two year  \n",
       "215       Two year  \n",
       "\n",
       "[1217 rows x 6 columns]"
      ]
     },
     "execution_count": 59,
     "metadata": {},
     "output_type": "execute_result"
    }
   ],
   "source": [
    "# Reimporting data under another train/validate/test dataset:\n",
    "\n",
    "train2, validate2, test2 = wrangle.prep_acquired_telco()\n",
    "train2"
   ]
  },
  {
   "cell_type": "code",
   "execution_count": 60,
   "metadata": {},
   "outputs": [
    {
     "data": {
      "image/png": "[encoded data removed]",
      "text/plain": [
       "<Figure size 432x288 with 1 Axes>"
      ]
     },
     "metadata": {
      "needs_background": "light"
     },
     "output_type": "display_data"
    }
   ],
   "source": [
    "train2.total_charges.plot.hist()\n",
    "plt.show()"
   ]
  },
  {
   "cell_type": "code",
   "execution_count": 61,
   "metadata": {},
   "outputs": [],
   "source": [
    "# 1. Creating the scaler object:\n",
    "\n",
    "scaler = sklearn.preprocessing.StandardScaler()\n",
    "\n",
    "# 2. Fitting ONLY do the train dataset. Remember, this is only useful on continuous variables, not categorical variables:\n",
    "scaler.fit(train2[['total_charges', 'monthly_charges', 'tenure']])\n",
    "\n",
    "# 3. Now use the object on all three datasets. Remember, I'm using this object which was fitted to the train dataset:\n",
    "train2[['total_charges', 'monthly_charges', 'tenure']] = scaler.transform(train2[['total_charges', 'monthly_charges', 'tenure']])\n",
    "validate2[['total_charges', 'monthly_charges', 'tenure']] = scaler.transform(validate2[['total_charges', 'monthly_charges', 'tenure']])\n",
    "test2[['total_charges', 'monthly_charges', 'tenure']] = scaler.transform(test2[['total_charges', 'monthly_charges', 'tenure']])"
   ]
  },
  {
   "cell_type": "code",
   "execution_count": 62,
   "metadata": {},
   "outputs": [
    {
     "data": {
      "image/png": "[encoded data removed]",
      "text/plain": [
       "<Figure size 432x288 with 1 Axes>"
      ]
     },
     "metadata": {
      "needs_background": "light"
     },
     "output_type": "display_data"
    }
   ],
   "source": [
    "train2.total_charges.plot.hist()\n",
    "plt.show()"
   ]
  },
  {
   "cell_type": "code",
   "execution_count": 42,
   "metadata": {},
   "outputs": [
    {
     "name": "stdout",
     "output_type": "stream",
     "text": [
      "Shape of train df: (1217, 6)\n",
      "Shape of validate df: (215, 6)\n",
      "Shape of test df: (253, 6)\n"
     ]
    },
    {
     "data": {
      "text/html": [
       "<div>\n",
       "<style scoped>\n",
       "    .dataframe tbody tr th:only-of-type {\n",
       "        vertical-align: middle;\n",
       "    }\n",
       "\n",
       "    .dataframe tbody tr th {\n",
       "        vertical-align: top;\n",
       "    }\n",
       "\n",
       "    .dataframe thead th {\n",
       "        text-align: right;\n",
       "    }\n",
       "</style>\n",
       "<table border=\"1\" class=\"dataframe\">\n",
       "  <thead>\n",
       "    <tr style=\"text-align: right;\">\n",
       "      <th></th>\n",
       "      <th>customer_id</th>\n",
       "      <th>monthly_charges</th>\n",
       "      <th>tenure</th>\n",
       "      <th>total_charges</th>\n",
       "      <th>contract_type_id</th>\n",
       "      <th>contract_type</th>\n",
       "    </tr>\n",
       "  </thead>\n",
       "  <tbody>\n",
       "    <tr>\n",
       "      <th>1050</th>\n",
       "      <td>9861-PDSZP</td>\n",
       "      <td>108.05</td>\n",
       "      <td>72</td>\n",
       "      <td>7806.60</td>\n",
       "      <td>3</td>\n",
       "      <td>Two year</td>\n",
       "    </tr>\n",
       "    <tr>\n",
       "      <th>971</th>\n",
       "      <td>8041-TMEID</td>\n",
       "      <td>108.50</td>\n",
       "      <td>63</td>\n",
       "      <td>6991.90</td>\n",
       "      <td>3</td>\n",
       "      <td>Two year</td>\n",
       "    </tr>\n",
       "    <tr>\n",
       "      <th>590</th>\n",
       "      <td>9443-JUBUO</td>\n",
       "      <td>65.25</td>\n",
       "      <td>72</td>\n",
       "      <td>4478.85</td>\n",
       "      <td>3</td>\n",
       "      <td>Two year</td>\n",
       "    </tr>\n",
       "    <tr>\n",
       "      <th>588</th>\n",
       "      <td>9415-ZNBSX</td>\n",
       "      <td>89.00</td>\n",
       "      <td>70</td>\n",
       "      <td>6293.20</td>\n",
       "      <td>3</td>\n",
       "      <td>Two year</td>\n",
       "    </tr>\n",
       "    <tr>\n",
       "      <th>1322</th>\n",
       "      <td>3976-HXHCE</td>\n",
       "      <td>19.30</td>\n",
       "      <td>72</td>\n",
       "      <td>1414.80</td>\n",
       "      <td>3</td>\n",
       "      <td>Two year</td>\n",
       "    </tr>\n",
       "    <tr>\n",
       "      <th>...</th>\n",
       "      <td>...</td>\n",
       "      <td>...</td>\n",
       "      <td>...</td>\n",
       "      <td>...</td>\n",
       "      <td>...</td>\n",
       "      <td>...</td>\n",
       "    </tr>\n",
       "    <tr>\n",
       "      <th>1218</th>\n",
       "      <td>2481-SBOYW</td>\n",
       "      <td>25.00</td>\n",
       "      <td>61</td>\n",
       "      <td>1498.35</td>\n",
       "      <td>3</td>\n",
       "      <td>Two year</td>\n",
       "    </tr>\n",
       "    <tr>\n",
       "      <th>355</th>\n",
       "      <td>5915-ANOEI</td>\n",
       "      <td>79.15</td>\n",
       "      <td>70</td>\n",
       "      <td>5536.50</td>\n",
       "      <td>3</td>\n",
       "      <td>Two year</td>\n",
       "    </tr>\n",
       "    <tr>\n",
       "      <th>1085</th>\n",
       "      <td>0505-SPOOW</td>\n",
       "      <td>19.80</td>\n",
       "      <td>70</td>\n",
       "      <td>1397.65</td>\n",
       "      <td>3</td>\n",
       "      <td>Two year</td>\n",
       "    </tr>\n",
       "    <tr>\n",
       "      <th>613</th>\n",
       "      <td>9795-NREXC</td>\n",
       "      <td>85.00</td>\n",
       "      <td>64</td>\n",
       "      <td>5484.40</td>\n",
       "      <td>3</td>\n",
       "      <td>Two year</td>\n",
       "    </tr>\n",
       "    <tr>\n",
       "      <th>215</th>\n",
       "      <td>3704-IEAXF</td>\n",
       "      <td>53.65</td>\n",
       "      <td>72</td>\n",
       "      <td>3784.00</td>\n",
       "      <td>3</td>\n",
       "      <td>Two year</td>\n",
       "    </tr>\n",
       "  </tbody>\n",
       "</table>\n",
       "<p>1217 rows × 6 columns</p>\n",
       "</div>"
      ],
      "text/plain": [
       "     customer_id  monthly_charges  tenure  total_charges  contract_type_id  \\\n",
       "1050  9861-PDSZP           108.05      72        7806.60                 3   \n",
       "971   8041-TMEID           108.50      63        6991.90                 3   \n",
       "590   9443-JUBUO            65.25      72        4478.85                 3   \n",
       "588   9415-ZNBSX            89.00      70        6293.20                 3   \n",
       "1322  3976-HXHCE            19.30      72        1414.80                 3   \n",
       "...          ...              ...     ...            ...               ...   \n",
       "1218  2481-SBOYW            25.00      61        1498.35                 3   \n",
       "355   5915-ANOEI            79.15      70        5536.50                 3   \n",
       "1085  0505-SPOOW            19.80      70        1397.65                 3   \n",
       "613   9795-NREXC            85.00      64        5484.40                 3   \n",
       "215   3704-IEAXF            53.65      72        3784.00                 3   \n",
       "\n",
       "     contract_type  \n",
       "1050      Two year  \n",
       "971       Two year  \n",
       "590       Two year  \n",
       "588       Two year  \n",
       "1322      Two year  \n",
       "...            ...  \n",
       "1218      Two year  \n",
       "355       Two year  \n",
       "1085      Two year  \n",
       "613       Two year  \n",
       "215       Two year  \n",
       "\n",
       "[1217 rows x 6 columns]"
      ]
     },
     "execution_count": 42,
     "metadata": {},
     "output_type": "execute_result"
    }
   ],
   "source": [
    "# Using the RobustScaler:\n",
    "\n",
    "# Reimporting data under another train/validate/test dataset:\n",
    "\n",
    "train3, validate3, test3 = wrangle.prep_acquired_telco()\n",
    "train3"
   ]
  },
  {
   "cell_type": "code",
   "execution_count": 64,
   "metadata": {},
   "outputs": [
    {
     "data": {
      "image/png": "[encoded data removed]",
      "text/plain": [
       "<Figure size 432x288 with 1 Axes>"
      ]
     },
     "metadata": {
      "needs_background": "light"
     },
     "output_type": "display_data"
    }
   ],
   "source": [
    "train3.total_charges.plot.hist()\n",
    "plt.show()"
   ]
  },
  {
   "cell_type": "code",
   "execution_count": 66,
   "metadata": {},
   "outputs": [],
   "source": [
    "# 1. Creating the scaler object:\n",
    "\n",
    "scaler_robust = sklearn.preprocessing.RobustScaler()\n",
    "\n",
    "# 2. Fitting ONLY do the train dataset. Remember, this is only useful on continuous variables, not categorical variables:\n",
    "scaler_robust.fit(train2[['total_charges', 'monthly_charges', 'tenure']])\n",
    "\n",
    "# 3. Now use the object on all three datasets. Remember, I'm using this object which was fitted to the train dataset:\n",
    "train3[['total_charges', 'monthly_charges', 'tenure']] = scaler_robust.transform(train3[['total_charges', 'monthly_charges', 'tenure']])\n",
    "validate3[['total_charges', 'monthly_charges', 'tenure']] = scaler_robust.transform(validate3[['total_charges', 'monthly_charges', 'tenure']])\n",
    "test3[['total_charges', 'monthly_charges', 'tenure']] = scaler_robust.transform(test3[['total_charges', 'monthly_charges', 'tenure']])"
   ]
  },
  {
   "cell_type": "code",
   "execution_count": 67,
   "metadata": {},
   "outputs": [
    {
     "data": {
      "image/png": "[encoded data removed]",
      "text/plain": [
       "<Figure size 432x288 with 1 Axes>"
      ]
     },
     "metadata": {
      "needs_background": "light"
     },
     "output_type": "display_data"
    }
   ],
   "source": [
    "train3.total_charges.plot.hist()\n",
    "plt.show()"
   ]
  },
  {
   "cell_type": "markdown",
   "metadata": {},
   "source": [
    "Apply the .inverse_transform method to your scaled data. Is the resulting dataset the exact same as the original data?"
   ]
  },
  {
   "cell_type": "code",
   "execution_count": 139,
   "metadata": {},
   "outputs": [
    {
     "name": "stdout",
     "output_type": "stream",
     "text": [
      "Shape of train df: (1217, 6)\n",
      "Shape of validate df: (215, 6)\n",
      "Shape of test df: (253, 6)\n"
     ]
    },
    {
     "data": {
      "text/html": [
       "<div>\n",
       "<style scoped>\n",
       "    .dataframe tbody tr th:only-of-type {\n",
       "        vertical-align: middle;\n",
       "    }\n",
       "\n",
       "    .dataframe tbody tr th {\n",
       "        vertical-align: top;\n",
       "    }\n",
       "\n",
       "    .dataframe thead th {\n",
       "        text-align: right;\n",
       "    }\n",
       "</style>\n",
       "<table border=\"1\" class=\"dataframe\">\n",
       "  <thead>\n",
       "    <tr style=\"text-align: right;\">\n",
       "      <th></th>\n",
       "      <th>customer_id</th>\n",
       "      <th>monthly_charges</th>\n",
       "      <th>tenure</th>\n",
       "      <th>total_charges</th>\n",
       "      <th>contract_type_id</th>\n",
       "      <th>contract_type</th>\n",
       "    </tr>\n",
       "  </thead>\n",
       "  <tbody>\n",
       "    <tr>\n",
       "      <th>1050</th>\n",
       "      <td>9861-PDSZP</td>\n",
       "      <td>108.05</td>\n",
       "      <td>72</td>\n",
       "      <td>7806.60</td>\n",
       "      <td>3</td>\n",
       "      <td>Two year</td>\n",
       "    </tr>\n",
       "    <tr>\n",
       "      <th>971</th>\n",
       "      <td>8041-TMEID</td>\n",
       "      <td>108.50</td>\n",
       "      <td>63</td>\n",
       "      <td>6991.90</td>\n",
       "      <td>3</td>\n",
       "      <td>Two year</td>\n",
       "    </tr>\n",
       "    <tr>\n",
       "      <th>590</th>\n",
       "      <td>9443-JUBUO</td>\n",
       "      <td>65.25</td>\n",
       "      <td>72</td>\n",
       "      <td>4478.85</td>\n",
       "      <td>3</td>\n",
       "      <td>Two year</td>\n",
       "    </tr>\n",
       "    <tr>\n",
       "      <th>588</th>\n",
       "      <td>9415-ZNBSX</td>\n",
       "      <td>89.00</td>\n",
       "      <td>70</td>\n",
       "      <td>6293.20</td>\n",
       "      <td>3</td>\n",
       "      <td>Two year</td>\n",
       "    </tr>\n",
       "    <tr>\n",
       "      <th>1322</th>\n",
       "      <td>3976-HXHCE</td>\n",
       "      <td>19.30</td>\n",
       "      <td>72</td>\n",
       "      <td>1414.80</td>\n",
       "      <td>3</td>\n",
       "      <td>Two year</td>\n",
       "    </tr>\n",
       "    <tr>\n",
       "      <th>...</th>\n",
       "      <td>...</td>\n",
       "      <td>...</td>\n",
       "      <td>...</td>\n",
       "      <td>...</td>\n",
       "      <td>...</td>\n",
       "      <td>...</td>\n",
       "    </tr>\n",
       "    <tr>\n",
       "      <th>1218</th>\n",
       "      <td>2481-SBOYW</td>\n",
       "      <td>25.00</td>\n",
       "      <td>61</td>\n",
       "      <td>1498.35</td>\n",
       "      <td>3</td>\n",
       "      <td>Two year</td>\n",
       "    </tr>\n",
       "    <tr>\n",
       "      <th>355</th>\n",
       "      <td>5915-ANOEI</td>\n",
       "      <td>79.15</td>\n",
       "      <td>70</td>\n",
       "      <td>5536.50</td>\n",
       "      <td>3</td>\n",
       "      <td>Two year</td>\n",
       "    </tr>\n",
       "    <tr>\n",
       "      <th>1085</th>\n",
       "      <td>0505-SPOOW</td>\n",
       "      <td>19.80</td>\n",
       "      <td>70</td>\n",
       "      <td>1397.65</td>\n",
       "      <td>3</td>\n",
       "      <td>Two year</td>\n",
       "    </tr>\n",
       "    <tr>\n",
       "      <th>613</th>\n",
       "      <td>9795-NREXC</td>\n",
       "      <td>85.00</td>\n",
       "      <td>64</td>\n",
       "      <td>5484.40</td>\n",
       "      <td>3</td>\n",
       "      <td>Two year</td>\n",
       "    </tr>\n",
       "    <tr>\n",
       "      <th>215</th>\n",
       "      <td>3704-IEAXF</td>\n",
       "      <td>53.65</td>\n",
       "      <td>72</td>\n",
       "      <td>3784.00</td>\n",
       "      <td>3</td>\n",
       "      <td>Two year</td>\n",
       "    </tr>\n",
       "  </tbody>\n",
       "</table>\n",
       "<p>1217 rows × 6 columns</p>\n",
       "</div>"
      ],
      "text/plain": [
       "     customer_id  monthly_charges  tenure  total_charges  contract_type_id  \\\n",
       "1050  9861-PDSZP           108.05      72        7806.60                 3   \n",
       "971   8041-TMEID           108.50      63        6991.90                 3   \n",
       "590   9443-JUBUO            65.25      72        4478.85                 3   \n",
       "588   9415-ZNBSX            89.00      70        6293.20                 3   \n",
       "1322  3976-HXHCE            19.30      72        1414.80                 3   \n",
       "...          ...              ...     ...            ...               ...   \n",
       "1218  2481-SBOYW            25.00      61        1498.35                 3   \n",
       "355   5915-ANOEI            79.15      70        5536.50                 3   \n",
       "1085  0505-SPOOW            19.80      70        1397.65                 3   \n",
       "613   9795-NREXC            85.00      64        5484.40                 3   \n",
       "215   3704-IEAXF            53.65      72        3784.00                 3   \n",
       "\n",
       "     contract_type  \n",
       "1050      Two year  \n",
       "971       Two year  \n",
       "590       Two year  \n",
       "588       Two year  \n",
       "1322      Two year  \n",
       "...            ...  \n",
       "1218      Two year  \n",
       "355       Two year  \n",
       "1085      Two year  \n",
       "613       Two year  \n",
       "215       Two year  \n",
       "\n",
       "[1217 rows x 6 columns]"
      ]
     },
     "execution_count": 139,
     "metadata": {},
     "output_type": "execute_result"
    }
   ],
   "source": [
    "# Using the StandardScaler:\n",
    "\n",
    "# Reimporting data under another train/validate/test dataset:\n",
    "\n",
    "train4, validate4, test4 = wrangle.prep_acquired_telco()\n",
    "train4"
   ]
  },
  {
   "cell_type": "code",
   "execution_count": 140,
   "metadata": {},
   "outputs": [
    {
     "data": {
      "text/plain": [
       "<matplotlib.axes._subplots.AxesSubplot at 0x7fddd16be350>"
      ]
     },
     "execution_count": 140,
     "metadata": {},
     "output_type": "execute_result"
    },
    {
     "data": {
      "image/png": "[encoded data removed]",
      "text/plain": [
       "<Figure size 432x288 with 1 Axes>"
      ]
     },
     "metadata": {
      "needs_background": "light"
     },
     "output_type": "display_data"
    }
   ],
   "source": [
    "train4.tenure.plot.hist()"
   ]
  },
  {
   "cell_type": "code",
   "execution_count": 141,
   "metadata": {},
   "outputs": [
    {
     "data": {
      "text/plain": [
       "MinMaxScaler(copy=True, feature_range=(0, 1))"
      ]
     },
     "execution_count": 141,
     "metadata": {},
     "output_type": "execute_result"
    }
   ],
   "source": [
    "scaler_mm = sklearn.preprocessing.MinMaxScaler()\n",
    "\n",
    "scaler_mm.fit(train4[['tenure']])"
   ]
  },
  {
   "cell_type": "code",
   "execution_count": 142,
   "metadata": {},
   "outputs": [
    {
     "data": {
      "text/html": [
       "<div>\n",
       "<style scoped>\n",
       "    .dataframe tbody tr th:only-of-type {\n",
       "        vertical-align: middle;\n",
       "    }\n",
       "\n",
       "    .dataframe tbody tr th {\n",
       "        vertical-align: top;\n",
       "    }\n",
       "\n",
       "    .dataframe thead th {\n",
       "        text-align: right;\n",
       "    }\n",
       "</style>\n",
       "<table border=\"1\" class=\"dataframe\">\n",
       "  <thead>\n",
       "    <tr style=\"text-align: right;\">\n",
       "      <th></th>\n",
       "      <th>customer_id</th>\n",
       "      <th>monthly_charges</th>\n",
       "      <th>tenure</th>\n",
       "      <th>total_charges</th>\n",
       "      <th>contract_type_id</th>\n",
       "      <th>contract_type</th>\n",
       "    </tr>\n",
       "  </thead>\n",
       "  <tbody>\n",
       "    <tr>\n",
       "      <th>1050</th>\n",
       "      <td>9861-PDSZP</td>\n",
       "      <td>108.05</td>\n",
       "      <td>72</td>\n",
       "      <td>7806.60</td>\n",
       "      <td>3</td>\n",
       "      <td>Two year</td>\n",
       "    </tr>\n",
       "    <tr>\n",
       "      <th>971</th>\n",
       "      <td>8041-TMEID</td>\n",
       "      <td>108.50</td>\n",
       "      <td>63</td>\n",
       "      <td>6991.90</td>\n",
       "      <td>3</td>\n",
       "      <td>Two year</td>\n",
       "    </tr>\n",
       "    <tr>\n",
       "      <th>590</th>\n",
       "      <td>9443-JUBUO</td>\n",
       "      <td>65.25</td>\n",
       "      <td>72</td>\n",
       "      <td>4478.85</td>\n",
       "      <td>3</td>\n",
       "      <td>Two year</td>\n",
       "    </tr>\n",
       "    <tr>\n",
       "      <th>588</th>\n",
       "      <td>9415-ZNBSX</td>\n",
       "      <td>89.00</td>\n",
       "      <td>70</td>\n",
       "      <td>6293.20</td>\n",
       "      <td>3</td>\n",
       "      <td>Two year</td>\n",
       "    </tr>\n",
       "    <tr>\n",
       "      <th>1322</th>\n",
       "      <td>3976-HXHCE</td>\n",
       "      <td>19.30</td>\n",
       "      <td>72</td>\n",
       "      <td>1414.80</td>\n",
       "      <td>3</td>\n",
       "      <td>Two year</td>\n",
       "    </tr>\n",
       "    <tr>\n",
       "      <th>...</th>\n",
       "      <td>...</td>\n",
       "      <td>...</td>\n",
       "      <td>...</td>\n",
       "      <td>...</td>\n",
       "      <td>...</td>\n",
       "      <td>...</td>\n",
       "    </tr>\n",
       "    <tr>\n",
       "      <th>1218</th>\n",
       "      <td>2481-SBOYW</td>\n",
       "      <td>25.00</td>\n",
       "      <td>61</td>\n",
       "      <td>1498.35</td>\n",
       "      <td>3</td>\n",
       "      <td>Two year</td>\n",
       "    </tr>\n",
       "    <tr>\n",
       "      <th>355</th>\n",
       "      <td>5915-ANOEI</td>\n",
       "      <td>79.15</td>\n",
       "      <td>70</td>\n",
       "      <td>5536.50</td>\n",
       "      <td>3</td>\n",
       "      <td>Two year</td>\n",
       "    </tr>\n",
       "    <tr>\n",
       "      <th>1085</th>\n",
       "      <td>0505-SPOOW</td>\n",
       "      <td>19.80</td>\n",
       "      <td>70</td>\n",
       "      <td>1397.65</td>\n",
       "      <td>3</td>\n",
       "      <td>Two year</td>\n",
       "    </tr>\n",
       "    <tr>\n",
       "      <th>613</th>\n",
       "      <td>9795-NREXC</td>\n",
       "      <td>85.00</td>\n",
       "      <td>64</td>\n",
       "      <td>5484.40</td>\n",
       "      <td>3</td>\n",
       "      <td>Two year</td>\n",
       "    </tr>\n",
       "    <tr>\n",
       "      <th>215</th>\n",
       "      <td>3704-IEAXF</td>\n",
       "      <td>53.65</td>\n",
       "      <td>72</td>\n",
       "      <td>3784.00</td>\n",
       "      <td>3</td>\n",
       "      <td>Two year</td>\n",
       "    </tr>\n",
       "  </tbody>\n",
       "</table>\n",
       "<p>1217 rows × 6 columns</p>\n",
       "</div>"
      ],
      "text/plain": [
       "     customer_id  monthly_charges  tenure  total_charges  contract_type_id  \\\n",
       "1050  9861-PDSZP           108.05      72        7806.60                 3   \n",
       "971   8041-TMEID           108.50      63        6991.90                 3   \n",
       "590   9443-JUBUO            65.25      72        4478.85                 3   \n",
       "588   9415-ZNBSX            89.00      70        6293.20                 3   \n",
       "1322  3976-HXHCE            19.30      72        1414.80                 3   \n",
       "...          ...              ...     ...            ...               ...   \n",
       "1218  2481-SBOYW            25.00      61        1498.35                 3   \n",
       "355   5915-ANOEI            79.15      70        5536.50                 3   \n",
       "1085  0505-SPOOW            19.80      70        1397.65                 3   \n",
       "613   9795-NREXC            85.00      64        5484.40                 3   \n",
       "215   3704-IEAXF            53.65      72        3784.00                 3   \n",
       "\n",
       "     contract_type  \n",
       "1050      Two year  \n",
       "971       Two year  \n",
       "590       Two year  \n",
       "588       Two year  \n",
       "1322      Two year  \n",
       "...            ...  \n",
       "1218      Two year  \n",
       "355       Two year  \n",
       "1085      Two year  \n",
       "613       Two year  \n",
       "215       Two year  \n",
       "\n",
       "[1217 rows x 6 columns]"
      ]
     },
     "execution_count": 142,
     "metadata": {},
     "output_type": "execute_result"
    }
   ],
   "source": [
    "train4"
   ]
  },
  {
   "cell_type": "code",
   "execution_count": 143,
   "metadata": {},
   "outputs": [
    {
     "data": {
      "text/plain": [
       "<matplotlib.axes._subplots.AxesSubplot at 0x7fdde1a239d0>"
      ]
     },
     "execution_count": 143,
     "metadata": {},
     "output_type": "execute_result"
    },
    {
     "data": {
      "image/png": "[encoded data removed]",
      "text/plain": [
       "<Figure size 432x288 with 1 Axes>"
      ]
     },
     "metadata": {
      "needs_background": "light"
     },
     "output_type": "display_data"
    }
   ],
   "source": [
    "train4.tenure.plot.hist()"
   ]
  },
  {
   "cell_type": "code",
   "execution_count": 144,
   "metadata": {},
   "outputs": [],
   "source": [
    "train4['tenure_scaled'] = scaler_mm.transform(train4[['tenure']])"
   ]
  },
  {
   "cell_type": "code",
   "execution_count": 128,
   "metadata": {},
   "outputs": [
    {
     "data": {
      "text/plain": [
       "<matplotlib.axes._subplots.AxesSubplot at 0x7fddd175fa90>"
      ]
     },
     "execution_count": 128,
     "metadata": {},
     "output_type": "execute_result"
    },
    {
     "data": {
      "image/png": "[encoded data removed]",
      "text/plain": [
       "<Figure size 432x288 with 1 Axes>"
      ]
     },
     "metadata": {
      "needs_background": "light"
     },
     "output_type": "display_data"
    }
   ],
   "source": [
    "train4.tenure_scaled.plot.hist()"
   ]
  },
  {
   "cell_type": "code",
   "execution_count": 145,
   "metadata": {},
   "outputs": [
    {
     "data": {
      "text/html": [
       "<div>\n",
       "<style scoped>\n",
       "    .dataframe tbody tr th:only-of-type {\n",
       "        vertical-align: middle;\n",
       "    }\n",
       "\n",
       "    .dataframe tbody tr th {\n",
       "        vertical-align: top;\n",
       "    }\n",
       "\n",
       "    .dataframe thead th {\n",
       "        text-align: right;\n",
       "    }\n",
       "</style>\n",
       "<table border=\"1\" class=\"dataframe\">\n",
       "  <thead>\n",
       "    <tr style=\"text-align: right;\">\n",
       "      <th></th>\n",
       "      <th>customer_id</th>\n",
       "      <th>monthly_charges</th>\n",
       "      <th>tenure</th>\n",
       "      <th>total_charges</th>\n",
       "      <th>contract_type_id</th>\n",
       "      <th>contract_type</th>\n",
       "      <th>tenure_scaled</th>\n",
       "    </tr>\n",
       "  </thead>\n",
       "  <tbody>\n",
       "    <tr>\n",
       "      <th>1050</th>\n",
       "      <td>9861-PDSZP</td>\n",
       "      <td>108.05</td>\n",
       "      <td>72</td>\n",
       "      <td>7806.60</td>\n",
       "      <td>3</td>\n",
       "      <td>Two year</td>\n",
       "      <td>1.000000</td>\n",
       "    </tr>\n",
       "    <tr>\n",
       "      <th>971</th>\n",
       "      <td>8041-TMEID</td>\n",
       "      <td>108.50</td>\n",
       "      <td>63</td>\n",
       "      <td>6991.90</td>\n",
       "      <td>3</td>\n",
       "      <td>Two year</td>\n",
       "      <td>0.873239</td>\n",
       "    </tr>\n",
       "    <tr>\n",
       "      <th>590</th>\n",
       "      <td>9443-JUBUO</td>\n",
       "      <td>65.25</td>\n",
       "      <td>72</td>\n",
       "      <td>4478.85</td>\n",
       "      <td>3</td>\n",
       "      <td>Two year</td>\n",
       "      <td>1.000000</td>\n",
       "    </tr>\n",
       "    <tr>\n",
       "      <th>588</th>\n",
       "      <td>9415-ZNBSX</td>\n",
       "      <td>89.00</td>\n",
       "      <td>70</td>\n",
       "      <td>6293.20</td>\n",
       "      <td>3</td>\n",
       "      <td>Two year</td>\n",
       "      <td>0.971831</td>\n",
       "    </tr>\n",
       "    <tr>\n",
       "      <th>1322</th>\n",
       "      <td>3976-HXHCE</td>\n",
       "      <td>19.30</td>\n",
       "      <td>72</td>\n",
       "      <td>1414.80</td>\n",
       "      <td>3</td>\n",
       "      <td>Two year</td>\n",
       "      <td>1.000000</td>\n",
       "    </tr>\n",
       "    <tr>\n",
       "      <th>...</th>\n",
       "      <td>...</td>\n",
       "      <td>...</td>\n",
       "      <td>...</td>\n",
       "      <td>...</td>\n",
       "      <td>...</td>\n",
       "      <td>...</td>\n",
       "      <td>...</td>\n",
       "    </tr>\n",
       "    <tr>\n",
       "      <th>1218</th>\n",
       "      <td>2481-SBOYW</td>\n",
       "      <td>25.00</td>\n",
       "      <td>61</td>\n",
       "      <td>1498.35</td>\n",
       "      <td>3</td>\n",
       "      <td>Two year</td>\n",
       "      <td>0.845070</td>\n",
       "    </tr>\n",
       "    <tr>\n",
       "      <th>355</th>\n",
       "      <td>5915-ANOEI</td>\n",
       "      <td>79.15</td>\n",
       "      <td>70</td>\n",
       "      <td>5536.50</td>\n",
       "      <td>3</td>\n",
       "      <td>Two year</td>\n",
       "      <td>0.971831</td>\n",
       "    </tr>\n",
       "    <tr>\n",
       "      <th>1085</th>\n",
       "      <td>0505-SPOOW</td>\n",
       "      <td>19.80</td>\n",
       "      <td>70</td>\n",
       "      <td>1397.65</td>\n",
       "      <td>3</td>\n",
       "      <td>Two year</td>\n",
       "      <td>0.971831</td>\n",
       "    </tr>\n",
       "    <tr>\n",
       "      <th>613</th>\n",
       "      <td>9795-NREXC</td>\n",
       "      <td>85.00</td>\n",
       "      <td>64</td>\n",
       "      <td>5484.40</td>\n",
       "      <td>3</td>\n",
       "      <td>Two year</td>\n",
       "      <td>0.887324</td>\n",
       "    </tr>\n",
       "    <tr>\n",
       "      <th>215</th>\n",
       "      <td>3704-IEAXF</td>\n",
       "      <td>53.65</td>\n",
       "      <td>72</td>\n",
       "      <td>3784.00</td>\n",
       "      <td>3</td>\n",
       "      <td>Two year</td>\n",
       "      <td>1.000000</td>\n",
       "    </tr>\n",
       "  </tbody>\n",
       "</table>\n",
       "<p>1217 rows × 7 columns</p>\n",
       "</div>"
      ],
      "text/plain": [
       "     customer_id  monthly_charges  tenure  total_charges  contract_type_id  \\\n",
       "1050  9861-PDSZP           108.05      72        7806.60                 3   \n",
       "971   8041-TMEID           108.50      63        6991.90                 3   \n",
       "590   9443-JUBUO            65.25      72        4478.85                 3   \n",
       "588   9415-ZNBSX            89.00      70        6293.20                 3   \n",
       "1322  3976-HXHCE            19.30      72        1414.80                 3   \n",
       "...          ...              ...     ...            ...               ...   \n",
       "1218  2481-SBOYW            25.00      61        1498.35                 3   \n",
       "355   5915-ANOEI            79.15      70        5536.50                 3   \n",
       "1085  0505-SPOOW            19.80      70        1397.65                 3   \n",
       "613   9795-NREXC            85.00      64        5484.40                 3   \n",
       "215   3704-IEAXF            53.65      72        3784.00                 3   \n",
       "\n",
       "     contract_type  tenure_scaled  \n",
       "1050      Two year       1.000000  \n",
       "971       Two year       0.873239  \n",
       "590       Two year       1.000000  \n",
       "588       Two year       0.971831  \n",
       "1322      Two year       1.000000  \n",
       "...            ...            ...  \n",
       "1218      Two year       0.845070  \n",
       "355       Two year       0.971831  \n",
       "1085      Two year       0.971831  \n",
       "613       Two year       0.887324  \n",
       "215       Two year       1.000000  \n",
       "\n",
       "[1217 rows x 7 columns]"
      ]
     },
     "execution_count": 145,
     "metadata": {},
     "output_type": "execute_result"
    }
   ],
   "source": [
    "train4"
   ]
  },
  {
   "cell_type": "code",
   "execution_count": 146,
   "metadata": {},
   "outputs": [
    {
     "data": {
      "text/plain": [
       "<matplotlib.axes._subplots.AxesSubplot at 0x7fddd17aba10>"
      ]
     },
     "execution_count": 146,
     "metadata": {},
     "output_type": "execute_result"
    },
    {
     "data": {
      "image/png": "[encoded data removed]",
      "text/plain": [
       "<Figure size 432x288 with 1 Axes>"
      ]
     },
     "metadata": {
      "needs_background": "light"
     },
     "output_type": "display_data"
    }
   ],
   "source": [
    "train4[['tenure_invert']] = scaler_mm.inverse_transform(train4[['tenure_scaled']])\n",
    "train4.tenure_invert.plot.hist()"
   ]
  },
  {
   "cell_type": "code",
   "execution_count": 147,
   "metadata": {},
   "outputs": [
    {
     "data": {
      "text/html": [
       "<div>\n",
       "<style scoped>\n",
       "    .dataframe tbody tr th:only-of-type {\n",
       "        vertical-align: middle;\n",
       "    }\n",
       "\n",
       "    .dataframe tbody tr th {\n",
       "        vertical-align: top;\n",
       "    }\n",
       "\n",
       "    .dataframe thead th {\n",
       "        text-align: right;\n",
       "    }\n",
       "</style>\n",
       "<table border=\"1\" class=\"dataframe\">\n",
       "  <thead>\n",
       "    <tr style=\"text-align: right;\">\n",
       "      <th></th>\n",
       "      <th>customer_id</th>\n",
       "      <th>monthly_charges</th>\n",
       "      <th>tenure</th>\n",
       "      <th>total_charges</th>\n",
       "      <th>contract_type_id</th>\n",
       "      <th>contract_type</th>\n",
       "      <th>tenure_scaled</th>\n",
       "      <th>tenure_invert</th>\n",
       "    </tr>\n",
       "  </thead>\n",
       "  <tbody>\n",
       "    <tr>\n",
       "      <th>1050</th>\n",
       "      <td>9861-PDSZP</td>\n",
       "      <td>108.05</td>\n",
       "      <td>72</td>\n",
       "      <td>7806.60</td>\n",
       "      <td>3</td>\n",
       "      <td>Two year</td>\n",
       "      <td>1.000000</td>\n",
       "      <td>72.0</td>\n",
       "    </tr>\n",
       "    <tr>\n",
       "      <th>971</th>\n",
       "      <td>8041-TMEID</td>\n",
       "      <td>108.50</td>\n",
       "      <td>63</td>\n",
       "      <td>6991.90</td>\n",
       "      <td>3</td>\n",
       "      <td>Two year</td>\n",
       "      <td>0.873239</td>\n",
       "      <td>63.0</td>\n",
       "    </tr>\n",
       "    <tr>\n",
       "      <th>590</th>\n",
       "      <td>9443-JUBUO</td>\n",
       "      <td>65.25</td>\n",
       "      <td>72</td>\n",
       "      <td>4478.85</td>\n",
       "      <td>3</td>\n",
       "      <td>Two year</td>\n",
       "      <td>1.000000</td>\n",
       "      <td>72.0</td>\n",
       "    </tr>\n",
       "    <tr>\n",
       "      <th>588</th>\n",
       "      <td>9415-ZNBSX</td>\n",
       "      <td>89.00</td>\n",
       "      <td>70</td>\n",
       "      <td>6293.20</td>\n",
       "      <td>3</td>\n",
       "      <td>Two year</td>\n",
       "      <td>0.971831</td>\n",
       "      <td>70.0</td>\n",
       "    </tr>\n",
       "    <tr>\n",
       "      <th>1322</th>\n",
       "      <td>3976-HXHCE</td>\n",
       "      <td>19.30</td>\n",
       "      <td>72</td>\n",
       "      <td>1414.80</td>\n",
       "      <td>3</td>\n",
       "      <td>Two year</td>\n",
       "      <td>1.000000</td>\n",
       "      <td>72.0</td>\n",
       "    </tr>\n",
       "    <tr>\n",
       "      <th>...</th>\n",
       "      <td>...</td>\n",
       "      <td>...</td>\n",
       "      <td>...</td>\n",
       "      <td>...</td>\n",
       "      <td>...</td>\n",
       "      <td>...</td>\n",
       "      <td>...</td>\n",
       "      <td>...</td>\n",
       "    </tr>\n",
       "    <tr>\n",
       "      <th>1218</th>\n",
       "      <td>2481-SBOYW</td>\n",
       "      <td>25.00</td>\n",
       "      <td>61</td>\n",
       "      <td>1498.35</td>\n",
       "      <td>3</td>\n",
       "      <td>Two year</td>\n",
       "      <td>0.845070</td>\n",
       "      <td>61.0</td>\n",
       "    </tr>\n",
       "    <tr>\n",
       "      <th>355</th>\n",
       "      <td>5915-ANOEI</td>\n",
       "      <td>79.15</td>\n",
       "      <td>70</td>\n",
       "      <td>5536.50</td>\n",
       "      <td>3</td>\n",
       "      <td>Two year</td>\n",
       "      <td>0.971831</td>\n",
       "      <td>70.0</td>\n",
       "    </tr>\n",
       "    <tr>\n",
       "      <th>1085</th>\n",
       "      <td>0505-SPOOW</td>\n",
       "      <td>19.80</td>\n",
       "      <td>70</td>\n",
       "      <td>1397.65</td>\n",
       "      <td>3</td>\n",
       "      <td>Two year</td>\n",
       "      <td>0.971831</td>\n",
       "      <td>70.0</td>\n",
       "    </tr>\n",
       "    <tr>\n",
       "      <th>613</th>\n",
       "      <td>9795-NREXC</td>\n",
       "      <td>85.00</td>\n",
       "      <td>64</td>\n",
       "      <td>5484.40</td>\n",
       "      <td>3</td>\n",
       "      <td>Two year</td>\n",
       "      <td>0.887324</td>\n",
       "      <td>64.0</td>\n",
       "    </tr>\n",
       "    <tr>\n",
       "      <th>215</th>\n",
       "      <td>3704-IEAXF</td>\n",
       "      <td>53.65</td>\n",
       "      <td>72</td>\n",
       "      <td>3784.00</td>\n",
       "      <td>3</td>\n",
       "      <td>Two year</td>\n",
       "      <td>1.000000</td>\n",
       "      <td>72.0</td>\n",
       "    </tr>\n",
       "  </tbody>\n",
       "</table>\n",
       "<p>1217 rows × 8 columns</p>\n",
       "</div>"
      ],
      "text/plain": [
       "     customer_id  monthly_charges  tenure  total_charges  contract_type_id  \\\n",
       "1050  9861-PDSZP           108.05      72        7806.60                 3   \n",
       "971   8041-TMEID           108.50      63        6991.90                 3   \n",
       "590   9443-JUBUO            65.25      72        4478.85                 3   \n",
       "588   9415-ZNBSX            89.00      70        6293.20                 3   \n",
       "1322  3976-HXHCE            19.30      72        1414.80                 3   \n",
       "...          ...              ...     ...            ...               ...   \n",
       "1218  2481-SBOYW            25.00      61        1498.35                 3   \n",
       "355   5915-ANOEI            79.15      70        5536.50                 3   \n",
       "1085  0505-SPOOW            19.80      70        1397.65                 3   \n",
       "613   9795-NREXC            85.00      64        5484.40                 3   \n",
       "215   3704-IEAXF            53.65      72        3784.00                 3   \n",
       "\n",
       "     contract_type  tenure_scaled  tenure_invert  \n",
       "1050      Two year       1.000000           72.0  \n",
       "971       Two year       0.873239           63.0  \n",
       "590       Two year       1.000000           72.0  \n",
       "588       Two year       0.971831           70.0  \n",
       "1322      Two year       1.000000           72.0  \n",
       "...            ...            ...            ...  \n",
       "1218      Two year       0.845070           61.0  \n",
       "355       Two year       0.971831           70.0  \n",
       "1085      Two year       0.971831           70.0  \n",
       "613       Two year       0.887324           64.0  \n",
       "215       Two year       1.000000           72.0  \n",
       "\n",
       "[1217 rows x 8 columns]"
      ]
     },
     "execution_count": 147,
     "metadata": {},
     "output_type": "execute_result"
    }
   ],
   "source": [
    "train4"
   ]
  },
  {
   "cell_type": "markdown",
   "metadata": {},
   "source": [
    "#### 3. Read the documentation for sklearn's QuantileTransformer. Use normal for the output_distribution and apply this scaler to your data. Visualize the result of your data scaling."
   ]
  },
  {
   "cell_type": "code",
   "execution_count": 137,
   "metadata": {},
   "outputs": [],
   "source": [
    "sklearn.preprocessing.QuantileTransformer?"
   ]
  },
  {
   "cell_type": "code",
   "execution_count": 200,
   "metadata": {},
   "outputs": [
    {
     "name": "stdout",
     "output_type": "stream",
     "text": [
      "Shape of train df: (1217, 6)\n",
      "Shape of validate df: (215, 6)\n",
      "Shape of test df: (253, 6)\n"
     ]
    }
   ],
   "source": [
    "# Using the QuantileTransformer:\n",
    "\n",
    "# Reimporting data under another train/validate/test dataset:\n",
    "\n",
    "train5, validate5, test5 = wrangle.prep_acquired_telco()"
   ]
  },
  {
   "cell_type": "code",
   "execution_count": 201,
   "metadata": {},
   "outputs": [],
   "source": [
    "# 1. Creating the scaler object:\n",
    "\n",
    "scaler_qt = sklearn.preprocessing.QuantileTransformer(n_quantiles = 5, random_state = 123, output_distribution = 'normal')\n",
    "\n",
    "# 2. Fitting ONLY do the train dataset. Remember, this is only useful on continuous variables, not categorical variables:\n",
    "scaler_qt.fit(train5[['total_charges', 'monthly_charges', 'tenure']])\n",
    "\n",
    "# 3. Now use the object on all three datasets. Remember, I'm using this object which was fitted to the train dataset:\n",
    "train5[['total_charges_scaled', 'monthly_charges_scaled', 'tenure_scaled']] = scaler_qt.transform(train5[['total_charges', 'monthly_charges', 'tenure']])\n",
    "validate5[['total_charges_scaled', 'monthly_charges_scaled', 'tenure_scaled']] = scaler_qt.transform(validate5[['total_charges', 'monthly_charges', 'tenure']])\n",
    "test5[['total_charges_scaled', 'monthly_charges_scaled', 'tenure_scaled']] = scaler_qt.transform(test5[['total_charges', 'monthly_charges', 'tenure']])"
   ]
  },
  {
   "cell_type": "code",
   "execution_count": 202,
   "metadata": {},
   "outputs": [
    {
     "data": {
      "text/plain": [
       "<matplotlib.axes._subplots.AxesSubplot at 0x7fddf845d590>"
      ]
     },
     "execution_count": 202,
     "metadata": {},
     "output_type": "execute_result"
    },
    {
     "data": {
      "image/png": "[encoded data removed]",
      "text/plain": [
       "<Figure size 432x288 with 1 Axes>"
      ]
     },
     "metadata": {
      "needs_background": "light"
     },
     "output_type": "display_data"
    }
   ],
   "source": [
    "train5.tenure_scaled.plot.hist()\n",
    "\n",
    "# It produced an approximately normal distribution:"
   ]
  },
  {
   "cell_type": "code",
   "execution_count": null,
   "metadata": {},
   "outputs": [],
   "source": []
  },
  {
   "cell_type": "code",
   "execution_count": null,
   "metadata": {},
   "outputs": [],
   "source": []
  },
  {
   "cell_type": "code",
   "execution_count": null,
   "metadata": {},
   "outputs": [],
   "source": []
  },
  {
   "cell_type": "markdown",
   "metadata": {},
   "source": [
    "#### 4. Use the QuantileTransformer, but omit the output_distribution argument. Visualize your results. What do you notice?"
   ]
  },
  {
   "cell_type": "code",
   "execution_count": 209,
   "metadata": {},
   "outputs": [
    {
     "name": "stdout",
     "output_type": "stream",
     "text": [
      "Shape of train df: (1217, 6)\n",
      "Shape of validate df: (215, 6)\n",
      "Shape of test df: (253, 6)\n"
     ]
    },
    {
     "data": {
      "text/html": [
       "<div>\n",
       "<style scoped>\n",
       "    .dataframe tbody tr th:only-of-type {\n",
       "        vertical-align: middle;\n",
       "    }\n",
       "\n",
       "    .dataframe tbody tr th {\n",
       "        vertical-align: top;\n",
       "    }\n",
       "\n",
       "    .dataframe thead th {\n",
       "        text-align: right;\n",
       "    }\n",
       "</style>\n",
       "<table border=\"1\" class=\"dataframe\">\n",
       "  <thead>\n",
       "    <tr style=\"text-align: right;\">\n",
       "      <th></th>\n",
       "      <th>customer_id</th>\n",
       "      <th>monthly_charges</th>\n",
       "      <th>tenure</th>\n",
       "      <th>total_charges</th>\n",
       "      <th>contract_type_id</th>\n",
       "      <th>contract_type</th>\n",
       "    </tr>\n",
       "  </thead>\n",
       "  <tbody>\n",
       "    <tr>\n",
       "      <th>1050</th>\n",
       "      <td>9861-PDSZP</td>\n",
       "      <td>108.05</td>\n",
       "      <td>72</td>\n",
       "      <td>7806.60</td>\n",
       "      <td>3</td>\n",
       "      <td>Two year</td>\n",
       "    </tr>\n",
       "    <tr>\n",
       "      <th>971</th>\n",
       "      <td>8041-TMEID</td>\n",
       "      <td>108.50</td>\n",
       "      <td>63</td>\n",
       "      <td>6991.90</td>\n",
       "      <td>3</td>\n",
       "      <td>Two year</td>\n",
       "    </tr>\n",
       "    <tr>\n",
       "      <th>590</th>\n",
       "      <td>9443-JUBUO</td>\n",
       "      <td>65.25</td>\n",
       "      <td>72</td>\n",
       "      <td>4478.85</td>\n",
       "      <td>3</td>\n",
       "      <td>Two year</td>\n",
       "    </tr>\n",
       "    <tr>\n",
       "      <th>588</th>\n",
       "      <td>9415-ZNBSX</td>\n",
       "      <td>89.00</td>\n",
       "      <td>70</td>\n",
       "      <td>6293.20</td>\n",
       "      <td>3</td>\n",
       "      <td>Two year</td>\n",
       "    </tr>\n",
       "    <tr>\n",
       "      <th>1322</th>\n",
       "      <td>3976-HXHCE</td>\n",
       "      <td>19.30</td>\n",
       "      <td>72</td>\n",
       "      <td>1414.80</td>\n",
       "      <td>3</td>\n",
       "      <td>Two year</td>\n",
       "    </tr>\n",
       "  </tbody>\n",
       "</table>\n",
       "</div>"
      ],
      "text/plain": [
       "     customer_id  monthly_charges  tenure  total_charges  contract_type_id  \\\n",
       "1050  9861-PDSZP           108.05      72        7806.60                 3   \n",
       "971   8041-TMEID           108.50      63        6991.90                 3   \n",
       "590   9443-JUBUO            65.25      72        4478.85                 3   \n",
       "588   9415-ZNBSX            89.00      70        6293.20                 3   \n",
       "1322  3976-HXHCE            19.30      72        1414.80                 3   \n",
       "\n",
       "     contract_type  \n",
       "1050      Two year  \n",
       "971       Two year  \n",
       "590       Two year  \n",
       "588       Two year  \n",
       "1322      Two year  "
      ]
     },
     "execution_count": 209,
     "metadata": {},
     "output_type": "execute_result"
    }
   ],
   "source": [
    "# Using the QuantileTransformer:\n",
    "\n",
    "# Reimporting data under another train/validate/test dataset:\n",
    "\n",
    "train5, validate5, test5 = wrangle.prep_acquired_telco()\n",
    "train5.head()"
   ]
  },
  {
   "cell_type": "code",
   "execution_count": 204,
   "metadata": {},
   "outputs": [],
   "source": [
    "# 1. Creating the scaler object:\n",
    "\n",
    "scaler_qt = sklearn.preprocessing.QuantileTransformer(n_quantiles = 5, random_state = 123)\n",
    "\n",
    "# n_quantiles = 5, random_state = 123, output_distribution = 'normal'\n",
    "\n",
    "# 2. Fitting ONLY do the train dataset. Remember, this is only useful on continuous variables, not categorical variables:\n",
    "scaler_qt.fit(train5[['total_charges', 'monthly_charges', 'tenure']])\n",
    "\n",
    "# 3. Now use the object on all three datasets. Remember, I'm using this object which was fitted to the train dataset:\n",
    "train5[['total_charges_scaled', 'monthly_charges_scaled', 'tenure_scaled']] = scaler_qt.transform(train5[['total_charges', 'monthly_charges', 'tenure']])\n",
    "validate5[['total_charges_scaled', 'monthly_charges_scaled', 'tenure_scaled']] = scaler_qt.transform(validate5[['total_charges', 'monthly_charges', 'tenure']])\n",
    "test5[['total_charges_scaled', 'monthly_charges_scaled', 'tenure_scaled']] = scaler_qt.transform(test5[['total_charges', 'monthly_charges', 'tenure']])"
   ]
  },
  {
   "cell_type": "code",
   "execution_count": 206,
   "metadata": {},
   "outputs": [
    {
     "data": {
      "text/plain": [
       "<matplotlib.axes._subplots.AxesSubplot at 0x7fddf847dbd0>"
      ]
     },
     "execution_count": 206,
     "metadata": {},
     "output_type": "execute_result"
    },
    {
     "data": {
      "image/png": "[encoded data removed]",
      "text/plain": [
       "<Figure size 432x288 with 1 Axes>"
      ]
     },
     "metadata": {
      "needs_background": "light"
     },
     "output_type": "display_data"
    }
   ],
   "source": [
    "train5.tenure_scaled.plot.hist()"
   ]
  },
  {
   "cell_type": "markdown",
   "metadata": {},
   "source": [
    "The default output of the function is to use a uniform distribution, and that's what this output appears to be."
   ]
  },
  {
   "cell_type": "code",
   "execution_count": 207,
   "metadata": {},
   "outputs": [],
   "source": [
    "# Now, for practice I'm going to add columns using the inverse_transform method:\n",
    "\n",
    "# train5[['total_inverted', 'monthly_inverted', 'tenure_inverted']] = scaler_qt.inverse_transform(train5[['total_charges', 'monthly_charges', 'tenure']])"
   ]
  },
  {
   "cell_type": "code",
   "execution_count": null,
   "metadata": {},
   "outputs": [],
   "source": []
  },
  {
   "cell_type": "code",
   "execution_count": null,
   "metadata": {},
   "outputs": [],
   "source": []
  },
  {
   "cell_type": "code",
   "execution_count": null,
   "metadata": {},
   "outputs": [],
   "source": []
  },
  {
   "cell_type": "code",
   "execution_count": null,
   "metadata": {},
   "outputs": [],
   "source": []
  },
  {
   "cell_type": "code",
   "execution_count": null,
   "metadata": {},
   "outputs": [],
   "source": []
  },
  {
   "cell_type": "code",
   "execution_count": null,
   "metadata": {},
   "outputs": [],
   "source": []
  },
  {
   "cell_type": "code",
   "execution_count": null,
   "metadata": {},
   "outputs": [],
   "source": []
  },
  {
   "cell_type": "code",
   "execution_count": null,
   "metadata": {},
   "outputs": [],
   "source": []
  }
 ],
 "metadata": {
  "kernelspec": {
   "display_name": "Python 3",
   "language": "python",
   "name": "python3"
  },
  "language_info": {
   "codemirror_mode": {
    "name": "ipython",
    "version": 3
   },
   "file_extension": ".py",
   "mimetype": "text/x-python",
   "name": "python",
   "nbconvert_exporter": "python",
   "pygments_lexer": "ipython3",
   "version": "3.7.6"
  }
 },
 "nbformat": 4,
 "nbformat_minor": 4
}
