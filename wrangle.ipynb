{
 "cells": [
  {
   "cell_type": "code",
   "execution_count": 2,
   "metadata": {},
   "outputs": [],
   "source": [
    "import pandas as pd\n",
    "import numpy as np\n",
    "import matplotlib.pyplot as plt\n",
    "import seaborn as sns\n",
    "\n",
    "from sklearn.model_selection import train_test_split\n",
    "from sklearn.preprocessing import MinMaxScaler, RobustScaler, StandardScaler\n",
    "\n",
    "import os\n",
    "import env"
   ]
  },
  {
   "cell_type": "code",
   "execution_count": 3,
   "metadata": {},
   "outputs": [
    {
     "name": "stdout",
     "output_type": "stream",
     "text": [
      "wrangle.py functions loaded successfully.\n"
     ]
    }
   ],
   "source": [
    "import wrangle"
   ]
  },
  {
   "cell_type": "code",
   "execution_count": 4,
   "metadata": {},
   "outputs": [
    {
     "data": {
      "text/html": [
       "<div>\n",
       "<style scoped>\n",
       "    .dataframe tbody tr th:only-of-type {\n",
       "        vertical-align: middle;\n",
       "    }\n",
       "\n",
       "    .dataframe tbody tr th {\n",
       "        vertical-align: top;\n",
       "    }\n",
       "\n",
       "    .dataframe thead th {\n",
       "        text-align: right;\n",
       "    }\n",
       "</style>\n",
       "<table border=\"1\" class=\"dataframe\">\n",
       "  <thead>\n",
       "    <tr style=\"text-align: right;\">\n",
       "      <th></th>\n",
       "      <th>customer_id</th>\n",
       "      <th>monthly_charges</th>\n",
       "      <th>tenure</th>\n",
       "      <th>total_charges</th>\n",
       "      <th>contract_type_id</th>\n",
       "      <th>contract_type</th>\n",
       "    </tr>\n",
       "  </thead>\n",
       "  <tbody>\n",
       "    <tr>\n",
       "      <th>0</th>\n",
       "      <td>0016-QLJIS</td>\n",
       "      <td>90.45</td>\n",
       "      <td>65</td>\n",
       "      <td>5957.9</td>\n",
       "      <td>3</td>\n",
       "      <td>Two year</td>\n",
       "    </tr>\n",
       "    <tr>\n",
       "      <th>1</th>\n",
       "      <td>0017-DINOC</td>\n",
       "      <td>45.20</td>\n",
       "      <td>54</td>\n",
       "      <td>2460.55</td>\n",
       "      <td>3</td>\n",
       "      <td>Two year</td>\n",
       "    </tr>\n",
       "    <tr>\n",
       "      <th>2</th>\n",
       "      <td>0019-GFNTW</td>\n",
       "      <td>45.05</td>\n",
       "      <td>56</td>\n",
       "      <td>2560.1</td>\n",
       "      <td>3</td>\n",
       "      <td>Two year</td>\n",
       "    </tr>\n",
       "    <tr>\n",
       "      <th>3</th>\n",
       "      <td>0056-EPFBG</td>\n",
       "      <td>39.40</td>\n",
       "      <td>20</td>\n",
       "      <td>825.4</td>\n",
       "      <td>3</td>\n",
       "      <td>Two year</td>\n",
       "    </tr>\n",
       "    <tr>\n",
       "      <th>4</th>\n",
       "      <td>0078-XZMHT</td>\n",
       "      <td>85.15</td>\n",
       "      <td>72</td>\n",
       "      <td>6316.2</td>\n",
       "      <td>3</td>\n",
       "      <td>Two year</td>\n",
       "    </tr>\n",
       "  </tbody>\n",
       "</table>\n",
       "</div>"
      ],
      "text/plain": [
       "  customer_id  monthly_charges  tenure total_charges  contract_type_id  \\\n",
       "0  0016-QLJIS            90.45      65        5957.9                 3   \n",
       "1  0017-DINOC            45.20      54       2460.55                 3   \n",
       "2  0019-GFNTW            45.05      56        2560.1                 3   \n",
       "3  0056-EPFBG            39.40      20         825.4                 3   \n",
       "4  0078-XZMHT            85.15      72        6316.2                 3   \n",
       "\n",
       "  contract_type  \n",
       "0      Two year  \n",
       "1      Two year  \n",
       "2      Two year  \n",
       "3      Two year  \n",
       "4      Two year  "
      ]
     },
     "execution_count": 4,
     "metadata": {},
     "output_type": "execute_result"
    }
   ],
   "source": [
    "df = wrangle.telco_data_two_year()\n",
    "df.head()"
   ]
  },
  {
   "cell_type": "code",
   "execution_count": 5,
   "metadata": {},
   "outputs": [
    {
     "data": {
      "text/plain": [
       "(1695, 6)"
      ]
     },
     "execution_count": 5,
     "metadata": {},
     "output_type": "execute_result"
    }
   ],
   "source": [
    "# Aquire steps for initial visualization:\n",
    "\n",
    "df.shape"
   ]
  },
  {
   "cell_type": "code",
   "execution_count": 6,
   "metadata": {},
   "outputs": [
    {
     "name": "stdout",
     "output_type": "stream",
     "text": [
      "<class 'pandas.core.frame.DataFrame'>\n",
      "RangeIndex: 1695 entries, 0 to 1694\n",
      "Data columns (total 6 columns):\n",
      " #   Column            Non-Null Count  Dtype  \n",
      "---  ------            --------------  -----  \n",
      " 0   customer_id       1695 non-null   object \n",
      " 1   monthly_charges   1695 non-null   float64\n",
      " 2   tenure            1695 non-null   int64  \n",
      " 3   total_charges     1695 non-null   object \n",
      " 4   contract_type_id  1695 non-null   int64  \n",
      " 5   contract_type     1695 non-null   object \n",
      "dtypes: float64(1), int64(2), object(3)\n",
      "memory usage: 79.6+ KB\n"
     ]
    }
   ],
   "source": [
    "df.info()"
   ]
  },
  {
   "cell_type": "code",
   "execution_count": 6,
   "metadata": {},
   "outputs": [
    {
     "data": {
      "text/html": [
       "<div>\n",
       "<style scoped>\n",
       "    .dataframe tbody tr th:only-of-type {\n",
       "        vertical-align: middle;\n",
       "    }\n",
       "\n",
       "    .dataframe tbody tr th {\n",
       "        vertical-align: top;\n",
       "    }\n",
       "\n",
       "    .dataframe thead th {\n",
       "        text-align: right;\n",
       "    }\n",
       "</style>\n",
       "<table border=\"1\" class=\"dataframe\">\n",
       "  <thead>\n",
       "    <tr style=\"text-align: right;\">\n",
       "      <th></th>\n",
       "      <th>monthly_charges</th>\n",
       "      <th>tenure</th>\n",
       "      <th>contract_type_id</th>\n",
       "    </tr>\n",
       "  </thead>\n",
       "  <tbody>\n",
       "    <tr>\n",
       "      <th>count</th>\n",
       "      <td>1695.000000</td>\n",
       "      <td>1695.000000</td>\n",
       "      <td>1695.0</td>\n",
       "    </tr>\n",
       "    <tr>\n",
       "      <th>mean</th>\n",
       "      <td>60.770413</td>\n",
       "      <td>56.735103</td>\n",
       "      <td>3.0</td>\n",
       "    </tr>\n",
       "    <tr>\n",
       "      <th>std</th>\n",
       "      <td>34.678865</td>\n",
       "      <td>18.209363</td>\n",
       "      <td>0.0</td>\n",
       "    </tr>\n",
       "    <tr>\n",
       "      <th>min</th>\n",
       "      <td>18.400000</td>\n",
       "      <td>0.000000</td>\n",
       "      <td>3.0</td>\n",
       "    </tr>\n",
       "    <tr>\n",
       "      <th>25%</th>\n",
       "      <td>24.025000</td>\n",
       "      <td>48.000000</td>\n",
       "      <td>3.0</td>\n",
       "    </tr>\n",
       "    <tr>\n",
       "      <th>50%</th>\n",
       "      <td>64.350000</td>\n",
       "      <td>64.000000</td>\n",
       "      <td>3.0</td>\n",
       "    </tr>\n",
       "    <tr>\n",
       "      <th>75%</th>\n",
       "      <td>90.450000</td>\n",
       "      <td>71.000000</td>\n",
       "      <td>3.0</td>\n",
       "    </tr>\n",
       "    <tr>\n",
       "      <th>max</th>\n",
       "      <td>118.750000</td>\n",
       "      <td>72.000000</td>\n",
       "      <td>3.0</td>\n",
       "    </tr>\n",
       "  </tbody>\n",
       "</table>\n",
       "</div>"
      ],
      "text/plain": [
       "       monthly_charges       tenure  contract_type_id\n",
       "count      1695.000000  1695.000000            1695.0\n",
       "mean         60.770413    56.735103               3.0\n",
       "std          34.678865    18.209363               0.0\n",
       "min          18.400000     0.000000               3.0\n",
       "25%          24.025000    48.000000               3.0\n",
       "50%          64.350000    64.000000               3.0\n",
       "75%          90.450000    71.000000               3.0\n",
       "max         118.750000    72.000000               3.0"
      ]
     },
     "execution_count": 6,
     "metadata": {},
     "output_type": "execute_result"
    }
   ],
   "source": [
    "df.describe()"
   ]
  },
  {
   "cell_type": "code",
   "execution_count": 7,
   "metadata": {},
   "outputs": [
    {
     "data": {
      "text/plain": [
       "(10, 6)"
      ]
     },
     "execution_count": 7,
     "metadata": {},
     "output_type": "execute_result"
    }
   ],
   "source": [
    "df[df.total_charges == \" \"].shape"
   ]
  },
  {
   "cell_type": "markdown",
   "metadata": {},
   "source": [
    "It appears there are 10 rows that are blank in the `total_charges` column. This makes sense since the tenure of these customers is 0, meaning they just started as customers. In the interest of keeping things clean, I'll opt to drop those rows by using the following code in the prep function:\n",
    "\n",
    "> df2.drop(df2[df2['total_charges'] == \" \"].index, inplace = True)\n",
    "\n",
    "This will allow me to completely ignore those missing values, and I can convert the rest of the column to a float."
   ]
  },
  {
   "cell_type": "code",
   "execution_count": 8,
   "metadata": {},
   "outputs": [
    {
     "data": {
      "text/html": [
       "<div>\n",
       "<style scoped>\n",
       "    .dataframe tbody tr th:only-of-type {\n",
       "        vertical-align: middle;\n",
       "    }\n",
       "\n",
       "    .dataframe tbody tr th {\n",
       "        vertical-align: top;\n",
       "    }\n",
       "\n",
       "    .dataframe thead th {\n",
       "        text-align: right;\n",
       "    }\n",
       "</style>\n",
       "<table border=\"1\" class=\"dataframe\">\n",
       "  <thead>\n",
       "    <tr style=\"text-align: right;\">\n",
       "      <th></th>\n",
       "      <th>customer_id</th>\n",
       "      <th>monthly_charges</th>\n",
       "      <th>tenure</th>\n",
       "      <th>total_charges</th>\n",
       "      <th>contract_type_id</th>\n",
       "      <th>contract_type</th>\n",
       "    </tr>\n",
       "  </thead>\n",
       "  <tbody>\n",
       "    <tr>\n",
       "      <th>0</th>\n",
       "      <td>0016-QLJIS</td>\n",
       "      <td>90.45</td>\n",
       "      <td>65</td>\n",
       "      <td>5957.9</td>\n",
       "      <td>3</td>\n",
       "      <td>Two year</td>\n",
       "    </tr>\n",
       "    <tr>\n",
       "      <th>1</th>\n",
       "      <td>0017-DINOC</td>\n",
       "      <td>45.20</td>\n",
       "      <td>54</td>\n",
       "      <td>2460.55</td>\n",
       "      <td>3</td>\n",
       "      <td>Two year</td>\n",
       "    </tr>\n",
       "    <tr>\n",
       "      <th>2</th>\n",
       "      <td>0019-GFNTW</td>\n",
       "      <td>45.05</td>\n",
       "      <td>56</td>\n",
       "      <td>2560.1</td>\n",
       "      <td>3</td>\n",
       "      <td>Two year</td>\n",
       "    </tr>\n",
       "    <tr>\n",
       "      <th>3</th>\n",
       "      <td>0056-EPFBG</td>\n",
       "      <td>39.40</td>\n",
       "      <td>20</td>\n",
       "      <td>825.4</td>\n",
       "      <td>3</td>\n",
       "      <td>Two year</td>\n",
       "    </tr>\n",
       "    <tr>\n",
       "      <th>4</th>\n",
       "      <td>0078-XZMHT</td>\n",
       "      <td>85.15</td>\n",
       "      <td>72</td>\n",
       "      <td>6316.2</td>\n",
       "      <td>3</td>\n",
       "      <td>Two year</td>\n",
       "    </tr>\n",
       "  </tbody>\n",
       "</table>\n",
       "</div>"
      ],
      "text/plain": [
       "  customer_id  monthly_charges  tenure total_charges  contract_type_id  \\\n",
       "0  0016-QLJIS            90.45      65        5957.9                 3   \n",
       "1  0017-DINOC            45.20      54       2460.55                 3   \n",
       "2  0019-GFNTW            45.05      56        2560.1                 3   \n",
       "3  0056-EPFBG            39.40      20         825.4                 3   \n",
       "4  0078-XZMHT            85.15      72        6316.2                 3   \n",
       "\n",
       "  contract_type  \n",
       "0      Two year  \n",
       "1      Two year  \n",
       "2      Two year  \n",
       "3      Two year  \n",
       "4      Two year  "
      ]
     },
     "execution_count": 8,
     "metadata": {},
     "output_type": "execute_result"
    }
   ],
   "source": [
    "df.head()"
   ]
  },
  {
   "cell_type": "markdown",
   "metadata": {},
   "source": [
    "#### Takeaways:\n",
    "- `total_charges` is an object; needs to be converted to a float.\n",
    "- `contract_type_id` is a float, might need to be reorganized to a categorical value.\n",
    "- `tenure` is in months currently. If I need to break things down by years, I'll need to create a new column that is something like round(tenure / 12, 0). I don't want decimals in my year column since the only reason to use a year would be to title or bin customers.\n",
    "- Drop `total_charges` rows that are blank, since there are limited number of observations with missing values.\n",
    "- All these changes need to take place in the prep file."
   ]
  },
  {
   "cell_type": "code",
   "execution_count": null,
   "metadata": {},
   "outputs": [],
   "source": [
    "df.drop(df[df['total_charges'] == \" \"].index, inplace = True)"
   ]
  },
  {
   "cell_type": "code",
   "execution_count": null,
   "metadata": {},
   "outputs": [],
   "source": [
    "# Note there are 10 fewer rows than the last time I ran .shape. And the difference is 10 rows, which I identified\n",
    "# above in the dataframe.\n",
    "\n",
    "df.shape"
   ]
  },
  {
   "cell_type": "code",
   "execution_count": null,
   "metadata": {},
   "outputs": [],
   "source": [
    "df.total_charges.dtype"
   ]
  },
  {
   "cell_type": "code",
   "execution_count": null,
   "metadata": {},
   "outputs": [],
   "source": [
    "df['total_charges'] = df.total_charges.astype('float')"
   ]
  },
  {
   "cell_type": "code",
   "execution_count": null,
   "metadata": {},
   "outputs": [],
   "source": [
    "df.total_charges.dtype"
   ]
  },
  {
   "cell_type": "code",
   "execution_count": null,
   "metadata": {},
   "outputs": [],
   "source": [
    "df.shape"
   ]
  },
  {
   "cell_type": "code",
   "execution_count": null,
   "metadata": {},
   "outputs": [],
   "source": [
    "df['total_charges'] = pd.to_numeric(df['total_charges'], downcast = 'float')"
   ]
  },
  {
   "cell_type": "code",
   "execution_count": null,
   "metadata": {},
   "outputs": [],
   "source": [
    "df.total_charges.dtype"
   ]
  },
  {
   "cell_type": "code",
   "execution_count": null,
   "metadata": {},
   "outputs": [],
   "source": [
    "def prep_acquired_telco(df):\n",
    "    '''\n",
    "    This function will both acquire and prep the modified telco dataset (only 2-yr contracts)\n",
    "    and return the train, validate, and test datasets. It will read off a .csv that is in the working directory\n",
    "    if it exists, otherwise the function will pull the data from the Codeup db.\n",
    "    '''\n",
    "    \n",
    "    # Cleaning the total_costs column by dropping empty values:\n",
    "    df.drop(df[df['total_charges'] == \" \"].index, inplace = True)\n",
    "    \n",
    "    # Changing the total_costs column to a float:\n",
    "    df['total_charges'] = df.total_charges.astype('float')\n",
    "    \n",
    "    # Finally, splitting my data based on the target variable of tenure:\n",
    "    \n",
    "    train_validate, test = train_test_split(df, test_size=.15, \n",
    "                                            random_state=123)\n",
    "    \n",
    "    # Splitting the train_validate set into the separate train and validate datasets.\n",
    "    train, validate = train_test_split(train_validate, test_size=.15, \n",
    "                                   random_state=123)\n",
    "    print(f'Shape of train df: {train.shape}')\n",
    "    print(f'Shape of validate df: {validate.shape}')\n",
    "    print(f'Shape of test df: {test.shape}')\n",
    "    return train, validate, test"
   ]
  },
  {
   "cell_type": "code",
   "execution_count": 9,
   "metadata": {},
   "outputs": [],
   "source": [
    "def prep_acquired_telco(df):\n",
    "    '''\n",
    "    This function will both acquire and prep the modified telco dataset (only 2-yr contracts)\n",
    "    and return the train, validate, and test datasets. It will read off a .csv that is in the working directory\n",
    "    if it exists, otherwise the function will pull the data from the Codeup db.\n",
    "    '''\n",
    "    # First, I need to acquire the dataframe within this function:\n",
    "    df = pd.read_csv('telco_customers_df_two_year.csv', index_col = 0)\n",
    "\n",
    "    \n",
    "    # Cleaning the total_costs column by dropping empty values:\n",
    "    df.drop(df[df['total_charges'] == \" \"].index, inplace = True)\n",
    "    \n",
    "    # Changing the total_costs column to a float:\n",
    "    df['total_charges'] = df.total_charges.astype('float')\n",
    "    \n",
    "    # Finally, splitting my data based on the target variable of tenure:\n",
    "    \n",
    "    train_validate, test = train_test_split(df, test_size=.15, \n",
    "                                            random_state=123)\n",
    "    \n",
    "    # Splitting the train_validate set into the separate train and validate datasets.\n",
    "    train, validate = train_test_split(train_validate, test_size=.15, \n",
    "                                   random_state=123)\n",
    "    print(f'Shape of train df: {train.shape}')\n",
    "    print(f'Shape of validate df: {validate.shape}')\n",
    "    print(f'Shape of test df: {test.shape}')\n",
    "    return train, validate, test"
   ]
  },
  {
   "cell_type": "code",
   "execution_count": 10,
   "metadata": {},
   "outputs": [
    {
     "name": "stdout",
     "output_type": "stream",
     "text": [
      "Shape of train df: (1217, 6)\n",
      "Shape of validate df: (215, 6)\n",
      "Shape of test df: (253, 6)\n"
     ]
    }
   ],
   "source": [
    "train, validate, test = prep_acquired_telco(df)"
   ]
  },
  {
   "cell_type": "code",
   "execution_count": 11,
   "metadata": {},
   "outputs": [
    {
     "data": {
      "text/html": [
       "<div>\n",
       "<style scoped>\n",
       "    .dataframe tbody tr th:only-of-type {\n",
       "        vertical-align: middle;\n",
       "    }\n",
       "\n",
       "    .dataframe tbody tr th {\n",
       "        vertical-align: top;\n",
       "    }\n",
       "\n",
       "    .dataframe thead th {\n",
       "        text-align: right;\n",
       "    }\n",
       "</style>\n",
       "<table border=\"1\" class=\"dataframe\">\n",
       "  <thead>\n",
       "    <tr style=\"text-align: right;\">\n",
       "      <th></th>\n",
       "      <th>customer_id</th>\n",
       "      <th>monthly_charges</th>\n",
       "      <th>tenure</th>\n",
       "      <th>total_charges</th>\n",
       "      <th>contract_type_id</th>\n",
       "      <th>contract_type</th>\n",
       "    </tr>\n",
       "  </thead>\n",
       "  <tbody>\n",
       "    <tr>\n",
       "      <th>1050</th>\n",
       "      <td>9861-PDSZP</td>\n",
       "      <td>108.05</td>\n",
       "      <td>72</td>\n",
       "      <td>7806.60</td>\n",
       "      <td>3</td>\n",
       "      <td>Two year</td>\n",
       "    </tr>\n",
       "    <tr>\n",
       "      <th>971</th>\n",
       "      <td>8041-TMEID</td>\n",
       "      <td>108.50</td>\n",
       "      <td>63</td>\n",
       "      <td>6991.90</td>\n",
       "      <td>3</td>\n",
       "      <td>Two year</td>\n",
       "    </tr>\n",
       "    <tr>\n",
       "      <th>590</th>\n",
       "      <td>9443-JUBUO</td>\n",
       "      <td>65.25</td>\n",
       "      <td>72</td>\n",
       "      <td>4478.85</td>\n",
       "      <td>3</td>\n",
       "      <td>Two year</td>\n",
       "    </tr>\n",
       "    <tr>\n",
       "      <th>588</th>\n",
       "      <td>9415-ZNBSX</td>\n",
       "      <td>89.00</td>\n",
       "      <td>70</td>\n",
       "      <td>6293.20</td>\n",
       "      <td>3</td>\n",
       "      <td>Two year</td>\n",
       "    </tr>\n",
       "    <tr>\n",
       "      <th>1322</th>\n",
       "      <td>3976-HXHCE</td>\n",
       "      <td>19.30</td>\n",
       "      <td>72</td>\n",
       "      <td>1414.80</td>\n",
       "      <td>3</td>\n",
       "      <td>Two year</td>\n",
       "    </tr>\n",
       "    <tr>\n",
       "      <th>...</th>\n",
       "      <td>...</td>\n",
       "      <td>...</td>\n",
       "      <td>...</td>\n",
       "      <td>...</td>\n",
       "      <td>...</td>\n",
       "      <td>...</td>\n",
       "    </tr>\n",
       "    <tr>\n",
       "      <th>1218</th>\n",
       "      <td>2481-SBOYW</td>\n",
       "      <td>25.00</td>\n",
       "      <td>61</td>\n",
       "      <td>1498.35</td>\n",
       "      <td>3</td>\n",
       "      <td>Two year</td>\n",
       "    </tr>\n",
       "    <tr>\n",
       "      <th>355</th>\n",
       "      <td>5915-ANOEI</td>\n",
       "      <td>79.15</td>\n",
       "      <td>70</td>\n",
       "      <td>5536.50</td>\n",
       "      <td>3</td>\n",
       "      <td>Two year</td>\n",
       "    </tr>\n",
       "    <tr>\n",
       "      <th>1085</th>\n",
       "      <td>0505-SPOOW</td>\n",
       "      <td>19.80</td>\n",
       "      <td>70</td>\n",
       "      <td>1397.65</td>\n",
       "      <td>3</td>\n",
       "      <td>Two year</td>\n",
       "    </tr>\n",
       "    <tr>\n",
       "      <th>613</th>\n",
       "      <td>9795-NREXC</td>\n",
       "      <td>85.00</td>\n",
       "      <td>64</td>\n",
       "      <td>5484.40</td>\n",
       "      <td>3</td>\n",
       "      <td>Two year</td>\n",
       "    </tr>\n",
       "    <tr>\n",
       "      <th>215</th>\n",
       "      <td>3704-IEAXF</td>\n",
       "      <td>53.65</td>\n",
       "      <td>72</td>\n",
       "      <td>3784.00</td>\n",
       "      <td>3</td>\n",
       "      <td>Two year</td>\n",
       "    </tr>\n",
       "  </tbody>\n",
       "</table>\n",
       "<p>1217 rows × 6 columns</p>\n",
       "</div>"
      ],
      "text/plain": [
       "     customer_id  monthly_charges  tenure  total_charges  contract_type_id  \\\n",
       "1050  9861-PDSZP           108.05      72        7806.60                 3   \n",
       "971   8041-TMEID           108.50      63        6991.90                 3   \n",
       "590   9443-JUBUO            65.25      72        4478.85                 3   \n",
       "588   9415-ZNBSX            89.00      70        6293.20                 3   \n",
       "1322  3976-HXHCE            19.30      72        1414.80                 3   \n",
       "...          ...              ...     ...            ...               ...   \n",
       "1218  2481-SBOYW            25.00      61        1498.35                 3   \n",
       "355   5915-ANOEI            79.15      70        5536.50                 3   \n",
       "1085  0505-SPOOW            19.80      70        1397.65                 3   \n",
       "613   9795-NREXC            85.00      64        5484.40                 3   \n",
       "215   3704-IEAXF            53.65      72        3784.00                 3   \n",
       "\n",
       "     contract_type  \n",
       "1050      Two year  \n",
       "971       Two year  \n",
       "590       Two year  \n",
       "588       Two year  \n",
       "1322      Two year  \n",
       "...            ...  \n",
       "1218      Two year  \n",
       "355       Two year  \n",
       "1085      Two year  \n",
       "613       Two year  \n",
       "215       Two year  \n",
       "\n",
       "[1217 rows x 6 columns]"
      ]
     },
     "execution_count": 11,
     "metadata": {},
     "output_type": "execute_result"
    }
   ],
   "source": [
    "train"
   ]
  },
  {
   "cell_type": "code",
   "execution_count": null,
   "metadata": {},
   "outputs": [],
   "source": [
    "df3 = pd.read_csv('telco_customers_df_two_year.csv', index_col = 0)\n",
    "df3"
   ]
  },
  {
   "cell_type": "markdown",
   "metadata": {},
   "source": [
    "# Putting it all together"
   ]
  },
  {
   "cell_type": "code",
   "execution_count": null,
   "metadata": {},
   "outputs": [],
   "source": [
    "def prep_acquired_telco(df, target):\n",
    "    '''\n",
    "    This function will both acquire and prep the modified telco dataset (only 2-yr contracts)\n",
    "    and return the train, validate, and test datasets. It will read off a .csv that is in the working directory\n",
    "    if it exists, otherwise the function will pull the data from the Codeup db.\n",
    "    '''\n",
    "    # First, I need to acquire the dataframe within this function:\n",
    "    df = pd.read_csv('telco_customers_df_two_year.csv', index_col = 0)\n",
    "\n",
    "    \n",
    "    # Cleaning the total_costs column by dropping empty values:\n",
    "    df.drop(df[df['total_charges'] == \" \"].index, inplace = True)\n",
    "    \n",
    "    # Changing the total_costs column to a float:\n",
    "    df['total_charges'] = df.total_charges.astype('float')\n",
    "    \n",
    "    # Finally, splitting my data based on the target variable of tenure:\n",
    "    \n",
    "    train_validate, test = train_test_split(df, test_size=.15, \n",
    "                                            random_state=123)\n",
    "    \n",
    "    # Splitting the train_validate set into the separate train and validate datasets.\n",
    "    train, validate = train_test_split(train_validate, test_size=.15, \n",
    "                                   random_state=123)\n",
    "    print(f'Shape of train df: {train.shape}')\n",
    "    print(f'Shape of validate df: {validate.shape}')\n",
    "    print(f'Shape of test df: {test.shape}')\n",
    "    return train, validate, test"
   ]
  },
  {
   "cell_type": "code",
   "execution_count": 7,
   "metadata": {},
   "outputs": [],
   "source": [
    "path = 'student-mat.csv'"
   ]
  },
  {
   "cell_type": "code",
   "execution_count": 8,
   "metadata": {},
   "outputs": [],
   "source": [
    "# Example all together function:\n",
    "\n",
    "def wrangle_student_math(path):\n",
    "    df = pd.read_csv(path, sep=\";\")\n",
    "    \n",
    "    # drop any nulls\n",
    "    df = df[~df.isnull()]\n",
    "\n",
    "    # get object column names\n",
    "    object_cols = get_object_cols(df)\n",
    "    \n",
    "    # create dummy vars\n",
    "    df = create_dummies(df, object_cols)\n",
    "      \n",
    "    # split data \n",
    "    X_train, y_train, X_validate, y_validate, X_test, y_test = train_validate_test(df, 'G3')\n",
    "    \n",
    "    # get numeric column names\n",
    "    numeric_cols = get_numeric_X_cols(X_train, object_cols)\n",
    "\n",
    "    # scale data \n",
    "    X_train_scaled, X_validate_scaled, X_test_scaled = min_max_scale(X_train, X_validate, X_test, numeric_cols)\n",
    "    \n",
    "    return df, X_train, X_train_scaled, y_train, X_validate_scaled, y_validate, X_test_scaled, y_test\n",
    "\n",
    "\n"
   ]
  },
  {
   "cell_type": "code",
   "execution_count": 9,
   "metadata": {},
   "outputs": [],
   "source": [
    "# And how it was called:\n",
    "df, X_train_explore, \\\n",
    "    X_train_scaled, y_train, \\\n",
    "    X_validate_scaled, y_validate, \\\n",
    "    X_test_scaled, y_test = wrangle.wrangle_student_math(path)"
   ]
  },
  {
   "cell_type": "code",
   "execution_count": 10,
   "metadata": {},
   "outputs": [
    {
     "data": {
      "text/html": [
       "<div>\n",
       "<style scoped>\n",
       "    .dataframe tbody tr th:only-of-type {\n",
       "        vertical-align: middle;\n",
       "    }\n",
       "\n",
       "    .dataframe tbody tr th {\n",
       "        vertical-align: top;\n",
       "    }\n",
       "\n",
       "    .dataframe thead th {\n",
       "        text-align: right;\n",
       "    }\n",
       "</style>\n",
       "<table border=\"1\" class=\"dataframe\">\n",
       "  <thead>\n",
       "    <tr style=\"text-align: right;\">\n",
       "      <th></th>\n",
       "      <th>age</th>\n",
       "      <th>Medu</th>\n",
       "      <th>Fedu</th>\n",
       "      <th>traveltime</th>\n",
       "      <th>studytime</th>\n",
       "      <th>failures</th>\n",
       "      <th>famrel</th>\n",
       "      <th>freetime</th>\n",
       "      <th>goout</th>\n",
       "      <th>Dalc</th>\n",
       "      <th>Walc</th>\n",
       "      <th>health</th>\n",
       "      <th>absences</th>\n",
       "      <th>G1</th>\n",
       "      <th>G2</th>\n",
       "    </tr>\n",
       "  </thead>\n",
       "  <tbody>\n",
       "    <tr>\n",
       "      <th>142</th>\n",
       "      <td>0.000000</td>\n",
       "      <td>1.00</td>\n",
       "      <td>1.00</td>\n",
       "      <td>0.000000</td>\n",
       "      <td>0.666667</td>\n",
       "      <td>0.000000</td>\n",
       "      <td>0.75</td>\n",
       "      <td>0.25</td>\n",
       "      <td>0.25</td>\n",
       "      <td>0.00</td>\n",
       "      <td>0.00</td>\n",
       "      <td>1.00</td>\n",
       "      <td>0.035714</td>\n",
       "      <td>0.357143</td>\n",
       "      <td>0.578947</td>\n",
       "    </tr>\n",
       "    <tr>\n",
       "      <th>326</th>\n",
       "      <td>0.333333</td>\n",
       "      <td>0.75</td>\n",
       "      <td>0.75</td>\n",
       "      <td>0.000000</td>\n",
       "      <td>0.000000</td>\n",
       "      <td>0.000000</td>\n",
       "      <td>0.75</td>\n",
       "      <td>0.50</td>\n",
       "      <td>1.00</td>\n",
       "      <td>0.50</td>\n",
       "      <td>1.00</td>\n",
       "      <td>1.00</td>\n",
       "      <td>0.053571</td>\n",
       "      <td>0.714286</td>\n",
       "      <td>0.789474</td>\n",
       "    </tr>\n",
       "    <tr>\n",
       "      <th>88</th>\n",
       "      <td>0.166667</td>\n",
       "      <td>0.50</td>\n",
       "      <td>0.50</td>\n",
       "      <td>0.333333</td>\n",
       "      <td>0.333333</td>\n",
       "      <td>0.333333</td>\n",
       "      <td>0.75</td>\n",
       "      <td>0.75</td>\n",
       "      <td>0.25</td>\n",
       "      <td>0.00</td>\n",
       "      <td>0.00</td>\n",
       "      <td>0.50</td>\n",
       "      <td>0.214286</td>\n",
       "      <td>0.500000</td>\n",
       "      <td>0.526316</td>\n",
       "    </tr>\n",
       "    <tr>\n",
       "      <th>118</th>\n",
       "      <td>0.333333</td>\n",
       "      <td>0.25</td>\n",
       "      <td>0.75</td>\n",
       "      <td>0.666667</td>\n",
       "      <td>0.333333</td>\n",
       "      <td>0.333333</td>\n",
       "      <td>1.00</td>\n",
       "      <td>0.25</td>\n",
       "      <td>0.75</td>\n",
       "      <td>0.00</td>\n",
       "      <td>0.75</td>\n",
       "      <td>1.00</td>\n",
       "      <td>0.357143</td>\n",
       "      <td>0.357143</td>\n",
       "      <td>0.368421</td>\n",
       "    </tr>\n",
       "    <tr>\n",
       "      <th>312</th>\n",
       "      <td>0.666667</td>\n",
       "      <td>0.25</td>\n",
       "      <td>0.50</td>\n",
       "      <td>0.000000</td>\n",
       "      <td>0.333333</td>\n",
       "      <td>0.333333</td>\n",
       "      <td>0.75</td>\n",
       "      <td>1.00</td>\n",
       "      <td>0.25</td>\n",
       "      <td>0.25</td>\n",
       "      <td>0.25</td>\n",
       "      <td>0.75</td>\n",
       "      <td>0.053571</td>\n",
       "      <td>0.642857</td>\n",
       "      <td>0.578947</td>\n",
       "    </tr>\n",
       "  </tbody>\n",
       "</table>\n",
       "</div>"
      ],
      "text/plain": [
       "          age  Medu  Fedu  traveltime  studytime  failures  famrel  freetime  \\\n",
       "142  0.000000  1.00  1.00    0.000000   0.666667  0.000000    0.75      0.25   \n",
       "326  0.333333  0.75  0.75    0.000000   0.000000  0.000000    0.75      0.50   \n",
       "88   0.166667  0.50  0.50    0.333333   0.333333  0.333333    0.75      0.75   \n",
       "118  0.333333  0.25  0.75    0.666667   0.333333  0.333333    1.00      0.25   \n",
       "312  0.666667  0.25  0.50    0.000000   0.333333  0.333333    0.75      1.00   \n",
       "\n",
       "     goout  Dalc  Walc  health  absences        G1        G2  \n",
       "142   0.25  0.00  0.00    1.00  0.035714  0.357143  0.578947  \n",
       "326   1.00  0.50  1.00    1.00  0.053571  0.714286  0.789474  \n",
       "88    0.25  0.00  0.00    0.50  0.214286  0.500000  0.526316  \n",
       "118   0.75  0.00  0.75    1.00  0.357143  0.357143  0.368421  \n",
       "312   0.25  0.25  0.25    0.75  0.053571  0.642857  0.578947  "
      ]
     },
     "execution_count": 10,
     "metadata": {},
     "output_type": "execute_result"
    }
   ],
   "source": [
    "X_train_scaled.head()"
   ]
  },
  {
   "cell_type": "code",
   "execution_count": 11,
   "metadata": {},
   "outputs": [
    {
     "data": {
      "text/plain": [
       "142    11\n",
       "326    16\n",
       "88     10\n",
       "118     8\n",
       "312    11\n",
       "Name: G3, dtype: int64"
      ]
     },
     "execution_count": 11,
     "metadata": {},
     "output_type": "execute_result"
    }
   ],
   "source": [
    "y_train.head()"
   ]
  },
  {
   "cell_type": "code",
   "execution_count": 12,
   "metadata": {},
   "outputs": [],
   "source": [
    "path = 'telco_customers_df_two_year.csv'"
   ]
  },
  {
   "cell_type": "code",
   "execution_count": null,
   "metadata": {},
   "outputs": [],
   "source": []
  }
 ],
 "metadata": {
  "kernelspec": {
   "display_name": "Python 3",
   "language": "python",
   "name": "python3"
  },
  "language_info": {
   "codemirror_mode": {
    "name": "ipython",
    "version": 3
   },
   "file_extension": ".py",
   "mimetype": "text/x-python",
   "name": "python",
   "nbconvert_exporter": "python",
   "pygments_lexer": "ipython3",
   "version": "3.7.9"
  }
 },
 "nbformat": 4,
 "nbformat_minor": 4
}
