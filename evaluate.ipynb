{
 "cells": [
  {
   "cell_type": "markdown",
   "metadata": {},
   "source": [
    "# Evaluate Lesson Exercises"
   ]
  },
  {
   "cell_type": "markdown",
   "metadata": {},
   "source": [
    "Do you work for this exercise in either a jupyter notebook named `evaluate` within your regression-exercises repository. By the end of this exercise you will also create a python script named `evaluate`, so the overall deliverables for this exercise are the python script and jupyter notebook both with the name `evaluate` within your regression-exercises repo."
   ]
  },
  {
   "cell_type": "code",
   "execution_count": null,
   "metadata": {},
   "outputs": [],
   "source": [
    "# References:\n",
    "# https://github.com/CodeupClassroom/darden-regression-exercises/blob/master/eval.ipynb"
   ]
  },
  {
   "cell_type": "code",
   "execution_count": 1,
   "metadata": {},
   "outputs": [],
   "source": [
    "import warnings\n",
    "warnings.filterwarnings(\"ignore\")\n",
    "\n",
    "import pandas as pd\n",
    "import matplotlib.pyplot as plt\n",
    "import seaborn as sns\n",
    "import numpy as np\n",
    "from pydataset import data\n",
    "\n",
    "import math\n",
    "from sklearn.metrics import mean_squared_error\n",
    "from math import sqrt\n",
    "\n",
    "\n",
    "from statsmodels.formula.api import ols"
   ]
  },
  {
   "cell_type": "code",
   "execution_count": null,
   "metadata": {},
   "outputs": [],
   "source": [
    "df = pd.read_csv(\"https://gist.githubusercontent.com/ryanorsinger/9867c96ddb56626e9aac94d8e92dabdf/raw/45f9a36a8871ac0e24317704ed0072c9dded1327/lemonade_regression.csv\")\n",
    "df.to_csv('lemonade.csv', index = False)"
   ]
  },
  {
   "cell_type": "code",
   "execution_count": 2,
   "metadata": {},
   "outputs": [
    {
     "data": {
      "text/html": [
       "<div>\n",
       "<style scoped>\n",
       "    .dataframe tbody tr th:only-of-type {\n",
       "        vertical-align: middle;\n",
       "    }\n",
       "\n",
       "    .dataframe tbody tr th {\n",
       "        vertical-align: top;\n",
       "    }\n",
       "\n",
       "    .dataframe thead th {\n",
       "        text-align: right;\n",
       "    }\n",
       "</style>\n",
       "<table border=\"1\" class=\"dataframe\">\n",
       "  <thead>\n",
       "    <tr style=\"text-align: right;\">\n",
       "      <th></th>\n",
       "      <th>temperature</th>\n",
       "      <th>rainfall</th>\n",
       "      <th>flyers</th>\n",
       "      <th>sales</th>\n",
       "    </tr>\n",
       "  </thead>\n",
       "  <tbody>\n",
       "    <tr>\n",
       "      <th>0</th>\n",
       "      <td>27.0</td>\n",
       "      <td>2.00</td>\n",
       "      <td>15</td>\n",
       "      <td>10</td>\n",
       "    </tr>\n",
       "    <tr>\n",
       "      <th>1</th>\n",
       "      <td>28.9</td>\n",
       "      <td>1.33</td>\n",
       "      <td>15</td>\n",
       "      <td>13</td>\n",
       "    </tr>\n",
       "    <tr>\n",
       "      <th>2</th>\n",
       "      <td>34.5</td>\n",
       "      <td>1.33</td>\n",
       "      <td>27</td>\n",
       "      <td>15</td>\n",
       "    </tr>\n",
       "    <tr>\n",
       "      <th>3</th>\n",
       "      <td>44.1</td>\n",
       "      <td>1.05</td>\n",
       "      <td>28</td>\n",
       "      <td>17</td>\n",
       "    </tr>\n",
       "    <tr>\n",
       "      <th>4</th>\n",
       "      <td>42.4</td>\n",
       "      <td>1.00</td>\n",
       "      <td>33</td>\n",
       "      <td>18</td>\n",
       "    </tr>\n",
       "    <tr>\n",
       "      <th>...</th>\n",
       "      <td>...</td>\n",
       "      <td>...</td>\n",
       "      <td>...</td>\n",
       "      <td>...</td>\n",
       "    </tr>\n",
       "    <tr>\n",
       "      <th>360</th>\n",
       "      <td>42.7</td>\n",
       "      <td>1.00</td>\n",
       "      <td>33</td>\n",
       "      <td>19</td>\n",
       "    </tr>\n",
       "    <tr>\n",
       "      <th>361</th>\n",
       "      <td>37.8</td>\n",
       "      <td>1.25</td>\n",
       "      <td>32</td>\n",
       "      <td>16</td>\n",
       "    </tr>\n",
       "    <tr>\n",
       "      <th>362</th>\n",
       "      <td>39.5</td>\n",
       "      <td>1.25</td>\n",
       "      <td>17</td>\n",
       "      <td>15</td>\n",
       "    </tr>\n",
       "    <tr>\n",
       "      <th>363</th>\n",
       "      <td>30.9</td>\n",
       "      <td>1.43</td>\n",
       "      <td>22</td>\n",
       "      <td>13</td>\n",
       "    </tr>\n",
       "    <tr>\n",
       "      <th>364</th>\n",
       "      <td>15.1</td>\n",
       "      <td>2.50</td>\n",
       "      <td>9</td>\n",
       "      <td>7</td>\n",
       "    </tr>\n",
       "  </tbody>\n",
       "</table>\n",
       "<p>365 rows × 4 columns</p>\n",
       "</div>"
      ],
      "text/plain": [
       "     temperature  rainfall  flyers  sales\n",
       "0           27.0      2.00      15     10\n",
       "1           28.9      1.33      15     13\n",
       "2           34.5      1.33      27     15\n",
       "3           44.1      1.05      28     17\n",
       "4           42.4      1.00      33     18\n",
       "..           ...       ...     ...    ...\n",
       "360         42.7      1.00      33     19\n",
       "361         37.8      1.25      32     16\n",
       "362         39.5      1.25      17     15\n",
       "363         30.9      1.43      22     13\n",
       "364         15.1      2.50       9      7\n",
       "\n",
       "[365 rows x 4 columns]"
      ]
     },
     "execution_count": 2,
     "metadata": {},
     "output_type": "execute_result"
    }
   ],
   "source": [
    "df = pd.read_csv('lemonade.csv')\n",
    "df"
   ]
  },
  {
   "cell_type": "code",
   "execution_count": 3,
   "metadata": {},
   "outputs": [],
   "source": [
    "# Settling significance level and alpha:\n",
    "\n",
    "significance_level = .95\n",
    "alpha = round(1-significance_level, 2)"
   ]
  },
  {
   "cell_type": "code",
   "execution_count": 4,
   "metadata": {},
   "outputs": [
    {
     "data": {
      "text/plain": [
       "25.323287671232876"
      ]
     },
     "execution_count": 4,
     "metadata": {},
     "output_type": "execute_result"
    }
   ],
   "source": [
    "# Creating a baseline (using the mean) for the sales column\n",
    "\n",
    "df.sales.mean()"
   ]
  },
  {
   "cell_type": "markdown",
   "metadata": {},
   "source": [
    "## Building a Super Simple Model (SSM™)"
   ]
  },
  {
   "cell_type": "code",
   "execution_count": 13,
   "metadata": {},
   "outputs": [],
   "source": [
    "# building the super-simple linear model (step 1):\n",
    "\n",
    "model = ols('sales ~ flyers', data = df).fit()\n",
    "# predictions = model.predict(df.x)"
   ]
  },
  {
   "cell_type": "code",
   "execution_count": 14,
   "metadata": {},
   "outputs": [
    {
     "data": {
      "text/plain": [
       "<statsmodels.regression.linear_model.RegressionResultsWrapper at 0x7fd1a1a16b90>"
      ]
     },
     "execution_count": 14,
     "metadata": {},
     "output_type": "execute_result"
    }
   ],
   "source": [
    "model"
   ]
  },
  {
   "cell_type": "code",
   "execution_count": 15,
   "metadata": {},
   "outputs": [
    {
     "data": {
      "text/html": [
       "<div>\n",
       "<style scoped>\n",
       "    .dataframe tbody tr th:only-of-type {\n",
       "        vertical-align: middle;\n",
       "    }\n",
       "\n",
       "    .dataframe tbody tr th {\n",
       "        vertical-align: top;\n",
       "    }\n",
       "\n",
       "    .dataframe thead th {\n",
       "        text-align: right;\n",
       "    }\n",
       "</style>\n",
       "<table border=\"1\" class=\"dataframe\">\n",
       "  <thead>\n",
       "    <tr style=\"text-align: right;\">\n",
       "      <th></th>\n",
       "      <th>x</th>\n",
       "    </tr>\n",
       "  </thead>\n",
       "  <tbody>\n",
       "    <tr>\n",
       "      <th>0</th>\n",
       "      <td>15</td>\n",
       "    </tr>\n",
       "    <tr>\n",
       "      <th>1</th>\n",
       "      <td>15</td>\n",
       "    </tr>\n",
       "    <tr>\n",
       "      <th>2</th>\n",
       "      <td>27</td>\n",
       "    </tr>\n",
       "    <tr>\n",
       "      <th>3</th>\n",
       "      <td>28</td>\n",
       "    </tr>\n",
       "    <tr>\n",
       "      <th>4</th>\n",
       "      <td>33</td>\n",
       "    </tr>\n",
       "  </tbody>\n",
       "</table>\n",
       "</div>"
      ],
      "text/plain": [
       "    x\n",
       "0  15\n",
       "1  15\n",
       "2  27\n",
       "3  28\n",
       "4  33"
      ]
     },
     "execution_count": 15,
     "metadata": {},
     "output_type": "execute_result"
    }
   ],
   "source": [
    "# Now that I've fit the model (which usually would be to my train data, I'll create the dataframe that contains the x and y parameters and eventually the predictions)\n",
    "\n",
    "evaluate = pd.DataFrame()\n",
    "\n",
    "evaluate['x'] = df.flyers\n",
    "evaluate.head()"
   ]
  },
  {
   "cell_type": "code",
   "execution_count": 16,
   "metadata": {},
   "outputs": [
    {
     "data": {
      "text/html": [
       "<div>\n",
       "<style scoped>\n",
       "    .dataframe tbody tr th:only-of-type {\n",
       "        vertical-align: middle;\n",
       "    }\n",
       "\n",
       "    .dataframe tbody tr th {\n",
       "        vertical-align: top;\n",
       "    }\n",
       "\n",
       "    .dataframe thead th {\n",
       "        text-align: right;\n",
       "    }\n",
       "</style>\n",
       "<table border=\"1\" class=\"dataframe\">\n",
       "  <thead>\n",
       "    <tr style=\"text-align: right;\">\n",
       "      <th></th>\n",
       "      <th>x</th>\n",
       "      <th>y</th>\n",
       "      <th>baseline</th>\n",
       "      <th>yhat</th>\n",
       "      <th>baseline_residual</th>\n",
       "      <th>model_residual</th>\n",
       "    </tr>\n",
       "  </thead>\n",
       "  <tbody>\n",
       "    <tr>\n",
       "      <th>0</th>\n",
       "      <td>15</td>\n",
       "      <td>10</td>\n",
       "      <td>25.323288</td>\n",
       "      <td>14.673754</td>\n",
       "      <td>15.323288</td>\n",
       "      <td>4.673754</td>\n",
       "    </tr>\n",
       "    <tr>\n",
       "      <th>1</th>\n",
       "      <td>15</td>\n",
       "      <td>13</td>\n",
       "      <td>25.323288</td>\n",
       "      <td>14.673754</td>\n",
       "      <td>12.323288</td>\n",
       "      <td>1.673754</td>\n",
       "    </tr>\n",
       "    <tr>\n",
       "      <th>2</th>\n",
       "      <td>27</td>\n",
       "      <td>15</td>\n",
       "      <td>25.323288</td>\n",
       "      <td>19.727926</td>\n",
       "      <td>10.323288</td>\n",
       "      <td>4.727926</td>\n",
       "    </tr>\n",
       "    <tr>\n",
       "      <th>3</th>\n",
       "      <td>28</td>\n",
       "      <td>17</td>\n",
       "      <td>25.323288</td>\n",
       "      <td>20.149107</td>\n",
       "      <td>8.323288</td>\n",
       "      <td>3.149107</td>\n",
       "    </tr>\n",
       "    <tr>\n",
       "      <th>4</th>\n",
       "      <td>33</td>\n",
       "      <td>18</td>\n",
       "      <td>25.323288</td>\n",
       "      <td>22.255013</td>\n",
       "      <td>7.323288</td>\n",
       "      <td>4.255013</td>\n",
       "    </tr>\n",
       "  </tbody>\n",
       "</table>\n",
       "</div>"
      ],
      "text/plain": [
       "    x   y   baseline       yhat  baseline_residual  model_residual\n",
       "0  15  10  25.323288  14.673754          15.323288        4.673754\n",
       "1  15  13  25.323288  14.673754          12.323288        1.673754\n",
       "2  27  15  25.323288  19.727926          10.323288        4.727926\n",
       "3  28  17  25.323288  20.149107           8.323288        3.149107\n",
       "4  33  18  25.323288  22.255013           7.323288        4.255013"
      ]
     },
     "execution_count": 16,
     "metadata": {},
     "output_type": "execute_result"
    }
   ],
   "source": [
    "# y variable is sales, and the baseline is the mean of sales.\n",
    "evaluate[\"y\"] = df.sales\n",
    "evaluate[\"baseline\"] = df.sales.mean()\n",
    "\n",
    "# y-hat is a common shorthand for \"predicted y\" values in statistics\n",
    "evaluate['yhat'] = model.predict()\n",
    "\n",
    "# Calc the baseline residuals (errors)\n",
    "evaluate[\"baseline_residual\"] = evaluate.baseline - evaluate.y\n",
    "\n",
    "# Calc the model's residuals:\n",
    "evaluate[\"model_residual\"] = evaluate.yhat - evaluate.y\n",
    "\n",
    "evaluate.head()"
   ]
  },
  {
   "cell_type": "code",
   "execution_count": 17,
   "metadata": {},
   "outputs": [
    {
     "name": "stdout",
     "output_type": "stream",
     "text": [
      "Our model beats the baseline\n",
      "It makes sense to evaluate this model more deeply.\n",
      "Baseline SSE 17297.85205479452\n",
      "Model SSE 6083.326244705024\n"
     ]
    }
   ],
   "source": [
    "# Calculate if the model beats the baseline\n",
    "# Square errors for 2 reasons\n",
    "# 1. Squaring large numbers increases their magnitude (opposite for small)\n",
    "# 2. Squaring removes negative residuals\n",
    "baseline_sse = (evaluate.baseline_residual**2).sum()\n",
    "baseline_mse = baseline_sse/len(df)\n",
    "baseline_rmse = sqrt(baseline_mse)\n",
    "\n",
    "\n",
    "model_sse = (evaluate.model_residual**2).sum()\n",
    "\n",
    "if model_sse < baseline_sse:\n",
    "    print(\"Our model beats the baseline\")\n",
    "    print(\"It makes sense to evaluate this model more deeply.\")\n",
    "else:\n",
    "    print(\"Our baseline is better than the model.\")\n",
    "\n",
    "print(\"Baseline SSE\", baseline_sse)\n",
    "print(\"Model SSE\", model_sse)"
   ]
  },
  {
   "cell_type": "code",
   "execution_count": 18,
   "metadata": {},
   "outputs": [
    {
     "name": "stdout",
     "output_type": "stream",
     "text": [
      "SSE is 6083.326244705024  which is the sum sf squared errors\n",
      "MSE is 16.666647245767187  which is the average squared error\n",
      "RMSE is 4.082480526073233  which is the square root of the MSE\n"
     ]
    }
   ],
   "source": [
    "# Calculating SSE\n",
    "model_sse = (evaluate.model_residual**2).sum()\n",
    "\n",
    "# Calcuating MSE\n",
    "model_mse = mean_squared_error(evaluate.y, evaluate.yhat)\n",
    "\n",
    "# Calculating RMSE\n",
    "model_rmse = sqrt(model_mse)\n",
    "\n",
    "print(\"SSE is\", model_sse, \" which is the sum sf squared errors\")\n",
    "print(\"MSE is\", model_mse, \" which is the average squared error\")\n",
    "print(\"RMSE is\", model_rmse, \" which is the square root of the MSE\")"
   ]
  },
  {
   "cell_type": "code",
   "execution_count": 19,
   "metadata": {},
   "outputs": [
    {
     "name": "stdout",
     "output_type": "stream",
     "text": [
      "Model RMSE =  4.082480526073233\n",
      "Baseline RMSE =  6.884139415539732\n"
     ]
    }
   ],
   "source": [
    "rmse_baseline = sqrt(baseline_mse)\n",
    "\n",
    "print(\"Model RMSE = \", model_rmse)\n",
    "print(\"Baseline RMSE = \", rmse_baseline)"
   ]
  },
  {
   "cell_type": "markdown",
   "metadata": {},
   "source": [
    "The model is off by an average of 4 units, while the baseline average is off by over 6 units. Thus our model is  better than the baseline model."
   ]
  },
  {
   "cell_type": "markdown",
   "metadata": {},
   "source": [
    "### Model Significance Evaluation with $R^2$"
   ]
  },
  {
   "cell_type": "code",
   "execution_count": 20,
   "metadata": {},
   "outputs": [
    {
     "name": "stdout",
     "output_type": "stream",
     "text": [
      "R-squared = 0.648\n"
     ]
    }
   ],
   "source": [
    "r2 = model.rsquared\n",
    "print('R-squared =', round(r2, 3))"
   ]
  },
  {
   "cell_type": "code",
   "execution_count": 21,
   "metadata": {},
   "outputs": [
    {
     "name": "stdout",
     "output_type": "stream",
     "text": [
      "p-value for model significance =  2.193718738113383e-84\n"
     ]
    }
   ],
   "source": [
    "# Now to evaluate the p-value:\n",
    "f_pval = model.f_pvalue\n",
    "\n",
    "print(\"p-value for model significance = \", f_pval)"
   ]
  },
  {
   "cell_type": "code",
   "execution_count": 22,
   "metadata": {},
   "outputs": [
    {
     "data": {
      "text/plain": [
       "True"
      ]
     },
     "execution_count": 22,
     "metadata": {},
     "output_type": "execute_result"
    }
   ],
   "source": [
    "f_pval < alpha"
   ]
  },
  {
   "cell_type": "code",
   "execution_count": 23,
   "metadata": {},
   "outputs": [],
   "source": [
    "def plot_residuals(actual, predicted):\n",
    "    residuals = actual - predicted\n",
    "    plt.hlines(0, actual.min(), actual.max(), ls = ':')\n",
    "    plt.scatter(actual, residuals)\n",
    "    plt.ylabel('residual ($ - \\hat{y}$)')\n",
    "    plt.xlabel('actual value ($y$)')\n",
    "    plt.title('Actual vs Residual')\n",
    "    return plt.gca()"
   ]
  },
  {
   "cell_type": "code",
   "execution_count": 24,
   "metadata": {},
   "outputs": [
    {
     "data": {
      "image/png": "[encoded data removed]",
      "text/plain": [
       "<Figure size 432x288 with 1 Axes>"
      ]
     },
     "metadata": {
      "needs_background": "light"
     },
     "output_type": "display_data"
    }
   ],
   "source": [
    "plot_residuals(evaluate.y, evaluate.yhat)\n",
    "plt.show()"
   ]
  },
  {
   "cell_type": "code",
   "execution_count": 115,
   "metadata": {},
   "outputs": [],
   "source": [
    "def model_function(linear_model, target, feature):\n",
    "    \n",
    "    '''\n",
    "    This function will take in a linear model, a target variable, and a feature. It will calculate if the baseline model or the super simple model is a better fit for the data. If the user's model is a better fit, will run through the SSE, MSE, and RMSE calucations to generate model metrics and check model significance, and return a scatterplot of the model on the dataset.    \n",
    "    '''\n",
    "    \n",
    "    baseline = target.mean()\n",
    "    model = linear_model\n",
    "    evaluate = pd.DataFrame()\n",
    "    evaluate['x'] = feature\n",
    "    \n",
    "    # y variable is sales, and the baseline is the mean of sales.\n",
    "    evaluate[\"y\"] = target\n",
    "    evaluate[\"baseline\"] = target.mean()\n",
    "\n",
    "    # y-hat is a common shorthand for \"predicted y\" values in statistics\n",
    "    evaluate['yhat'] = model.predict()\n",
    "\n",
    "    # Calc the baseline residuals (errors)\n",
    "    evaluate[\"baseline_residual\"] = evaluate.baseline - evaluate.y\n",
    "\n",
    "    # Calc the model's residuals:\n",
    "    evaluate[\"model_residual\"] = evaluate.yhat - evaluate.y\n",
    "    \n",
    "    # Now the function calculates the SSE, MSE, and RMSE:\n",
    "    # Calculate if the model beats the baseline\n",
    "    # Square errors for 2 reasons:\n",
    "        # 1. Squaring large numbers increases their magnitude (opposite for small)\n",
    "        # 2. Squaring removes negative residuals\n",
    "        \n",
    "    baseline_sse = (evaluate.baseline_residual**2).sum()\n",
    "    model_sse = (evaluate.model_residual**2).sum()\n",
    "\n",
    "    if model_sse > baseline_sse:\n",
    "        print(\"Our baseline is better than the model\")\n",
    "    \n",
    "    else:\n",
    "        print(\"Our model beats the baseline\")\n",
    "        \n",
    "        metrics = pd.DataFrame()\n",
    "        \n",
    "        # Calculating SSE\n",
    "        model_sse = (evaluate.model_residual**2).sum()\n",
    "\n",
    "        # Calcuating MSE\n",
    "        mse = mean_squared_error(evaluate.y, evaluate.yhat)\n",
    "\n",
    "        # Calculating RMSE\n",
    "        rmse = sqrt(mse)\n",
    "\n",
    "        print(\"SSE is\", model_sse, \" which is the sum sf squared errors\")\n",
    "        print(\"MSE is\", mse, \" which is the average squared error\")\n",
    "        print(\"RMSE is\", rmse, \" which is the square root of the MSE\")\n",
    "        \n",
    "        # Evaluate the model significance using r-squared.\n",
    "        r2 = model.rsquared\n",
    "        print('R-squared =', round(r2, 3))\n",
    "        \n",
    "        \n",
    "        # Now to evaluate the p-value:\n",
    "        f_pval = model.f_pvalue\n",
    "        print(\"p-value for model significance = \", f_pval)\n",
    "        \n",
    "        \n",
    "        # Nested function to generate plot:\n",
    "        def plot_residuals(actual, predicted):\n",
    "            residuals = actual - predicted\n",
    "            plt.hlines(0, actual.min(), actual.max(), ls = ':')\n",
    "            plt.scatter(actual, residuals)\n",
    "            plt.ylabel('residual ($ - \\hat{y}$)')\n",
    "            plt.xlabel('actual value ($y$)')\n",
    "            plt.title('Actual vs Residual')\n",
    "            return plt.gca()\n",
    "        \n",
    "        actual = evaluate.y\n",
    "        predicted = evaluate.yhat\n",
    "        plot_residuals(evaluate.y, evaluate.yhat)"
   ]
  },
  {
   "cell_type": "markdown",
   "metadata": {},
   "source": [
    "## Drill time! Repetition is key!"
   ]
  },
  {
   "cell_type": "code",
   "execution_count": 26,
   "metadata": {},
   "outputs": [],
   "source": [
    "# Goal is to take these steps and make a function out of them.\n",
    "# Use a different feature from my dataset."
   ]
  },
  {
   "cell_type": "code",
   "execution_count": 95,
   "metadata": {},
   "outputs": [
    {
     "data": {
      "text/html": [
       "<div>\n",
       "<style scoped>\n",
       "    .dataframe tbody tr th:only-of-type {\n",
       "        vertical-align: middle;\n",
       "    }\n",
       "\n",
       "    .dataframe tbody tr th {\n",
       "        vertical-align: top;\n",
       "    }\n",
       "\n",
       "    .dataframe thead th {\n",
       "        text-align: right;\n",
       "    }\n",
       "</style>\n",
       "<table border=\"1\" class=\"dataframe\">\n",
       "  <thead>\n",
       "    <tr style=\"text-align: right;\">\n",
       "      <th></th>\n",
       "      <th>temperature</th>\n",
       "      <th>rainfall</th>\n",
       "      <th>flyers</th>\n",
       "      <th>sales</th>\n",
       "    </tr>\n",
       "  </thead>\n",
       "  <tbody>\n",
       "    <tr>\n",
       "      <th>0</th>\n",
       "      <td>27.0</td>\n",
       "      <td>2.00</td>\n",
       "      <td>15</td>\n",
       "      <td>10</td>\n",
       "    </tr>\n",
       "    <tr>\n",
       "      <th>1</th>\n",
       "      <td>28.9</td>\n",
       "      <td>1.33</td>\n",
       "      <td>15</td>\n",
       "      <td>13</td>\n",
       "    </tr>\n",
       "    <tr>\n",
       "      <th>2</th>\n",
       "      <td>34.5</td>\n",
       "      <td>1.33</td>\n",
       "      <td>27</td>\n",
       "      <td>15</td>\n",
       "    </tr>\n",
       "    <tr>\n",
       "      <th>3</th>\n",
       "      <td>44.1</td>\n",
       "      <td>1.05</td>\n",
       "      <td>28</td>\n",
       "      <td>17</td>\n",
       "    </tr>\n",
       "    <tr>\n",
       "      <th>4</th>\n",
       "      <td>42.4</td>\n",
       "      <td>1.00</td>\n",
       "      <td>33</td>\n",
       "      <td>18</td>\n",
       "    </tr>\n",
       "  </tbody>\n",
       "</table>\n",
       "</div>"
      ],
      "text/plain": [
       "   temperature  rainfall  flyers  sales\n",
       "0         27.0      2.00      15     10\n",
       "1         28.9      1.33      15     13\n",
       "2         34.5      1.33      27     15\n",
       "3         44.1      1.05      28     17\n",
       "4         42.4      1.00      33     18"
      ]
     },
     "execution_count": 95,
     "metadata": {},
     "output_type": "execute_result"
    }
   ],
   "source": [
    "df.head()"
   ]
  },
  {
   "cell_type": "markdown",
   "metadata": {},
   "source": [
    "### Using rainfall as my feature"
   ]
  },
  {
   "cell_type": "code",
   "execution_count": 96,
   "metadata": {},
   "outputs": [],
   "source": [
    "baseline = df.sales.mean()"
   ]
  },
  {
   "cell_type": "code",
   "execution_count": 97,
   "metadata": {},
   "outputs": [],
   "source": [
    "# Create and fit the model:\n",
    "\n",
    "model_rainfall = ols('sales ~ rainfall', data = df).fit()"
   ]
  },
  {
   "cell_type": "code",
   "execution_count": 98,
   "metadata": {},
   "outputs": [
    {
     "data": {
      "text/html": [
       "<div>\n",
       "<style scoped>\n",
       "    .dataframe tbody tr th:only-of-type {\n",
       "        vertical-align: middle;\n",
       "    }\n",
       "\n",
       "    .dataframe tbody tr th {\n",
       "        vertical-align: top;\n",
       "    }\n",
       "\n",
       "    .dataframe thead th {\n",
       "        text-align: right;\n",
       "    }\n",
       "</style>\n",
       "<table border=\"1\" class=\"dataframe\">\n",
       "  <thead>\n",
       "    <tr style=\"text-align: right;\">\n",
       "      <th></th>\n",
       "      <th>x</th>\n",
       "    </tr>\n",
       "  </thead>\n",
       "  <tbody>\n",
       "    <tr>\n",
       "      <th>0</th>\n",
       "      <td>2.00</td>\n",
       "    </tr>\n",
       "    <tr>\n",
       "      <th>1</th>\n",
       "      <td>1.33</td>\n",
       "    </tr>\n",
       "    <tr>\n",
       "      <th>2</th>\n",
       "      <td>1.33</td>\n",
       "    </tr>\n",
       "    <tr>\n",
       "      <th>3</th>\n",
       "      <td>1.05</td>\n",
       "    </tr>\n",
       "    <tr>\n",
       "      <th>4</th>\n",
       "      <td>1.00</td>\n",
       "    </tr>\n",
       "    <tr>\n",
       "      <th>...</th>\n",
       "      <td>...</td>\n",
       "    </tr>\n",
       "    <tr>\n",
       "      <th>360</th>\n",
       "      <td>1.00</td>\n",
       "    </tr>\n",
       "    <tr>\n",
       "      <th>361</th>\n",
       "      <td>1.25</td>\n",
       "    </tr>\n",
       "    <tr>\n",
       "      <th>362</th>\n",
       "      <td>1.25</td>\n",
       "    </tr>\n",
       "    <tr>\n",
       "      <th>363</th>\n",
       "      <td>1.43</td>\n",
       "    </tr>\n",
       "    <tr>\n",
       "      <th>364</th>\n",
       "      <td>2.50</td>\n",
       "    </tr>\n",
       "  </tbody>\n",
       "</table>\n",
       "<p>365 rows × 1 columns</p>\n",
       "</div>"
      ],
      "text/plain": [
       "        x\n",
       "0    2.00\n",
       "1    1.33\n",
       "2    1.33\n",
       "3    1.05\n",
       "4    1.00\n",
       "..    ...\n",
       "360  1.00\n",
       "361  1.25\n",
       "362  1.25\n",
       "363  1.43\n",
       "364  2.50\n",
       "\n",
       "[365 rows x 1 columns]"
      ]
     },
     "execution_count": 98,
     "metadata": {},
     "output_type": "execute_result"
    }
   ],
   "source": [
    "# Now that I've fit the model (which usually would be to my train data, I'll create the dataframe that contains the x and y parameters and eventually the predictions)\n",
    "\n",
    "evaluate_rainfall = pd.DataFrame()\n",
    "\n",
    "evaluate_rainfall['x'] = df.rainfall\n",
    "evaluate_rainfall"
   ]
  },
  {
   "cell_type": "code",
   "execution_count": 99,
   "metadata": {},
   "outputs": [
    {
     "data": {
      "text/html": [
       "<div>\n",
       "<style scoped>\n",
       "    .dataframe tbody tr th:only-of-type {\n",
       "        vertical-align: middle;\n",
       "    }\n",
       "\n",
       "    .dataframe tbody tr th {\n",
       "        vertical-align: top;\n",
       "    }\n",
       "\n",
       "    .dataframe thead th {\n",
       "        text-align: right;\n",
       "    }\n",
       "</style>\n",
       "<table border=\"1\" class=\"dataframe\">\n",
       "  <thead>\n",
       "    <tr style=\"text-align: right;\">\n",
       "      <th></th>\n",
       "      <th>x</th>\n",
       "      <th>y</th>\n",
       "      <th>baseline</th>\n",
       "      <th>yhat</th>\n",
       "      <th>baseline_residual</th>\n",
       "      <th>model_residual</th>\n",
       "    </tr>\n",
       "  </thead>\n",
       "  <tbody>\n",
       "    <tr>\n",
       "      <th>0</th>\n",
       "      <td>2.00</td>\n",
       "      <td>10</td>\n",
       "      <td>25.323288</td>\n",
       "      <td>-1.599602</td>\n",
       "      <td>15.323288</td>\n",
       "      <td>-11.599602</td>\n",
       "    </tr>\n",
       "    <tr>\n",
       "      <th>1</th>\n",
       "      <td>1.33</td>\n",
       "      <td>13</td>\n",
       "      <td>25.323288</td>\n",
       "      <td>13.773142</td>\n",
       "      <td>12.323288</td>\n",
       "      <td>0.773142</td>\n",
       "    </tr>\n",
       "    <tr>\n",
       "      <th>2</th>\n",
       "      <td>1.33</td>\n",
       "      <td>15</td>\n",
       "      <td>25.323288</td>\n",
       "      <td>13.773142</td>\n",
       "      <td>10.323288</td>\n",
       "      <td>-1.226858</td>\n",
       "    </tr>\n",
       "    <tr>\n",
       "      <th>3</th>\n",
       "      <td>1.05</td>\n",
       "      <td>17</td>\n",
       "      <td>25.323288</td>\n",
       "      <td>20.197573</td>\n",
       "      <td>8.323288</td>\n",
       "      <td>3.197573</td>\n",
       "    </tr>\n",
       "    <tr>\n",
       "      <th>4</th>\n",
       "      <td>1.00</td>\n",
       "      <td>18</td>\n",
       "      <td>25.323288</td>\n",
       "      <td>21.344793</td>\n",
       "      <td>7.323288</td>\n",
       "      <td>3.344793</td>\n",
       "    </tr>\n",
       "  </tbody>\n",
       "</table>\n",
       "</div>"
      ],
      "text/plain": [
       "      x   y   baseline       yhat  baseline_residual  model_residual\n",
       "0  2.00  10  25.323288  -1.599602          15.323288      -11.599602\n",
       "1  1.33  13  25.323288  13.773142          12.323288        0.773142\n",
       "2  1.33  15  25.323288  13.773142          10.323288       -1.226858\n",
       "3  1.05  17  25.323288  20.197573           8.323288        3.197573\n",
       "4  1.00  18  25.323288  21.344793           7.323288        3.344793"
      ]
     },
     "execution_count": 99,
     "metadata": {},
     "output_type": "execute_result"
    }
   ],
   "source": [
    "# y variable is sales, and the baseline is the mean of sales.\n",
    "evaluate_rainfall[\"y\"] = df.sales\n",
    "evaluate_rainfall[\"baseline\"] = df.sales.mean()\n",
    "\n",
    "# y-hat is a common shorthand for \"predicted y\" values in statistics\n",
    "evaluate_rainfall['yhat'] = model_rainfall.predict()\n",
    "\n",
    "# Calc the baseline residuals (errors)\n",
    "evaluate_rainfall[\"baseline_residual\"] = evaluate_rainfall.baseline - evaluate_rainfall.y\n",
    "\n",
    "# Calc the model's residuals:\n",
    "evaluate_rainfall[\"model_residual\"] = evaluate_rainfall.yhat - evaluate_rainfall.y\n",
    "\n",
    "evaluate_rainfall.head()"
   ]
  },
  {
   "cell_type": "code",
   "execution_count": 100,
   "metadata": {},
   "outputs": [
    {
     "name": "stdout",
     "output_type": "stream",
     "text": [
      "Our model beats the baseline\n",
      "It makes sense to evaluate this model more deeply.\n",
      "Baseline SSE 17297.85205479452\n",
      "Model SSE 2998.2371310300655\n"
     ]
    }
   ],
   "source": [
    "# Calculate if the model beats the baseline\n",
    "# Square errors for 2 reasons\n",
    "# 1. Squaring large numbers increases their magnitude (opposite for small)\n",
    "# 2. Squaring removes negative residuals\n",
    "baseline_sse_rain = (evaluate_rainfall.baseline_residual**2).sum()\n",
    "baseline_mse_rain = baseline_sse_rain/len(df)\n",
    "baseline_rmse_rain = sqrt(baseline_mse_rain)\n",
    "\n",
    "\n",
    "model_sse_rain = (evaluate_rainfall.model_residual**2).sum()\n",
    "\n",
    "if model_sse_rain < baseline_sse_rain:\n",
    "    print(\"Our model beats the baseline\")\n",
    "    print(\"It makes sense to evaluate this model more deeply.\")\n",
    "else:\n",
    "    print(\"Our baseline is better than the model.\")\n",
    "\n",
    "print(\"Baseline SSE\", baseline_sse_rain)\n",
    "print(\"Model SSE\", model_sse_rain)"
   ]
  },
  {
   "cell_type": "code",
   "execution_count": 101,
   "metadata": {},
   "outputs": [
    {
     "name": "stdout",
     "output_type": "stream",
     "text": [
      "R-squared =  0.827\n"
     ]
    }
   ],
   "source": [
    "# Finding the r2:\n",
    "\n",
    "r2 = model_rainfall.rsquared\n",
    "print('R-squared = ', round(r2,3))"
   ]
  },
  {
   "cell_type": "code",
   "execution_count": 102,
   "metadata": {},
   "outputs": [
    {
     "name": "stdout",
     "output_type": "stream",
     "text": [
      "p-value for model significance =  3.2988846597381e-140\n"
     ]
    }
   ],
   "source": [
    "f_pval = model_rainfall.f_pvalue\n",
    "print(\"p-value for model significance = \", f_pval)"
   ]
  },
  {
   "cell_type": "code",
   "execution_count": 103,
   "metadata": {},
   "outputs": [
    {
     "data": {
      "text/plain": [
       "True"
      ]
     },
     "execution_count": 103,
     "metadata": {},
     "output_type": "execute_result"
    }
   ],
   "source": [
    "f_pval < alpha"
   ]
  },
  {
   "cell_type": "code",
   "execution_count": null,
   "metadata": {},
   "outputs": [],
   "source": []
  },
  {
   "cell_type": "markdown",
   "metadata": {},
   "source": [
    "# More Practice:\n",
    "Using different features and datasets"
   ]
  },
  {
   "cell_type": "code",
   "execution_count": 104,
   "metadata": {},
   "outputs": [
    {
     "name": "stdout",
     "output_type": "stream",
     "text": [
      "Our model beats the baseline\n",
      "SSE is 6083.326244705024  which is the sum sf squared errors\n",
      "MSE is 16.666647245767187  which is the average squared error\n",
      "RMSE is 4.082480526073233  which is the square root of the MSE\n",
      "R-squared = 0.648\n",
      "p-value for model significance =  2.193718738113383e-84\n"
     ]
    },
    {
     "data": {
      "image/png": "[encoded data removed]",
      "text/plain": [
       "<Figure size 432x288 with 1 Axes>"
      ]
     },
     "metadata": {
      "needs_background": "light"
     },
     "output_type": "display_data"
    }
   ],
   "source": [
    "model_function(model, df.sales, df.rainfall)"
   ]
  },
  {
   "cell_type": "code",
   "execution_count": 105,
   "metadata": {},
   "outputs": [],
   "source": [
    "# Use log_rainfall column as the feature (independent variable)\n",
    "\n",
    "df['log_rainfall'] = np.log(df.rainfall)"
   ]
  },
  {
   "cell_type": "code",
   "execution_count": 106,
   "metadata": {},
   "outputs": [],
   "source": [
    "# Create and fit the model:\n",
    "\n",
    "model = ols('sales ~ log_rainfall', data = df).fit()"
   ]
  },
  {
   "cell_type": "code",
   "execution_count": 107,
   "metadata": {},
   "outputs": [
    {
     "name": "stdout",
     "output_type": "stream",
     "text": [
      "Our model beats the baseline\n",
      "SSE is 952.3253474293444  which is the sum sf squared errors\n",
      "MSE is 2.6091105409023134  which is the average squared error\n",
      "RMSE is 1.6152741380033029  which is the square root of the MSE\n",
      "R-squared = 0.945\n",
      "p-value for model significance =  1.224262409779449e-230\n"
     ]
    },
    {
     "data": {
      "image/png": "[encoded data removed]",
      "text/plain": [
       "<Figure size 432x288 with 1 Axes>"
      ]
     },
     "metadata": {
      "needs_background": "light"
     },
     "output_type": "display_data"
    }
   ],
   "source": [
    "model_function(model, df.sales, df.log_rainfall)"
   ]
  },
  {
   "cell_type": "code",
   "execution_count": 108,
   "metadata": {},
   "outputs": [],
   "source": [
    "model_temp = ols('sales ~ temperature', data = df).fit()"
   ]
  },
  {
   "cell_type": "code",
   "execution_count": 109,
   "metadata": {},
   "outputs": [
    {
     "name": "stdout",
     "output_type": "stream",
     "text": [
      "Our model beats the baseline\n",
      "SSE is 349.977815203168  which is the sum sf squared errors\n",
      "MSE is 0.9588433293237479  which is the average squared error\n",
      "RMSE is 0.979205458177061  which is the square root of the MSE\n",
      "R-squared = 0.98\n",
      "p-value for model significance =  1.492364042585725e-309\n"
     ]
    },
    {
     "data": {
      "image/png": "[encoded data removed]",
      "text/plain": [
       "<Figure size 432x288 with 1 Axes>"
      ]
     },
     "metadata": {
      "needs_background": "light"
     },
     "output_type": "display_data"
    }
   ],
   "source": [
    "model_function(model_temp, df.sales, df.temperature)"
   ]
  },
  {
   "cell_type": "markdown",
   "metadata": {},
   "source": [
    "### Which of these 4 single regression models would you want to move forward with?"
   ]
  },
  {
   "cell_type": "code",
   "execution_count": 110,
   "metadata": {},
   "outputs": [],
   "source": [
    "# df_eval = pd.DataFrame(np.array([SSE]))"
   ]
  },
  {
   "cell_type": "code",
   "execution_count": 111,
   "metadata": {},
   "outputs": [
    {
     "name": "stdout",
     "output_type": "stream",
     "text": [
      "model:\n",
      "6083.326244705024\n",
      "16.666647245767187\n",
      "4.082480526073233\n",
      "\n",
      "baseline:\n",
      "465.2124770491804\n",
      "47.39137549258772\n",
      "6.884139415539732\n"
     ]
    }
   ],
   "source": [
    "print('model:')\n",
    "print(model_sse)\n",
    "print(model_mse)\n",
    "print(model_rmse)\n",
    "print('\\nbaseline:')\n",
    "print(baseline_sse)\n",
    "print(baseline_mse)\n",
    "print(baseline_rmse)"
   ]
  },
  {
   "cell_type": "code",
   "execution_count": 112,
   "metadata": {},
   "outputs": [],
   "source": [
    "metric_name = ['SSE', 'MSE', 'RMSE']"
   ]
  },
  {
   "cell_type": "code",
   "execution_count": 113,
   "metadata": {},
   "outputs": [
    {
     "name": "stdout",
     "output_type": "stream",
     "text": [
      "  metric  model_error\n",
      "0    SSE  6083.326245\n",
      "1    MSE    16.666647\n",
      "2   RMSE     4.082481\n",
      "          metric  model_error\n",
      "0   SSE_baseline   465.212477\n",
      "1   MSE_baseline    47.391375\n",
      "2  RMSE_baseline     6.884139\n"
     ]
    }
   ],
   "source": [
    "df_eval = pd.DataFrame(np.array(['SSE', 'MSE', 'RMSE']), columns=['metric'])\n",
    "df_baseline_eval = pd.DataFrame(np.array(['SSE_baseline','MSE_baseline','RMSE_baseline']), columns=['metric'])\n",
    "\n",
    "df_eval['model_error'] = np.array([model_sse, model_mse, model_rmse])\n",
    "df_baseline_eval['model_error'] = np.array([baseline_sse, baseline_mse, baseline_rmse])\n",
    "\n",
    "print(df_eval)\n",
    "print(df_baseline_eval)"
   ]
  },
  {
   "cell_type": "code",
   "execution_count": 114,
   "metadata": {},
   "outputs": [
    {
     "data": {
      "text/html": [
       "<div>\n",
       "<style scoped>\n",
       "    .dataframe tbody tr th:only-of-type {\n",
       "        vertical-align: middle;\n",
       "    }\n",
       "\n",
       "    .dataframe tbody tr th {\n",
       "        vertical-align: top;\n",
       "    }\n",
       "\n",
       "    .dataframe thead th {\n",
       "        text-align: right;\n",
       "    }\n",
       "</style>\n",
       "<table border=\"1\" class=\"dataframe\">\n",
       "  <thead>\n",
       "    <tr style=\"text-align: right;\">\n",
       "      <th></th>\n",
       "      <th>metric</th>\n",
       "      <th>model_error</th>\n",
       "      <th>error_delta</th>\n",
       "    </tr>\n",
       "  </thead>\n",
       "  <tbody>\n",
       "    <tr>\n",
       "      <th>0</th>\n",
       "      <td>SSE</td>\n",
       "      <td>6083.326245</td>\n",
       "      <td>5618.113768</td>\n",
       "    </tr>\n",
       "    <tr>\n",
       "      <th>1</th>\n",
       "      <td>MSE</td>\n",
       "      <td>16.666647</td>\n",
       "      <td>-30.724728</td>\n",
       "    </tr>\n",
       "    <tr>\n",
       "      <th>2</th>\n",
       "      <td>RMSE</td>\n",
       "      <td>4.082481</td>\n",
       "      <td>-2.801659</td>\n",
       "    </tr>\n",
       "  </tbody>\n",
       "</table>\n",
       "</div>"
      ],
      "text/plain": [
       "  metric  model_error  error_delta\n",
       "0    SSE  6083.326245  5618.113768\n",
       "1    MSE    16.666647   -30.724728\n",
       "2   RMSE     4.082481    -2.801659"
      ]
     },
     "execution_count": 114,
     "metadata": {},
     "output_type": "execute_result"
    }
   ],
   "source": [
    "df_eval['error_delta'] = df_eval.model_error - df_baseline_eval.model_error\n",
    "df_eval"
   ]
  },
  {
   "cell_type": "markdown",
   "metadata": {},
   "source": [
    "#### It's clear the model is much better than our baseline since the error is much higher in the baseline than the model."
   ]
  },
  {
   "cell_type": "markdown",
   "metadata": {},
   "source": [
    "# Using the Tips database"
   ]
  },
  {
   "cell_type": "code",
   "execution_count": 34,
   "metadata": {},
   "outputs": [
    {
     "data": {
      "text/html": [
       "<div>\n",
       "<style scoped>\n",
       "    .dataframe tbody tr th:only-of-type {\n",
       "        vertical-align: middle;\n",
       "    }\n",
       "\n",
       "    .dataframe tbody tr th {\n",
       "        vertical-align: top;\n",
       "    }\n",
       "\n",
       "    .dataframe thead th {\n",
       "        text-align: right;\n",
       "    }\n",
       "</style>\n",
       "<table border=\"1\" class=\"dataframe\">\n",
       "  <thead>\n",
       "    <tr style=\"text-align: right;\">\n",
       "      <th></th>\n",
       "      <th>total_bill</th>\n",
       "      <th>tip</th>\n",
       "      <th>sex</th>\n",
       "      <th>smoker</th>\n",
       "      <th>day</th>\n",
       "      <th>time</th>\n",
       "      <th>size</th>\n",
       "    </tr>\n",
       "  </thead>\n",
       "  <tbody>\n",
       "    <tr>\n",
       "      <th>1</th>\n",
       "      <td>16.99</td>\n",
       "      <td>1.01</td>\n",
       "      <td>Female</td>\n",
       "      <td>No</td>\n",
       "      <td>Sun</td>\n",
       "      <td>Dinner</td>\n",
       "      <td>2</td>\n",
       "    </tr>\n",
       "    <tr>\n",
       "      <th>2</th>\n",
       "      <td>10.34</td>\n",
       "      <td>1.66</td>\n",
       "      <td>Male</td>\n",
       "      <td>No</td>\n",
       "      <td>Sun</td>\n",
       "      <td>Dinner</td>\n",
       "      <td>3</td>\n",
       "    </tr>\n",
       "    <tr>\n",
       "      <th>3</th>\n",
       "      <td>21.01</td>\n",
       "      <td>3.50</td>\n",
       "      <td>Male</td>\n",
       "      <td>No</td>\n",
       "      <td>Sun</td>\n",
       "      <td>Dinner</td>\n",
       "      <td>3</td>\n",
       "    </tr>\n",
       "    <tr>\n",
       "      <th>4</th>\n",
       "      <td>23.68</td>\n",
       "      <td>3.31</td>\n",
       "      <td>Male</td>\n",
       "      <td>No</td>\n",
       "      <td>Sun</td>\n",
       "      <td>Dinner</td>\n",
       "      <td>2</td>\n",
       "    </tr>\n",
       "    <tr>\n",
       "      <th>5</th>\n",
       "      <td>24.59</td>\n",
       "      <td>3.61</td>\n",
       "      <td>Female</td>\n",
       "      <td>No</td>\n",
       "      <td>Sun</td>\n",
       "      <td>Dinner</td>\n",
       "      <td>4</td>\n",
       "    </tr>\n",
       "  </tbody>\n",
       "</table>\n",
       "</div>"
      ],
      "text/plain": [
       "   total_bill   tip     sex smoker  day    time  size\n",
       "1       16.99  1.01  Female     No  Sun  Dinner     2\n",
       "2       10.34  1.66    Male     No  Sun  Dinner     3\n",
       "3       21.01  3.50    Male     No  Sun  Dinner     3\n",
       "4       23.68  3.31    Male     No  Sun  Dinner     2\n",
       "5       24.59  3.61  Female     No  Sun  Dinner     4"
      ]
     },
     "execution_count": 34,
     "metadata": {},
     "output_type": "execute_result"
    }
   ],
   "source": [
    "tip_df = data('tips')\n",
    "\n",
    "tip_df.head()"
   ]
  },
  {
   "cell_type": "code",
   "execution_count": 36,
   "metadata": {},
   "outputs": [
    {
     "name": "stdout",
     "output_type": "stream",
     "text": [
      "<class 'pandas.core.frame.DataFrame'>\n",
      "Int64Index: 244 entries, 1 to 244\n",
      "Data columns (total 7 columns):\n",
      " #   Column      Non-Null Count  Dtype  \n",
      "---  ------      --------------  -----  \n",
      " 0   total_bill  244 non-null    float64\n",
      " 1   tip         244 non-null    float64\n",
      " 2   sex         244 non-null    object \n",
      " 3   smoker      244 non-null    object \n",
      " 4   day         244 non-null    object \n",
      " 5   time        244 non-null    object \n",
      " 6   size        244 non-null    int64  \n",
      "dtypes: float64(2), int64(1), object(4)\n",
      "memory usage: 15.2+ KB\n"
     ]
    }
   ],
   "source": [
    "tip_df.info()"
   ]
  },
  {
   "cell_type": "code",
   "execution_count": 38,
   "metadata": {},
   "outputs": [
    {
     "data": {
      "text/html": [
       "<div>\n",
       "<style scoped>\n",
       "    .dataframe tbody tr th:only-of-type {\n",
       "        vertical-align: middle;\n",
       "    }\n",
       "\n",
       "    .dataframe tbody tr th {\n",
       "        vertical-align: top;\n",
       "    }\n",
       "\n",
       "    .dataframe thead th {\n",
       "        text-align: right;\n",
       "    }\n",
       "</style>\n",
       "<table border=\"1\" class=\"dataframe\">\n",
       "  <thead>\n",
       "    <tr style=\"text-align: right;\">\n",
       "      <th></th>\n",
       "      <th>total_bill</th>\n",
       "      <th>tip</th>\n",
       "      <th>size</th>\n",
       "    </tr>\n",
       "  </thead>\n",
       "  <tbody>\n",
       "    <tr>\n",
       "      <th>count</th>\n",
       "      <td>244.000000</td>\n",
       "      <td>244.000000</td>\n",
       "      <td>244.000000</td>\n",
       "    </tr>\n",
       "    <tr>\n",
       "      <th>mean</th>\n",
       "      <td>19.785943</td>\n",
       "      <td>2.998279</td>\n",
       "      <td>2.569672</td>\n",
       "    </tr>\n",
       "    <tr>\n",
       "      <th>std</th>\n",
       "      <td>8.902412</td>\n",
       "      <td>1.383638</td>\n",
       "      <td>0.951100</td>\n",
       "    </tr>\n",
       "    <tr>\n",
       "      <th>min</th>\n",
       "      <td>3.070000</td>\n",
       "      <td>1.000000</td>\n",
       "      <td>1.000000</td>\n",
       "    </tr>\n",
       "    <tr>\n",
       "      <th>25%</th>\n",
       "      <td>13.347500</td>\n",
       "      <td>2.000000</td>\n",
       "      <td>2.000000</td>\n",
       "    </tr>\n",
       "    <tr>\n",
       "      <th>50%</th>\n",
       "      <td>17.795000</td>\n",
       "      <td>2.900000</td>\n",
       "      <td>2.000000</td>\n",
       "    </tr>\n",
       "    <tr>\n",
       "      <th>75%</th>\n",
       "      <td>24.127500</td>\n",
       "      <td>3.562500</td>\n",
       "      <td>3.000000</td>\n",
       "    </tr>\n",
       "    <tr>\n",
       "      <th>max</th>\n",
       "      <td>50.810000</td>\n",
       "      <td>10.000000</td>\n",
       "      <td>6.000000</td>\n",
       "    </tr>\n",
       "  </tbody>\n",
       "</table>\n",
       "</div>"
      ],
      "text/plain": [
       "       total_bill         tip        size\n",
       "count  244.000000  244.000000  244.000000\n",
       "mean    19.785943    2.998279    2.569672\n",
       "std      8.902412    1.383638    0.951100\n",
       "min      3.070000    1.000000    1.000000\n",
       "25%     13.347500    2.000000    2.000000\n",
       "50%     17.795000    2.900000    2.000000\n",
       "75%     24.127500    3.562500    3.000000\n",
       "max     50.810000   10.000000    6.000000"
      ]
     },
     "execution_count": 38,
     "metadata": {},
     "output_type": "execute_result"
    }
   ],
   "source": [
    "tip_df.describe()"
   ]
  },
  {
   "cell_type": "code",
   "execution_count": 40,
   "metadata": {},
   "outputs": [
    {
     "data": {
      "text/plain": [
       "<AxesSubplot:>"
      ]
     },
     "execution_count": 40,
     "metadata": {},
     "output_type": "execute_result"
    },
    {
     "data": {
      "image/png": "[encoded data removed]",
      "text/plain": [
       "<Figure size 432x288 with 1 Axes>"
      ]
     },
     "metadata": {
      "needs_background": "light"
     },
     "output_type": "display_data"
    }
   ],
   "source": [
    "tip_df.tip.hist()"
   ]
  },
  {
   "cell_type": "code",
   "execution_count": 122,
   "metadata": {},
   "outputs": [
    {
     "data": {
      "image/png": "[encoded data removed]",
      "text/plain": [
       "<Figure size 432x288 with 1 Axes>"
      ]
     },
     "metadata": {
      "needs_background": "light"
     },
     "output_type": "display_data"
    }
   ],
   "source": [
    "sns.regplot(x=\"total_bill\", y=\"tip\", data=tip_df)\n",
    "plt.show()"
   ]
  },
  {
   "cell_type": "code",
   "execution_count": 35,
   "metadata": {},
   "outputs": [
    {
     "data": {
      "text/plain": [
       "2.9982786885245902"
      ]
     },
     "execution_count": 35,
     "metadata": {},
     "output_type": "execute_result"
    }
   ],
   "source": [
    "# Setting the alpha:\n",
    "alpha = .05\n",
    "\n",
    "# Defining the baseline for tips:\n",
    "\n",
    "baseline_model = tip_df.tip.mean()\n",
    "baseline_model\n",
    "\n",
    "# This would be a horizontal line if graphed."
   ]
  },
  {
   "cell_type": "markdown",
   "metadata": {},
   "source": [
    "### Building a Super Simple Model (SSM™)"
   ]
  },
  {
   "cell_type": "code",
   "execution_count": 47,
   "metadata": {},
   "outputs": [],
   "source": [
    "# Fitting the model for the tips data, using the total_bill feature:\n",
    "\n",
    "model_tips = ols('tip ~ total_bill', data = tip_df).fit()"
   ]
  },
  {
   "cell_type": "code",
   "execution_count": 50,
   "metadata": {},
   "outputs": [
    {
     "data": {
      "text/html": [
       "<div>\n",
       "<style scoped>\n",
       "    .dataframe tbody tr th:only-of-type {\n",
       "        vertical-align: middle;\n",
       "    }\n",
       "\n",
       "    .dataframe tbody tr th {\n",
       "        vertical-align: top;\n",
       "    }\n",
       "\n",
       "    .dataframe thead th {\n",
       "        text-align: right;\n",
       "    }\n",
       "</style>\n",
       "<table border=\"1\" class=\"dataframe\">\n",
       "  <thead>\n",
       "    <tr style=\"text-align: right;\">\n",
       "      <th></th>\n",
       "      <th>x</th>\n",
       "      <th>y</th>\n",
       "      <th>baseline</th>\n",
       "      <th>yhat</th>\n",
       "      <th>baseline_residual</th>\n",
       "      <th>model_residual</th>\n",
       "    </tr>\n",
       "  </thead>\n",
       "  <tbody>\n",
       "    <tr>\n",
       "      <th>1</th>\n",
       "      <td>16.99</td>\n",
       "      <td>1.01</td>\n",
       "      <td>2.998279</td>\n",
       "      <td>2.704636</td>\n",
       "      <td>1.988279</td>\n",
       "      <td>1.694636</td>\n",
       "    </tr>\n",
       "    <tr>\n",
       "      <th>2</th>\n",
       "      <td>10.34</td>\n",
       "      <td>1.66</td>\n",
       "      <td>2.998279</td>\n",
       "      <td>2.006223</td>\n",
       "      <td>1.338279</td>\n",
       "      <td>0.346223</td>\n",
       "    </tr>\n",
       "    <tr>\n",
       "      <th>3</th>\n",
       "      <td>21.01</td>\n",
       "      <td>3.50</td>\n",
       "      <td>2.998279</td>\n",
       "      <td>3.126835</td>\n",
       "      <td>-0.501721</td>\n",
       "      <td>-0.373165</td>\n",
       "    </tr>\n",
       "    <tr>\n",
       "      <th>4</th>\n",
       "      <td>23.68</td>\n",
       "      <td>3.31</td>\n",
       "      <td>2.998279</td>\n",
       "      <td>3.407250</td>\n",
       "      <td>-0.311721</td>\n",
       "      <td>0.097250</td>\n",
       "    </tr>\n",
       "    <tr>\n",
       "      <th>5</th>\n",
       "      <td>24.59</td>\n",
       "      <td>3.61</td>\n",
       "      <td>2.998279</td>\n",
       "      <td>3.502822</td>\n",
       "      <td>-0.611721</td>\n",
       "      <td>-0.107178</td>\n",
       "    </tr>\n",
       "  </tbody>\n",
       "</table>\n",
       "</div>"
      ],
      "text/plain": [
       "       x     y  baseline      yhat  baseline_residual  model_residual\n",
       "1  16.99  1.01  2.998279  2.704636           1.988279        1.694636\n",
       "2  10.34  1.66  2.998279  2.006223           1.338279        0.346223\n",
       "3  21.01  3.50  2.998279  3.126835          -0.501721       -0.373165\n",
       "4  23.68  3.31  2.998279  3.407250          -0.311721        0.097250\n",
       "5  24.59  3.61  2.998279  3.502822          -0.611721       -0.107178"
      ]
     },
     "execution_count": 50,
     "metadata": {},
     "output_type": "execute_result"
    }
   ],
   "source": [
    "# tip_predictions = model.predict(tip_df.x)\n",
    "tip_eval = pd.DataFrame()\n",
    "\n",
    "tip_eval['x'] = tip_df.total_bill\n",
    "\n",
    "# y is dependent variable:\n",
    "tip_eval['y'] = tip_df.tip\n",
    "tip_eval['baseline'] = tip_df.tip.mean()\n",
    "\n",
    "# y-hat is the shorthand for \"predicted y\" values\n",
    "tip_eval['yhat'] = model_tips.predict()\n",
    "\n",
    "# Calc baseline residuals:\n",
    "tip_eval['baseline_residual'] = tip_eval.baseline - tip_eval.y\n",
    "\n",
    "# Calc the model residuals:\n",
    "tip_eval['model_residual'] = tip_eval.yhat - tip_eval.y\n",
    "\n",
    "tip_eval.head()"
   ]
  },
  {
   "cell_type": "code",
   "execution_count": 51,
   "metadata": {},
   "outputs": [
    {
     "name": "stdout",
     "output_type": "stream",
     "text": [
      "Our model beats the baseline\n",
      "It makes sense to evaluate this model more deeply.\n",
      "Baseline SSE 465.2124770491804\n",
      "Model SSE 252.788743850776\n"
     ]
    }
   ],
   "source": [
    "# Calculate if the model beats the baseline\n",
    "# Square errors for 2 reasons\n",
    "# 1. Squaring large numbers increases their magnitude (opposite for small)\n",
    "# 2. Squaring removes negative residuals\n",
    "baseline_sse = (tip_eval.baseline_residual**2).sum()\n",
    "model_sse = (tip_eval.model_residual**2).sum()\n",
    "\n",
    "if model_sse < baseline_sse:\n",
    "    print(\"Our model beats the baseline\")\n",
    "    print(\"It makes sense to evaluate this model more deeply.\")\n",
    "else:\n",
    "    print(\"Our baseline is better than the model.\")\n",
    "\n",
    "print(\"Baseline SSE\", baseline_sse)\n",
    "print(\"Model SSE\", model_sse)"
   ]
  },
  {
   "cell_type": "code",
   "execution_count": 52,
   "metadata": {},
   "outputs": [
    {
     "name": "stdout",
     "output_type": "stream",
     "text": [
      "SSE is 6083.326244705024  which is the sum sf squared errors\n",
      "MSE is 16.666647245767187  which is the average squared error\n",
      "RMSE is 4.082480526073233  which is the square root of the MSE\n"
     ]
    }
   ],
   "source": [
    "# Sum the squares of the baseline errors\n",
    "model_sse = (evaluate.model_residual**2).sum()\n",
    "\n",
    "# Take the average of the Sum of squared errors\n",
    "# mse = model_sse / len(evaluate)\n",
    "\n",
    "# Or we could calculate this using sklearn's mean_squared_error function\n",
    "mse = mean_squared_error(evaluate.y, evaluate.yhat)\n",
    "\n",
    "# Now we'll take the Square Root of the Sum of Errors\n",
    "# Taking the square root is nice because the units of the error \n",
    "# will be in the same units as the target variable.\n",
    "rmse = sqrt(mse)\n",
    "\n",
    "print(\"SSE is\", model_sse, \" which is the sum sf squared errors\")\n",
    "print(\"MSE is\", mse, \" which is the average squared error\")\n",
    "print(\"RMSE is\", rmse, \" which is the square root of the MSE\")"
   ]
  },
  {
   "cell_type": "code",
   "execution_count": 132,
   "metadata": {},
   "outputs": [
    {
     "name": "stdout",
     "output_type": "stream",
     "text": [
      "R-squared =  0.457\n",
      "p-value for model significance =  6.692470646863376e-34\n"
     ]
    }
   ],
   "source": [
    "# print(f'Alpha = {alpha}')\n",
    "r2_tip = model_tips.rsquared\n",
    "print('R-squared = ', round(r2_tip,3))\n",
    "\n",
    "\n",
    "f_pval = model_tips.f_pvalue\n",
    "print(\"p-value for model significance = \", f_pval)\n",
    "\n",
    "# if f_pval > alpha:\n",
    "#     print(\"The pvalue is > alpha, thus we fail to reject the null hypothesis\")\n",
    "# else:\n",
    "#     print(\"The pvalue is < alpha, thus we reject the null hypothesis.\")"
   ]
  },
  {
   "cell_type": "code",
   "execution_count": 55,
   "metadata": {},
   "outputs": [],
   "source": [
    "def plot_residuals(actual, predicted):\n",
    "    residuals = actual - predicted\n",
    "    plt.hlines(0, actual.min(), actual.max(), ls=':')\n",
    "    plt.scatter(actual, residuals)\n",
    "    plt.ylabel('residual ($y - \\hat{y}$)')\n",
    "    plt.xlabel('actual value ($y$)')\n",
    "    plt.title('Actual vs Residual')\n",
    "    return plt.gca()"
   ]
  },
  {
   "cell_type": "code",
   "execution_count": 57,
   "metadata": {},
   "outputs": [
    {
     "data": {
      "image/png": "[encoded data removed]",
      "text/plain": [
       "<Figure size 432x288 with 1 Axes>"
      ]
     },
     "metadata": {
      "needs_background": "light"
     },
     "output_type": "display_data"
    }
   ],
   "source": [
    "plot_residuals(tip_eval.y, tip_eval.yhat)\n",
    "plt.show()"
   ]
  },
  {
   "cell_type": "code",
   "execution_count": 119,
   "metadata": {},
   "outputs": [
    {
     "name": "stdout",
     "output_type": "stream",
     "text": [
      "Our model beats the baseline\n",
      "SSE is 252.788743850776  which is the sum sf squared errors\n",
      "MSE is 1.036019442011377  which is the average squared error\n",
      "RMSE is 1.0178504025697377  which is the square root of the MSE\n",
      "R-squared = 0.457\n",
      "p-value for model significance =  6.692470646863376e-34\n"
     ]
    },
    {
     "data": {
      "image/png": "[encoded data removed]",
      "text/plain": [
       "<Figure size 432x288 with 1 Axes>"
      ]
     },
     "metadata": {
      "needs_background": "light"
     },
     "output_type": "display_data"
    }
   ],
   "source": [
    "# Using the all-encompassing function:\n",
    "\n",
    "model_function(model_tips, tip_df.tip, tip_df.total_bill)"
   ]
  },
  {
   "cell_type": "code",
   "execution_count": null,
   "metadata": {},
   "outputs": [],
   "source": []
  },
  {
   "cell_type": "markdown",
   "metadata": {},
   "source": [
    "## Create functions"
   ]
  },
  {
   "cell_type": "code",
   "execution_count": 88,
   "metadata": {},
   "outputs": [],
   "source": [
    "def regression_errors(y, yhat, df):\n",
    "    \n",
    "    # Sum of squared errors (SSE):\n",
    "    model_sse = (df.model_residual**2).sum()\n",
    "    \n",
    "    # mean squared error (MSE)\n",
    "    model_mse = model_sse/len(df)\n",
    "\n",
    "    # root mean squared error (RMSE)\n",
    "    model_rmse = sqrt(model_mse)\n",
    "    \n",
    "    # explained sum of squares (ESS)\n",
    "    model_ess = sum((df.yhat - df.y.mean())**2)\n",
    "    \n",
    "    # total sum of squares (TSS)\n",
    "    model_tss = model_ess + model_sse\n",
    "    \n",
    "    return model_sse, model_mse, model_rmse, model_ess, model_tss\n",
    "    "
   ]
  },
  {
   "cell_type": "code",
   "execution_count": 82,
   "metadata": {},
   "outputs": [],
   "source": [
    "def baseline_mean_errors(y, df):\n",
    "    # Sum of squared errors (SSE):\n",
    "    baseline_sse = (df.baseline_residual**2).sum()\n",
    "    \n",
    "    # mean squared error (MSE)\n",
    "    baseline_mse = baseline_sse/len(df)\n",
    "\n",
    "    # root mean squared error (RMSE)\n",
    "    baseline_rmse = sqrt(baseline_mse)\n",
    "    \n",
    "    return baseline_sse, baseline_mse, baseline_rmse"
   ]
  },
  {
   "cell_type": "code",
   "execution_count": 83,
   "metadata": {},
   "outputs": [
    {
     "data": {
      "text/html": [
       "<div>\n",
       "<style scoped>\n",
       "    .dataframe tbody tr th:only-of-type {\n",
       "        vertical-align: middle;\n",
       "    }\n",
       "\n",
       "    .dataframe tbody tr th {\n",
       "        vertical-align: top;\n",
       "    }\n",
       "\n",
       "    .dataframe thead th {\n",
       "        text-align: right;\n",
       "    }\n",
       "</style>\n",
       "<table border=\"1\" class=\"dataframe\">\n",
       "  <thead>\n",
       "    <tr style=\"text-align: right;\">\n",
       "      <th></th>\n",
       "      <th>x</th>\n",
       "      <th>y</th>\n",
       "      <th>baseline</th>\n",
       "      <th>yhat</th>\n",
       "      <th>baseline_residual</th>\n",
       "      <th>model_residual</th>\n",
       "    </tr>\n",
       "  </thead>\n",
       "  <tbody>\n",
       "    <tr>\n",
       "      <th>1</th>\n",
       "      <td>16.99</td>\n",
       "      <td>1.01</td>\n",
       "      <td>2.998279</td>\n",
       "      <td>2.704636</td>\n",
       "      <td>1.988279</td>\n",
       "      <td>1.694636</td>\n",
       "    </tr>\n",
       "    <tr>\n",
       "      <th>2</th>\n",
       "      <td>10.34</td>\n",
       "      <td>1.66</td>\n",
       "      <td>2.998279</td>\n",
       "      <td>2.006223</td>\n",
       "      <td>1.338279</td>\n",
       "      <td>0.346223</td>\n",
       "    </tr>\n",
       "    <tr>\n",
       "      <th>3</th>\n",
       "      <td>21.01</td>\n",
       "      <td>3.50</td>\n",
       "      <td>2.998279</td>\n",
       "      <td>3.126835</td>\n",
       "      <td>-0.501721</td>\n",
       "      <td>-0.373165</td>\n",
       "    </tr>\n",
       "    <tr>\n",
       "      <th>4</th>\n",
       "      <td>23.68</td>\n",
       "      <td>3.31</td>\n",
       "      <td>2.998279</td>\n",
       "      <td>3.407250</td>\n",
       "      <td>-0.311721</td>\n",
       "      <td>0.097250</td>\n",
       "    </tr>\n",
       "    <tr>\n",
       "      <th>5</th>\n",
       "      <td>24.59</td>\n",
       "      <td>3.61</td>\n",
       "      <td>2.998279</td>\n",
       "      <td>3.502822</td>\n",
       "      <td>-0.611721</td>\n",
       "      <td>-0.107178</td>\n",
       "    </tr>\n",
       "  </tbody>\n",
       "</table>\n",
       "</div>"
      ],
      "text/plain": [
       "       x     y  baseline      yhat  baseline_residual  model_residual\n",
       "1  16.99  1.01  2.998279  2.704636           1.988279        1.694636\n",
       "2  10.34  1.66  2.998279  2.006223           1.338279        0.346223\n",
       "3  21.01  3.50  2.998279  3.126835          -0.501721       -0.373165\n",
       "4  23.68  3.31  2.998279  3.407250          -0.311721        0.097250\n",
       "5  24.59  3.61  2.998279  3.502822          -0.611721       -0.107178"
      ]
     },
     "execution_count": 83,
     "metadata": {},
     "output_type": "execute_result"
    }
   ],
   "source": [
    "tip_eval.head()"
   ]
  },
  {
   "cell_type": "code",
   "execution_count": 84,
   "metadata": {},
   "outputs": [
    {
     "data": {
      "text/plain": [
       "(465.2124770491804, 1.906608512496641, 1.3807999538298954)"
      ]
     },
     "execution_count": 84,
     "metadata": {},
     "output_type": "execute_result"
    }
   ],
   "source": [
    "baseline_mean_errors('tip', tip_eval)"
   ]
  },
  {
   "cell_type": "code",
   "execution_count": 89,
   "metadata": {},
   "outputs": [
    {
     "data": {
      "text/plain": [
       "(252.788743850776,\n",
       " 1.036019442011377,\n",
       " 1.0178504025697377,\n",
       " 212.42373319840428,\n",
       " 465.2124770491803)"
      ]
     },
     "execution_count": 89,
     "metadata": {},
     "output_type": "execute_result"
    }
   ],
   "source": [
    "regression_errors('tip', 'yhat', tip_eval)"
   ]
  },
  {
   "cell_type": "code",
   "execution_count": 90,
   "metadata": {},
   "outputs": [
    {
     "data": {
      "text/plain": [
       "(252.788743850776,\n",
       " 1.036019442011377,\n",
       " 1.0178504025697377,\n",
       " 212.42373319840428,\n",
       " 465.2124770491803)"
      ]
     },
     "execution_count": 90,
     "metadata": {},
     "output_type": "execute_result"
    }
   ],
   "source": [
    "model_sse_test = regression_errors('tip', 'yhat', tip_eval)\n",
    "model_sse_test"
   ]
  },
  {
   "cell_type": "code",
   "execution_count": 93,
   "metadata": {},
   "outputs": [],
   "source": [
    "def better_than_baseline(y, yhat, df):\n",
    "    \n",
    "    # Model metrics:\n",
    "    \n",
    "    # Sum of squared errors (SSE):\n",
    "    model_sse = (df.model_residual**2).sum()\n",
    "    \n",
    "    # mean squared error (MSE)\n",
    "    model_mse = model_sse/len(df)\n",
    "\n",
    "    # root mean squared error (RMSE)\n",
    "    model_rmse = sqrt(model_mse)\n",
    "    \n",
    "    # explained sum of squares (ESS)\n",
    "    model_ess = sum((df.yhat - df.y.mean())**2)\n",
    "    \n",
    "    # total sum of squares (TSS)\n",
    "    model_tss = model_ess + model_sse\n",
    "    \n",
    "\n",
    "    # Baseline metrics:\n",
    "    # Sum of squared errors (SSE):\n",
    "    baseline_sse = (df.baseline_residual**2).sum()\n",
    "    \n",
    "    # mean squared error (MSE)\n",
    "    baseline_mse = baseline_sse/len(df)\n",
    "\n",
    "    # root mean squared error (RMSE)\n",
    "    baseline_rmse = sqrt(baseline_mse)\n",
    "    \n",
    "    if model_sse < baseline_sse:\n",
    "        print(\"Our model beats the baseline.\")\n",
    "    else:\n",
    "        print(\"Our baseline is better than the model.\")\n",
    "    print(\"Baseline SSE\", baseline_sse)\n",
    "    print(\"Model SSE\", model_sse)\n",
    "    \n",
    "\n",
    "    \n",
    "    "
   ]
  },
  {
   "cell_type": "code",
   "execution_count": 94,
   "metadata": {},
   "outputs": [
    {
     "name": "stdout",
     "output_type": "stream",
     "text": [
      "Our model beats the baseline.\n",
      "Baseline SSE 465.2124770491804\n",
      "Model SSE 252.788743850776\n"
     ]
    }
   ],
   "source": [
    "better_than_baseline('y', 'yhat', tip_eval)"
   ]
  },
  {
   "cell_type": "code",
   "execution_count": null,
   "metadata": {},
   "outputs": [],
   "source": [
    "# Calculate if the model beats the baseline\n",
    "# Square errors for 2 reasons\n",
    "# 1. Squaring large numbers increases their magnitude (opposite for small)\n",
    "# 2. Squaring removes negative residuals\n",
    "baseline_sse_rain = (evaluate_rainfall.baseline_residual**2).sum()\n",
    "baseline_mse_rain = baseline_sse_rain/len(df)\n",
    "baseline_rmse_rain = sqrt(baseline_mse_rain)\n",
    "\n",
    "\n",
    "model_sse_rain = (evaluate_rainfall.model_residual**2).sum()\n",
    "\n",
    "if model_sse_rain < baseline_sse_rain:\n",
    "    print(\"Our model beats the baseline\")\n",
    "    print(\"It makes sense to evaluate this model more deeply.\")\n",
    "else:\n",
    "    print(\"Our baseline is better than the model.\")\n",
    "\n",
    "print(\"Baseline SSE\", baseline_sse_rain)\n",
    "print(\"Model SSE\", model_sse_rain)"
   ]
  },
  {
   "cell_type": "code",
   "execution_count": null,
   "metadata": {},
   "outputs": [],
   "source": [
    "baseline_sse_rain = (evaluate_rainfall.baseline_residual**2).sum()"
   ]
  },
  {
   "cell_type": "code",
   "execution_count": null,
   "metadata": {},
   "outputs": [],
   "source": [
    "# Sum the squares of the baseline errors\n",
    "model_sse = (evaluate.model_residual**2).sum()\n",
    "\n",
    "# Take the average of the Sum of squared errors\n",
    "# mse = model_sse / len(evaluate)\n",
    "\n",
    "# Or we could calculate this using sklearn's mean_squared_error function\n",
    "mse = mean_squared_error(evaluate.y, evaluate.yhat)\n",
    "\n",
    "# Now we'll take the Square Root of the Sum of Errors\n",
    "# Taking the square root is nice because the units of the error \n",
    "# will be in the same units as the target variable.\n",
    "rmse = sqrt(mse)\n",
    "\n",
    "print(\"SSE is\", model_sse, \" which is the sum sf squared errors\")\n",
    "print(\"MSE is\", mse, \" which is the average squared error\")\n",
    "print(\"RMSE is\", rmse, \" which is the square root of the MSE\")"
   ]
  },
  {
   "cell_type": "markdown",
   "metadata": {},
   "source": [
    "model_significance(ols_model): that takes the ols model as input and returns the amount of variance explained in your model, and the value telling you whether your model is significantly better than the baseline model (Hint: use the rsquared and f_pvalue properties from the ols model)"
   ]
  },
  {
   "cell_type": "code",
   "execution_count": null,
   "metadata": {},
   "outputs": [],
   "source": []
  },
  {
   "cell_type": "markdown",
   "metadata": {},
   "source": [
    "# Using the MPG dataset"
   ]
  },
  {
   "cell_type": "code",
   "execution_count": 1,
   "metadata": {},
   "outputs": [],
   "source": [
    "from pydataset import data"
   ]
  },
  {
   "cell_type": "code",
   "execution_count": 3,
   "metadata": {},
   "outputs": [
    {
     "data": {
      "text/html": [
       "<div>\n",
       "<style scoped>\n",
       "    .dataframe tbody tr th:only-of-type {\n",
       "        vertical-align: middle;\n",
       "    }\n",
       "\n",
       "    .dataframe tbody tr th {\n",
       "        vertical-align: top;\n",
       "    }\n",
       "\n",
       "    .dataframe thead th {\n",
       "        text-align: right;\n",
       "    }\n",
       "</style>\n",
       "<table border=\"1\" class=\"dataframe\">\n",
       "  <thead>\n",
       "    <tr style=\"text-align: right;\">\n",
       "      <th></th>\n",
       "      <th>manufacturer</th>\n",
       "      <th>model</th>\n",
       "      <th>displ</th>\n",
       "      <th>year</th>\n",
       "      <th>cyl</th>\n",
       "      <th>trans</th>\n",
       "      <th>drv</th>\n",
       "      <th>cty</th>\n",
       "      <th>hwy</th>\n",
       "      <th>fl</th>\n",
       "      <th>class</th>\n",
       "    </tr>\n",
       "  </thead>\n",
       "  <tbody>\n",
       "    <tr>\n",
       "      <th>1</th>\n",
       "      <td>audi</td>\n",
       "      <td>a4</td>\n",
       "      <td>1.8</td>\n",
       "      <td>1999</td>\n",
       "      <td>4</td>\n",
       "      <td>auto(l5)</td>\n",
       "      <td>f</td>\n",
       "      <td>18</td>\n",
       "      <td>29</td>\n",
       "      <td>p</td>\n",
       "      <td>compact</td>\n",
       "    </tr>\n",
       "    <tr>\n",
       "      <th>2</th>\n",
       "      <td>audi</td>\n",
       "      <td>a4</td>\n",
       "      <td>1.8</td>\n",
       "      <td>1999</td>\n",
       "      <td>4</td>\n",
       "      <td>manual(m5)</td>\n",
       "      <td>f</td>\n",
       "      <td>21</td>\n",
       "      <td>29</td>\n",
       "      <td>p</td>\n",
       "      <td>compact</td>\n",
       "    </tr>\n",
       "    <tr>\n",
       "      <th>3</th>\n",
       "      <td>audi</td>\n",
       "      <td>a4</td>\n",
       "      <td>2.0</td>\n",
       "      <td>2008</td>\n",
       "      <td>4</td>\n",
       "      <td>manual(m6)</td>\n",
       "      <td>f</td>\n",
       "      <td>20</td>\n",
       "      <td>31</td>\n",
       "      <td>p</td>\n",
       "      <td>compact</td>\n",
       "    </tr>\n",
       "    <tr>\n",
       "      <th>4</th>\n",
       "      <td>audi</td>\n",
       "      <td>a4</td>\n",
       "      <td>2.0</td>\n",
       "      <td>2008</td>\n",
       "      <td>4</td>\n",
       "      <td>auto(av)</td>\n",
       "      <td>f</td>\n",
       "      <td>21</td>\n",
       "      <td>30</td>\n",
       "      <td>p</td>\n",
       "      <td>compact</td>\n",
       "    </tr>\n",
       "    <tr>\n",
       "      <th>5</th>\n",
       "      <td>audi</td>\n",
       "      <td>a4</td>\n",
       "      <td>2.8</td>\n",
       "      <td>1999</td>\n",
       "      <td>6</td>\n",
       "      <td>auto(l5)</td>\n",
       "      <td>f</td>\n",
       "      <td>16</td>\n",
       "      <td>26</td>\n",
       "      <td>p</td>\n",
       "      <td>compact</td>\n",
       "    </tr>\n",
       "  </tbody>\n",
       "</table>\n",
       "</div>"
      ],
      "text/plain": [
       "  manufacturer model  displ  year  cyl       trans drv  cty  hwy fl    class\n",
       "1         audi    a4    1.8  1999    4    auto(l5)   f   18   29  p  compact\n",
       "2         audi    a4    1.8  1999    4  manual(m5)   f   21   29  p  compact\n",
       "3         audi    a4    2.0  2008    4  manual(m6)   f   20   31  p  compact\n",
       "4         audi    a4    2.0  2008    4    auto(av)   f   21   30  p  compact\n",
       "5         audi    a4    2.8  1999    6    auto(l5)   f   16   26  p  compact"
      ]
     },
     "execution_count": 3,
     "metadata": {},
     "output_type": "execute_result"
    }
   ],
   "source": [
    "mpg = data('mpg')\n",
    "mpg.head()"
   ]
  },
  {
   "cell_type": "code",
   "execution_count": null,
   "metadata": {},
   "outputs": [],
   "source": []
  }
 ],
 "metadata": {
  "kernelspec": {
   "display_name": "Python 3",
   "language": "python",
   "name": "python3"
  },
  "language_info": {
   "codemirror_mode": {
    "name": "ipython",
    "version": 3
   },
   "file_extension": ".py",
   "mimetype": "text/x-python",
   "name": "python",
   "nbconvert_exporter": "python",
   "pygments_lexer": "ipython3",
   "version": "3.7.9"
  }
 },
 "nbformat": 4,
 "nbformat_minor": 4
}
