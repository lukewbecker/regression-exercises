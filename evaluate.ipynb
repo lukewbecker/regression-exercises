{
 "cells": [
  {
   "cell_type": "markdown",
   "metadata": {},
   "source": [
    "# Evaluate Lesson Exercises"
   ]
  },
  {
   "cell_type": "markdown",
   "metadata": {},
   "source": [
    "Do you work for this exercise in either a jupyter notebook named `evaluate` within your regression-exercises repository. By the end of this exercise you will also create a python script named `evaluate`, so the overall deliverables for this exercise are the python script and jupyter notebook both with the name `evaluate` within your regression-exercises repo."
   ]
  },
  {
   "cell_type": "code",
   "execution_count": 1,
   "metadata": {},
   "outputs": [],
   "source": [
    "# References:\n",
    "# https://github.com/CodeupClassroom/darden-regression-exercises/blob/master/eval.ipynb"
   ]
  },
  {
   "cell_type": "code",
   "execution_count": 44,
   "metadata": {},
   "outputs": [],
   "source": [
    "import warnings\n",
    "warnings.filterwarnings(\"ignore\")\n",
    "\n",
    "import pandas as pd\n",
    "import matplotlib.pyplot as plt\n",
    "import seaborn as sns\n",
    "import numpy as np\n",
    "from pydataset import data\n",
    "\n",
    "import math\n",
    "from sklearn.metrics import mean_squared_error\n",
    "from math import sqrt\n",
    "\n",
    "\n",
    "from statsmodels.formula.api import ols"
   ]
  },
  {
   "cell_type": "code",
   "execution_count": null,
   "metadata": {},
   "outputs": [],
   "source": [
    "df = pd.read_csv(\"https://gist.githubusercontent.com/ryanorsinger/9867c96ddb56626e9aac94d8e92dabdf/raw/45f9a36a8871ac0e24317704ed0072c9dded1327/lemonade_regression.csv\")\n",
    "df.to_csv('lemonade.csv', index = False)"
   ]
  },
  {
   "cell_type": "code",
   "execution_count": 3,
   "metadata": {},
   "outputs": [
    {
     "data": {
      "text/html": [
       "<div>\n",
       "<style scoped>\n",
       "    .dataframe tbody tr th:only-of-type {\n",
       "        vertical-align: middle;\n",
       "    }\n",
       "\n",
       "    .dataframe tbody tr th {\n",
       "        vertical-align: top;\n",
       "    }\n",
       "\n",
       "    .dataframe thead th {\n",
       "        text-align: right;\n",
       "    }\n",
       "</style>\n",
       "<table border=\"1\" class=\"dataframe\">\n",
       "  <thead>\n",
       "    <tr style=\"text-align: right;\">\n",
       "      <th></th>\n",
       "      <th>temperature</th>\n",
       "      <th>rainfall</th>\n",
       "      <th>flyers</th>\n",
       "      <th>sales</th>\n",
       "    </tr>\n",
       "  </thead>\n",
       "  <tbody>\n",
       "    <tr>\n",
       "      <th>0</th>\n",
       "      <td>27.0</td>\n",
       "      <td>2.00</td>\n",
       "      <td>15</td>\n",
       "      <td>10</td>\n",
       "    </tr>\n",
       "    <tr>\n",
       "      <th>1</th>\n",
       "      <td>28.9</td>\n",
       "      <td>1.33</td>\n",
       "      <td>15</td>\n",
       "      <td>13</td>\n",
       "    </tr>\n",
       "    <tr>\n",
       "      <th>2</th>\n",
       "      <td>34.5</td>\n",
       "      <td>1.33</td>\n",
       "      <td>27</td>\n",
       "      <td>15</td>\n",
       "    </tr>\n",
       "    <tr>\n",
       "      <th>3</th>\n",
       "      <td>44.1</td>\n",
       "      <td>1.05</td>\n",
       "      <td>28</td>\n",
       "      <td>17</td>\n",
       "    </tr>\n",
       "    <tr>\n",
       "      <th>4</th>\n",
       "      <td>42.4</td>\n",
       "      <td>1.00</td>\n",
       "      <td>33</td>\n",
       "      <td>18</td>\n",
       "    </tr>\n",
       "    <tr>\n",
       "      <th>...</th>\n",
       "      <td>...</td>\n",
       "      <td>...</td>\n",
       "      <td>...</td>\n",
       "      <td>...</td>\n",
       "    </tr>\n",
       "    <tr>\n",
       "      <th>360</th>\n",
       "      <td>42.7</td>\n",
       "      <td>1.00</td>\n",
       "      <td>33</td>\n",
       "      <td>19</td>\n",
       "    </tr>\n",
       "    <tr>\n",
       "      <th>361</th>\n",
       "      <td>37.8</td>\n",
       "      <td>1.25</td>\n",
       "      <td>32</td>\n",
       "      <td>16</td>\n",
       "    </tr>\n",
       "    <tr>\n",
       "      <th>362</th>\n",
       "      <td>39.5</td>\n",
       "      <td>1.25</td>\n",
       "      <td>17</td>\n",
       "      <td>15</td>\n",
       "    </tr>\n",
       "    <tr>\n",
       "      <th>363</th>\n",
       "      <td>30.9</td>\n",
       "      <td>1.43</td>\n",
       "      <td>22</td>\n",
       "      <td>13</td>\n",
       "    </tr>\n",
       "    <tr>\n",
       "      <th>364</th>\n",
       "      <td>15.1</td>\n",
       "      <td>2.50</td>\n",
       "      <td>9</td>\n",
       "      <td>7</td>\n",
       "    </tr>\n",
       "  </tbody>\n",
       "</table>\n",
       "<p>365 rows × 4 columns</p>\n",
       "</div>"
      ],
      "text/plain": [
       "     temperature  rainfall  flyers  sales\n",
       "0           27.0      2.00      15     10\n",
       "1           28.9      1.33      15     13\n",
       "2           34.5      1.33      27     15\n",
       "3           44.1      1.05      28     17\n",
       "4           42.4      1.00      33     18\n",
       "..           ...       ...     ...    ...\n",
       "360         42.7      1.00      33     19\n",
       "361         37.8      1.25      32     16\n",
       "362         39.5      1.25      17     15\n",
       "363         30.9      1.43      22     13\n",
       "364         15.1      2.50       9      7\n",
       "\n",
       "[365 rows x 4 columns]"
      ]
     },
     "execution_count": 3,
     "metadata": {},
     "output_type": "execute_result"
    }
   ],
   "source": [
    "df = pd.read_csv('lemonade.csv')\n",
    "df"
   ]
  },
  {
   "cell_type": "code",
   "execution_count": 4,
   "metadata": {},
   "outputs": [],
   "source": [
    "# Settling significance level and alpha:\n",
    "\n",
    "significance_level = .95\n",
    "alpha = round(1-significance_level, 2)"
   ]
  },
  {
   "cell_type": "code",
   "execution_count": 5,
   "metadata": {},
   "outputs": [
    {
     "data": {
      "text/plain": [
       "25.323287671232876"
      ]
     },
     "execution_count": 5,
     "metadata": {},
     "output_type": "execute_result"
    }
   ],
   "source": [
    "# Creating a baseline (using the mean) for the sales column\n",
    "\n",
    "df.sales.mean()"
   ]
  },
  {
   "cell_type": "markdown",
   "metadata": {},
   "source": [
    "## Building a super simple model (SSM™)"
   ]
  },
  {
   "cell_type": "code",
   "execution_count": 6,
   "metadata": {},
   "outputs": [],
   "source": [
    "# building the super-simple linear model (step 1):\n",
    "\n",
    "model = ols('sales ~ flyers', data = df).fit()\n",
    "# predictions = model.predict(df.x)"
   ]
  },
  {
   "cell_type": "code",
   "execution_count": 7,
   "metadata": {},
   "outputs": [
    {
     "data": {
      "text/plain": [
       "<statsmodels.regression.linear_model.RegressionResultsWrapper at 0x7ffc715dfe50>"
      ]
     },
     "execution_count": 7,
     "metadata": {},
     "output_type": "execute_result"
    }
   ],
   "source": [
    "model"
   ]
  },
  {
   "cell_type": "code",
   "execution_count": 8,
   "metadata": {},
   "outputs": [],
   "source": [
    "# Now that I've fit the model (which usually would be to my train data, I'll create the dataframe that contains the x and y parameters and eventually the predictions)\n",
    "\n",
    "evaluate = pd.DataFrame()\n",
    "\n",
    "evaluate['x'] = df.flyers"
   ]
  },
  {
   "cell_type": "code",
   "execution_count": 45,
   "metadata": {},
   "outputs": [
    {
     "data": {
      "text/html": [
       "<div>\n",
       "<style scoped>\n",
       "    .dataframe tbody tr th:only-of-type {\n",
       "        vertical-align: middle;\n",
       "    }\n",
       "\n",
       "    .dataframe tbody tr th {\n",
       "        vertical-align: top;\n",
       "    }\n",
       "\n",
       "    .dataframe thead th {\n",
       "        text-align: right;\n",
       "    }\n",
       "</style>\n",
       "<table border=\"1\" class=\"dataframe\">\n",
       "  <thead>\n",
       "    <tr style=\"text-align: right;\">\n",
       "      <th></th>\n",
       "      <th>x</th>\n",
       "      <th>y</th>\n",
       "      <th>baseline</th>\n",
       "      <th>yhat</th>\n",
       "      <th>baseline_residual</th>\n",
       "      <th>model_residual</th>\n",
       "    </tr>\n",
       "  </thead>\n",
       "  <tbody>\n",
       "    <tr>\n",
       "      <th>0</th>\n",
       "      <td>15</td>\n",
       "      <td>10</td>\n",
       "      <td>25.323288</td>\n",
       "      <td>-1.599602</td>\n",
       "      <td>15.323288</td>\n",
       "      <td>-11.599602</td>\n",
       "    </tr>\n",
       "    <tr>\n",
       "      <th>1</th>\n",
       "      <td>15</td>\n",
       "      <td>13</td>\n",
       "      <td>25.323288</td>\n",
       "      <td>13.773142</td>\n",
       "      <td>12.323288</td>\n",
       "      <td>0.773142</td>\n",
       "    </tr>\n",
       "    <tr>\n",
       "      <th>2</th>\n",
       "      <td>27</td>\n",
       "      <td>15</td>\n",
       "      <td>25.323288</td>\n",
       "      <td>13.773142</td>\n",
       "      <td>10.323288</td>\n",
       "      <td>-1.226858</td>\n",
       "    </tr>\n",
       "    <tr>\n",
       "      <th>3</th>\n",
       "      <td>28</td>\n",
       "      <td>17</td>\n",
       "      <td>25.323288</td>\n",
       "      <td>20.197573</td>\n",
       "      <td>8.323288</td>\n",
       "      <td>3.197573</td>\n",
       "    </tr>\n",
       "    <tr>\n",
       "      <th>4</th>\n",
       "      <td>33</td>\n",
       "      <td>18</td>\n",
       "      <td>25.323288</td>\n",
       "      <td>21.344793</td>\n",
       "      <td>7.323288</td>\n",
       "      <td>3.344793</td>\n",
       "    </tr>\n",
       "  </tbody>\n",
       "</table>\n",
       "</div>"
      ],
      "text/plain": [
       "    x   y   baseline       yhat  baseline_residual  model_residual\n",
       "0  15  10  25.323288  -1.599602          15.323288      -11.599602\n",
       "1  15  13  25.323288  13.773142          12.323288        0.773142\n",
       "2  27  15  25.323288  13.773142          10.323288       -1.226858\n",
       "3  28  17  25.323288  20.197573           8.323288        3.197573\n",
       "4  33  18  25.323288  21.344793           7.323288        3.344793"
      ]
     },
     "execution_count": 45,
     "metadata": {},
     "output_type": "execute_result"
    }
   ],
   "source": [
    "# y variable is sales, and the baseline is the mean of sales.\n",
    "evaluate[\"y\"] = df.sales\n",
    "evaluate[\"baseline\"] = df.sales.mean()\n",
    "\n",
    "# y-hat is a common shorthand for \"predicted y\" values in statistics\n",
    "evaluate['yhat'] = model.predict()\n",
    "\n",
    "# Calc the baseline residuals (errors)\n",
    "evaluate[\"baseline_residual\"] = evaluate.baseline - evaluate.y\n",
    "\n",
    "# Calc the model's residuals:\n",
    "evaluate[\"model_residual\"] = evaluate.yhat - evaluate.y\n",
    "\n",
    "evaluate.head()"
   ]
  },
  {
   "cell_type": "code",
   "execution_count": 10,
   "metadata": {},
   "outputs": [
    {
     "name": "stdout",
     "output_type": "stream",
     "text": [
      "Our model beats the baseline\n",
      "It makes sense to evaluate this model more deeply.\n",
      "Baseline SSE 17297.85205479452\n",
      "Model SSE 6083.326244705024\n"
     ]
    }
   ],
   "source": [
    "# Calculate if the model beats the baseline\n",
    "# Square errors for 2 reasons\n",
    "# 1. Squaring large numbers increases their magnitude (opposite for small)\n",
    "# 2. Squaring removes negative residuals\n",
    "baseline_sse = (evaluate.baseline_residual**2).sum()\n",
    "model_sse = (evaluate.model_residual**2).sum()\n",
    "\n",
    "if model_sse < baseline_sse:\n",
    "    print(\"Our model beats the baseline\")\n",
    "    print(\"It makes sense to evaluate this model more deeply.\")\n",
    "else:\n",
    "    print(\"Our baseline is better than the model.\")\n",
    "\n",
    "print(\"Baseline SSE\", baseline_sse)\n",
    "print(\"Model SSE\", model_sse)"
   ]
  },
  {
   "cell_type": "code",
   "execution_count": 11,
   "metadata": {},
   "outputs": [
    {
     "name": "stdout",
     "output_type": "stream",
     "text": [
      "SSE is 6083.326244705024  which is the sum sf squared errors\n",
      "MSE is 16.666647245767187  which is the average squared error\n",
      "RMSE is 4.082480526073233  which is the square root of the MSE\n"
     ]
    }
   ],
   "source": [
    "# Calculating SSE\n",
    "model_sse = (evaluate.model_residual**2).sum()\n",
    "\n",
    "# Calcuating MSE\n",
    "mse = mean_squared_error(evaluate.y, evaluate.yhat)\n",
    "\n",
    "# Calculating RMSE\n",
    "rmse = sqrt(mse)\n",
    "\n",
    "print(\"SSE is\", model_sse, \" which is the sum sf squared errors\")\n",
    "print(\"MSE is\", mse, \" which is the average squared error\")\n",
    "print(\"RMSE is\", rmse, \" which is the square root of the MSE\")"
   ]
  },
  {
   "cell_type": "markdown",
   "metadata": {},
   "source": [
    "### Model Significance Evaluation with $R^2$"
   ]
  },
  {
   "cell_type": "code",
   "execution_count": 12,
   "metadata": {},
   "outputs": [
    {
     "name": "stdout",
     "output_type": "stream",
     "text": [
      "R-squared = 0.648\n"
     ]
    }
   ],
   "source": [
    "r2 = model.rsquared\n",
    "print('R-squared =', round(r2, 3))"
   ]
  },
  {
   "cell_type": "code",
   "execution_count": 13,
   "metadata": {},
   "outputs": [
    {
     "name": "stdout",
     "output_type": "stream",
     "text": [
      "p-value for model significance =  2.193718738113383e-84\n"
     ]
    }
   ],
   "source": [
    "# Now to evaluate the p-value:\n",
    "f_pval = model.f_pvalue\n",
    "\n",
    "print(\"p-value for model significance = \", f_pval)"
   ]
  },
  {
   "cell_type": "code",
   "execution_count": 14,
   "metadata": {},
   "outputs": [
    {
     "data": {
      "text/plain": [
       "True"
      ]
     },
     "execution_count": 14,
     "metadata": {},
     "output_type": "execute_result"
    }
   ],
   "source": [
    "f_pval < alpha"
   ]
  },
  {
   "cell_type": "code",
   "execution_count": 15,
   "metadata": {},
   "outputs": [],
   "source": [
    "def plot_residuals(actual, predicted):\n",
    "    residuals = actual - predicted\n",
    "    plt.hlines(0, actual.min(), actual.max(), ls = ':')\n",
    "    plt.scatter(actual, residuals)\n",
    "    plt.ylabel('residual ($ - \\hat{y}$)')\n",
    "    plt.xlabel('actual value ($y$)')\n",
    "    plt.title('Actual vs Residual')\n",
    "    return plt.gca()"
   ]
  },
  {
   "cell_type": "code",
   "execution_count": 16,
   "metadata": {},
   "outputs": [
    {
     "data": {
      "image/png": "[encoded data removed]",
      "text/plain": [
       "<Figure size 432x288 with 1 Axes>"
      ]
     },
     "metadata": {
      "needs_background": "light"
     },
     "output_type": "display_data"
    }
   ],
   "source": [
    "plot_residuals(evaluate.y, evaluate.yhat)\n",
    "plt.show()"
   ]
  },
  {
   "cell_type": "markdown",
   "metadata": {},
   "source": [
    "## Drill time! Repetition is key!"
   ]
  },
  {
   "cell_type": "code",
   "execution_count": 17,
   "metadata": {},
   "outputs": [],
   "source": [
    "# Goal is to take these steps and make a function out of them.\n",
    "# Use a different feature from my dataset.\n",
    "\n"
   ]
  },
  {
   "cell_type": "code",
   "execution_count": 18,
   "metadata": {},
   "outputs": [],
   "source": [
    "def model_function(linear_model, target, feature):\n",
    "    \n",
    "    '''\n",
    "    This function will take in a linear model, a target variable, and a feature. It will calculate if the baseline model or the super simple model is a better fit for the data. If the user's model is a better fit, will run through the SSE, MSE, and RMSE calucations to generate model metrics and check model significance, and return a scatterplot of the model on the dataset.    \n",
    "    '''\n",
    "    \n",
    "    baseline = target.mean()\n",
    "    model = linear_model\n",
    "    evaluate = pd.DataFrame()\n",
    "    evaluate['x'] = feature\n",
    "    \n",
    "    # y variable is sales, and the baseline is the mean of sales.\n",
    "    evaluate[\"y\"] = target\n",
    "    evaluate[\"baseline\"] = target.mean()\n",
    "\n",
    "    # y-hat is a common shorthand for \"predicted y\" values in statistics\n",
    "    evaluate['yhat'] = model.predict()\n",
    "\n",
    "    # Calc the baseline residuals (errors)\n",
    "    evaluate[\"baseline_residual\"] = evaluate.baseline - evaluate.y\n",
    "\n",
    "    # Calc the model's residuals:\n",
    "    evaluate[\"model_residual\"] = evaluate.yhat - evaluate.y\n",
    "    \n",
    "    # Now the function calculates the SSE, MSE, and RMSE:\n",
    "    # Calculate if the model beats the baseline\n",
    "    # Square errors for 2 reasons:\n",
    "        # 1. Squaring large numbers increases their magnitude (opposite for small)\n",
    "        # 2. Squaring removes negative residuals\n",
    "        \n",
    "    baseline_sse = (evaluate.baseline_residual**2).sum()\n",
    "    model_sse = (evaluate.model_residual**2).sum()\n",
    "\n",
    "    if model_sse > baseline_sse:\n",
    "        print(\"Our baseline is better than the model\")\n",
    "    \n",
    "    else:\n",
    "        print(\"Our model beats the baseline\")\n",
    "        \n",
    "        metrics = pd.DataFrame()\n",
    "        \n",
    "        # Calculating SSE\n",
    "        model_sse = (evaluate.model_residual**2).sum()\n",
    "\n",
    "        # Calcuating MSE\n",
    "        mse = mean_squared_error(evaluate.y, evaluate.yhat)\n",
    "\n",
    "        # Calculating RMSE\n",
    "        rmse = sqrt(mse)\n",
    "\n",
    "        print(\"SSE is\", model_sse, \" which is the sum sf squared errors\")\n",
    "        print(\"MSE is\", mse, \" which is the average squared error\")\n",
    "        print(\"RMSE is\", rmse, \" which is the square root of the MSE\")\n",
    "        \n",
    "        # Evaluate the model significance using r-squared.\n",
    "        r2 = model.rsquared\n",
    "        print('R-squared =', round(r2, 3))\n",
    "        \n",
    "        \n",
    "        # Now to evaluate the p-value:\n",
    "        f_pval = model.f_pvalue\n",
    "        print(\"p-value for model significance = \", f_pval)\n",
    "        \n",
    "        \n",
    "        # Nested function to generate plot:\n",
    "        def plot_residuals(actual, predicted):\n",
    "            residuals = actual - predicted\n",
    "            plt.hlines(0, actual.min(), actual.max(), ls = ':')\n",
    "            plt.scatter(actual, residuals)\n",
    "            plt.ylabel('residual ($ - \\hat{y}$)')\n",
    "            plt.xlabel('actual value ($y$)')\n",
    "            plt.title('Actual vs Residual')\n",
    "            return plt.gca()\n",
    "        \n",
    "        actual = evaluate.y\n",
    "        predicted = evaluate.yhat\n",
    "        plot_residuals(evaluate.y, evaluate.yhat)\n",
    "\n",
    "\n",
    "    \n",
    "    "
   ]
  },
  {
   "cell_type": "code",
   "execution_count": 19,
   "metadata": {},
   "outputs": [],
   "source": [
    "# Create and fit the model:\n",
    "\n",
    "model = ols('sales ~ rainfall', data = df).fit()"
   ]
  },
  {
   "cell_type": "code",
   "execution_count": 20,
   "metadata": {},
   "outputs": [
    {
     "name": "stdout",
     "output_type": "stream",
     "text": [
      "Our model beats the baseline\n",
      "SSE is 2998.2371310300655  which is the sum sf squared errors\n",
      "MSE is 8.21434830419196  which is the average squared error\n",
      "RMSE is 2.866068440249109  which is the square root of the MSE\n",
      "R-squared = 0.827\n",
      "p-value for model significance =  3.2988846597381e-140\n"
     ]
    },
    {
     "data": {
      "image/png": "[encoded data removed]",
      "text/plain": [
       "<Figure size 432x288 with 1 Axes>"
      ]
     },
     "metadata": {
      "needs_background": "light"
     },
     "output_type": "display_data"
    }
   ],
   "source": [
    "model_function(model, df.sales, df.rainfall)"
   ]
  },
  {
   "cell_type": "code",
   "execution_count": null,
   "metadata": {},
   "outputs": [],
   "source": [
    "model_test = ols('sales ~ rainfall', data = df).fit()"
   ]
  },
  {
   "cell_type": "code",
   "execution_count": null,
   "metadata": {},
   "outputs": [],
   "source": [
    "test1 = 'sales'\n",
    "test2 = 'rainfall'"
   ]
  },
  {
   "cell_type": "code",
   "execution_count": null,
   "metadata": {},
   "outputs": [],
   "source": [
    "model_test = ols(f'{target_input} ~ {feature_input}', data=df).fit"
   ]
  },
  {
   "cell_type": "code",
   "execution_count": null,
   "metadata": {},
   "outputs": [],
   "source": [
    "target_input = str(input('What is the target variable column? '))\n",
    "feature_input = str(input('What is the feature column? '))"
   ]
  },
  {
   "cell_type": "code",
   "execution_count": 21,
   "metadata": {},
   "outputs": [
    {
     "name": "stdout",
     "output_type": "stream",
     "text": [
      "What is the target variable column? sales\n"
     ]
    }
   ],
   "source": [
    "target_input = str(input('What is the target variable column? '))"
   ]
  },
  {
   "cell_type": "code",
   "execution_count": 22,
   "metadata": {},
   "outputs": [
    {
     "name": "stdout",
     "output_type": "stream",
     "text": [
      "What is the feature column? rainfall\n"
     ]
    }
   ],
   "source": [
    "feature_input = str(input('What is the feature column? '))"
   ]
  },
  {
   "cell_type": "code",
   "execution_count": 41,
   "metadata": {},
   "outputs": [
    {
     "data": {
      "text/plain": [
       "0      2.00\n",
       "1      1.33\n",
       "2      1.33\n",
       "3      1.05\n",
       "4      1.00\n",
       "       ... \n",
       "360    1.00\n",
       "361    1.25\n",
       "362    1.25\n",
       "363    1.43\n",
       "364    2.50\n",
       "Name: rainfall, Length: 365, dtype: float64"
      ]
     },
     "execution_count": 41,
     "metadata": {},
     "output_type": "execute_result"
    }
   ],
   "source": [
    "df[feature_input]"
   ]
  },
  {
   "cell_type": "code",
   "execution_count": 27,
   "metadata": {},
   "outputs": [],
   "source": [
    "def model_fit_model(df):\n",
    "    \n",
    "    target = str(input('What is the target variable column? '))\n",
    "    feature = str(input('What is the feature column? '))\n",
    "    \n",
    "    linear_model = ols(f'{target} ~ {feature}', data=df).fit\n",
    "    return linear_model"
   ]
  },
  {
   "cell_type": "code",
   "execution_count": 28,
   "metadata": {},
   "outputs": [
    {
     "name": "stdout",
     "output_type": "stream",
     "text": [
      "What is the target variable column? sales\n",
      "What is the feature column? rainfall\n"
     ]
    },
    {
     "data": {
      "text/plain": [
       "<bound method RegressionModel.fit of <statsmodels.regression.linear_model.OLS object at 0x7ffc812b2e50>>"
      ]
     },
     "execution_count": 28,
     "metadata": {},
     "output_type": "execute_result"
    }
   ],
   "source": [
    "model_fit_model(df)"
   ]
  },
  {
   "cell_type": "code",
   "execution_count": 42,
   "metadata": {},
   "outputs": [],
   "source": [
    "# Now putting all the functions together:\n",
    "\n",
    "def fit_linear_model(df):\n",
    "\n",
    "    target = input('What is the target variable column? ')\n",
    "    feature = input('What is the feature column? ')\n",
    "\n",
    "    linear_model = ols(f'{target} ~ {feature}', data=df).fit\n",
    "\n",
    "    baseline = df[target].mean()                              \n",
    "    model = linear_model           \n",
    "    evaluate = pd.DataFrame()\n",
    "    evaluate[\"x\"] = df[feature]                          \n",
    "\n",
    "    # Our y is our dependent variable\n",
    "    evaluate[\"y\"] = df[target]                                \n",
    "    evaluate[\"baseline\"] = df[target].mean()                  \n",
    "    # y-hat is shorthand for \"predicted y\" values\n",
    "    evaluate[\"yhat\"] = model.predict()\n",
    "    # Calculate the baseline residuals \n",
    "    evaluate[\"baseline_residual\"] = evaluate.baseline - evaluate.y\n",
    "    # Calculate the model residuals\n",
    "    evaluate[\"model_residual\"] = evaluate.yhat - evaluate.y\n",
    "\n",
    "    # Calculate if the model beats the baseline\n",
    "    baseline_sse = ((evaluate.baseline_residual**2).sum())\n",
    "    model_sse = ((evaluate.model_residual**2).sum())\n",
    "    if model_sse > baseline_sse:\n",
    "        print(\"Our baseline is better than the model.\")\n",
    "    else:\n",
    "        metrics = pd.DataFrame()\n",
    "        # Sum the squares of the baseline errors\n",
    "        model_sse = ((evaluate.model_residual**2).sum())\n",
    "        # Take the average of the Sum of squared errors\n",
    "        # mse = model_sse / len(evaluate)\n",
    "        # Or we could calculate this using sklearn's mean_squared_error function\n",
    "        mse = mean_squared_error(evaluate.y, evaluate.yhat)\n",
    "        # Now we'll take the Square Root of the Sum of Errors\n",
    "        # Taking the square root is nice because the units of the error \n",
    "        # will be in the same units as the target variable.\n",
    "        rmse = sqrt(mse)\n",
    "        print(\"SSE is\", model_sse, \"which is the sum sf squared errors\")\n",
    "        print(\"MSE is\", mse, \"which is the average squared error\")\n",
    "        print(\"RMSE is\", rmse, \"which is the square root of the MSE\")\n",
    "        # The model commented below is our model\n",
    "        # model = ols('sales ~ flyers', df).fit()\n",
    "        r2 = model.rsquared\n",
    "        print('R-squared = ', round(r2,3))\n",
    "        # F-Test for p value\n",
    "        f_pval = model.f_pvalue\n",
    "        print(\"p-value for model significance = \", f_pval)\n",
    "\n",
    "        def plot_residuals(actual, predicted):\n",
    "            residuals = actual - predicted\n",
    "            plt.hlines(0, actual.min(), actual.max(), ls=':')\n",
    "            plt.scatter(actual, residuals)\n",
    "            plt.ylabel('residual ($y - \\hat{y}$)')\n",
    "            plt.xlabel('actual value ($y$)')\n",
    "            plt.title('Actual vs Residual')\n",
    "            return plt.gca()\n",
    "\n",
    "        actual = evaluate.y \n",
    "        predicted = evaluate.yhat\n",
    "        plot_residuals(evaluate.y, evaluate.yhat)"
   ]
  },
  {
   "cell_type": "code",
   "execution_count": 43,
   "metadata": {},
   "outputs": [
    {
     "name": "stdout",
     "output_type": "stream",
     "text": [
      "What is the target variable column? sales\n",
      "What is the feature column? rainfall\n"
     ]
    },
    {
     "ename": "AttributeError",
     "evalue": "'function' object has no attribute 'predict'",
     "output_type": "error",
     "traceback": [
      "\u001b[0;31m---------------------------------------------------------------------------\u001b[0m",
      "\u001b[0;31mAttributeError\u001b[0m                            Traceback (most recent call last)",
      "\u001b[0;32m<ipython-input-43-dd9dfd072ddb>\u001b[0m in \u001b[0;36m<module>\u001b[0;34m\u001b[0m\n\u001b[0;32m----> 1\u001b[0;31m \u001b[0mfit_linear_model\u001b[0m\u001b[0;34m(\u001b[0m\u001b[0mdf\u001b[0m\u001b[0;34m)\u001b[0m\u001b[0;34m\u001b[0m\u001b[0;34m\u001b[0m\u001b[0m\n\u001b[0m",
      "\u001b[0;32m<ipython-input-42-e7b5ae6f8134>\u001b[0m in \u001b[0;36mfit_linear_model\u001b[0;34m(df)\u001b[0m\n\u001b[1;32m     17\u001b[0m     \u001b[0mevaluate\u001b[0m\u001b[0;34m[\u001b[0m\u001b[0;34m\"baseline\"\u001b[0m\u001b[0;34m]\u001b[0m \u001b[0;34m=\u001b[0m \u001b[0mdf\u001b[0m\u001b[0;34m[\u001b[0m\u001b[0mtarget\u001b[0m\u001b[0;34m]\u001b[0m\u001b[0;34m.\u001b[0m\u001b[0mmean\u001b[0m\u001b[0;34m(\u001b[0m\u001b[0;34m)\u001b[0m\u001b[0;34m\u001b[0m\u001b[0;34m\u001b[0m\u001b[0m\n\u001b[1;32m     18\u001b[0m     \u001b[0;31m# y-hat is shorthand for \"predicted y\" values\u001b[0m\u001b[0;34m\u001b[0m\u001b[0;34m\u001b[0m\u001b[0;34m\u001b[0m\u001b[0m\n\u001b[0;32m---> 19\u001b[0;31m     \u001b[0mevaluate\u001b[0m\u001b[0;34m[\u001b[0m\u001b[0;34m\"yhat\"\u001b[0m\u001b[0;34m]\u001b[0m \u001b[0;34m=\u001b[0m \u001b[0mmodel\u001b[0m\u001b[0;34m.\u001b[0m\u001b[0mpredict\u001b[0m\u001b[0;34m(\u001b[0m\u001b[0;34m)\u001b[0m\u001b[0;34m\u001b[0m\u001b[0;34m\u001b[0m\u001b[0m\n\u001b[0m\u001b[1;32m     20\u001b[0m     \u001b[0;31m# Calculate the baseline residuals\u001b[0m\u001b[0;34m\u001b[0m\u001b[0;34m\u001b[0m\u001b[0;34m\u001b[0m\u001b[0m\n\u001b[1;32m     21\u001b[0m     \u001b[0mevaluate\u001b[0m\u001b[0;34m[\u001b[0m\u001b[0;34m\"baseline_residual\"\u001b[0m\u001b[0;34m]\u001b[0m \u001b[0;34m=\u001b[0m \u001b[0mevaluate\u001b[0m\u001b[0;34m.\u001b[0m\u001b[0mbaseline\u001b[0m \u001b[0;34m-\u001b[0m \u001b[0mevaluate\u001b[0m\u001b[0;34m.\u001b[0m\u001b[0my\u001b[0m\u001b[0;34m\u001b[0m\u001b[0;34m\u001b[0m\u001b[0m\n",
      "\u001b[0;31mAttributeError\u001b[0m: 'function' object has no attribute 'predict'"
     ]
    }
   ],
   "source": [
    "fit_linear_model(df)"
   ]
  },
  {
   "cell_type": "code",
   "execution_count": null,
   "metadata": {},
   "outputs": [],
   "source": [
    "def linear_models(linear_model, target, feature):\n",
    "    \n",
    "    baseline = target.mean()                              \n",
    "    model = linear_model           \n",
    "    evaluate = pd.DataFrame()\n",
    "    evaluate[\"x\"] = feature                          \n",
    "    \n",
    "    # Our y is our dependent variable\n",
    "    evaluate[\"y\"] = target                                \n",
    "    evaluate[\"baseline\"] = target.mean()                  \n",
    "    # y-hat is shorthand for \"predicted y\" values\n",
    "    evaluate[\"yhat\"] = model.predict()\n",
    "    # Calculate the baseline residuals \n",
    "    evaluate[\"baseline_residual\"] = evaluate.baseline - evaluate.y\n",
    "    # Calculate the model residuals\n",
    "    evaluate[\"model_residual\"] = evaluate.yhat - evaluate.y\n",
    "    \n",
    "    # Calculate if the model beats the baseline\n",
    "    baseline_sse = ((evaluate.baseline_residual**2).sum())\n",
    "    model_sse = ((evaluate.model_residual**2).sum())\n",
    "    if model_sse > baseline_sse:\n",
    "        print(\"Our baseline is better than the model.\")\n",
    "    else:\n",
    "        metrics = pd.DataFrame()\n",
    "        # Sum the squares of the baseline errors\n",
    "        model_sse = ((evaluate.model_residual**2).sum())\n",
    "        # Take the average of the Sum of squared errors\n",
    "        # mse = model_sse / len(evaluate)\n",
    "        # Or we could calculate this using sklearn's mean_squared_error function\n",
    "        mse = mean_squared_error(evaluate.y, evaluate.yhat)\n",
    "        # Now we'll take the Square Root of the Sum of Errors\n",
    "        # Taking the square root is nice because the units of the error \n",
    "        # will be in the same units as the target variable.\n",
    "        rmse = sqrt(mse)\n",
    "        print(\"SSE is\", model_sse, \"which is the sum sf squared errors\")\n",
    "        print(\"MSE is\", mse, \"which is the average squared error\")\n",
    "        print(\"RMSE is\", rmse, \"which is the square root of the MSE\")\n",
    "        # The model commented below is our model\n",
    "        # model = ols('sales ~ flyers', df).fit()\n",
    "        r2 = model.rsquared\n",
    "        print('R-squared = ', round(r2,3))\n",
    "        # F-Test for p value\n",
    "        f_pval = model.f_pvalue\n",
    "        print(\"p-value for model significance = \", f_pval)\n",
    "        \n",
    "        def plot_residuals(actual, predicted):\n",
    "            residuals = actual - predicted\n",
    "            plt.hlines(0, actual.min(), actual.max(), ls=':')\n",
    "            plt.scatter(actual, residuals)\n",
    "            plt.ylabel('residual ($y - \\hat{y}$)')\n",
    "            plt.xlabel('actual value ($y$)')\n",
    "            plt.title('Actual vs Residual')\n",
    "            return plt.gca()\n",
    "        \n",
    "        actual = evaluate.y \n",
    "        predicted = evaluate.yhat\n",
    "        plot_residuals(evaluate.y, evaluate.yhat)"
   ]
  },
  {
   "cell_type": "code",
   "execution_count": null,
   "metadata": {},
   "outputs": [],
   "source": [
    "linear_models(model, df.sales, df.rainfall)"
   ]
  },
  {
   "cell_type": "code",
   "execution_count": null,
   "metadata": {},
   "outputs": [],
   "source": [
    "# Use log_rainfall column as the feature (independent variable)\n",
    "\n",
    "df['log_rainfall'] = np.log(df.rainfall)"
   ]
  },
  {
   "cell_type": "code",
   "execution_count": null,
   "metadata": {},
   "outputs": [],
   "source": [
    "# Create and fit the model:\n",
    "\n",
    "model = ols('sales ~ log_rainfall', data = df).fit()"
   ]
  },
  {
   "cell_type": "code",
   "execution_count": null,
   "metadata": {},
   "outputs": [],
   "source": [
    "linear_models(model, df.sales, df.log_rainfall)"
   ]
  },
  {
   "cell_type": "code",
   "execution_count": null,
   "metadata": {},
   "outputs": [],
   "source": [
    "model_function(model, df.sales, df.log_rainfall)"
   ]
  },
  {
   "cell_type": "code",
   "execution_count": null,
   "metadata": {},
   "outputs": [],
   "source": [
    "model_temp = ols('sales ~ temperature', data = df).fit()"
   ]
  },
  {
   "cell_type": "code",
   "execution_count": null,
   "metadata": {},
   "outputs": [],
   "source": [
    "model_function(model_temp, df.sales, df.temperature)"
   ]
  },
  {
   "cell_type": "code",
   "execution_count": null,
   "metadata": {},
   "outputs": [],
   "source": []
  }
 ],
 "metadata": {
  "kernelspec": {
   "display_name": "Python 3",
   "language": "python",
   "name": "python3"
  },
  "language_info": {
   "codemirror_mode": {
    "name": "ipython",
    "version": 3
   },
   "file_extension": ".py",
   "mimetype": "text/x-python",
   "name": "python",
   "nbconvert_exporter": "python",
   "pygments_lexer": "ipython3",
   "version": "3.7.9"
  }
 },
 "nbformat": 4,
 "nbformat_minor": 4
}
